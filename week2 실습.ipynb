{
 "cells": [
  {
   "cell_type": "markdown",
   "metadata": {},
   "source": [
    "# 2주차 실습"
   ]
  },
  {
   "cell_type": "markdown",
   "metadata": {},
   "source": [
    "#### 1. 출력 (ppt 13쪽)"
   ]
  },
  {
   "cell_type": "code",
   "execution_count": 1,
   "metadata": {},
   "outputs": [
    {
     "name": "stdout",
     "output_type": "stream",
     "text": [
      "Tom is 13 years old\n"
     ]
    }
   ],
   "source": [
    "name = 'Tom'\n",
    "age = 13\n",
    "print('%s is %d years old'%(name,age))"
   ]
  },
  {
   "cell_type": "code",
   "execution_count": 4,
   "metadata": {},
   "outputs": [
    {
     "name": "stdout",
     "output_type": "stream",
     "text": [
      "10 / 3 = 3.333\n"
     ]
    }
   ],
   "source": [
    "a, b = 10,3\n",
    "print(\"%d / %d = %0.3f\"%(a,b,a/b))"
   ]
  },
  {
   "cell_type": "markdown",
   "metadata": {},
   "source": [
    "#### 2. 차례로 몇 개의 동전으로 교환 할 수 있는가 & 나머지"
   ]
  },
  {
   "cell_type": "code",
   "execution_count": 6,
   "metadata": {},
   "outputs": [
    {
     "name": "stdout",
     "output_type": "stream",
     "text": [
      "교환할 금액을 입력하세요 : 7777\n",
      "500원 짜리 15 개\n",
      "100원 짜리 2 개\n",
      "50원 짜리 1 개\n",
      "10원 짜리 2 개\n",
      "나머지 7 원\n"
     ]
    }
   ],
   "source": [
    "price = int(input('교환할 금액을 입력하세요 : '))\n",
    "print('500원 짜리 %d 개'%(price/500))\n",
    "price %= 500\n",
    "print('100원 짜리 %d 개'%(price/100))\n",
    "price %= 100\n",
    "print('50원 짜리 %d 개'%(price/50))\n",
    "price %= 50\n",
    "print('10원 짜리 %d 개'%(price/10))\n",
    "print('나머지 %d 원'%(price%10))"
   ]
  },
  {
   "cell_type": "markdown",
   "metadata": {},
   "source": [
    "#### 3. 산술연산자 사칙연산"
   ]
  },
  {
   "cell_type": "code",
   "execution_count": 8,
   "metadata": {},
   "outputs": [
    {
     "name": "stdout",
     "output_type": "stream",
     "text": [
      "덧셈 : 8\n",
      "뺄셈 : -2\n",
      "곱셈 : 15\n",
      "나눗셈 : 0.6\n"
     ]
    }
   ],
   "source": [
    "a,b = 3,5\n",
    "print('덧셈 : %d'%(a+b))\n",
    "print('뺄셈 : %d'%(a-b))\n",
    "print('곱셈 : %d'%(a*b))\n",
    "print('나눗셈 : %0.1f'%(a/b))"
   ]
  },
  {
   "cell_type": "markdown",
   "metadata": {},
   "source": [
    "#### 4. 대입연산자"
   ]
  },
  {
   "cell_type": "code",
   "execution_count": 10,
   "metadata": {},
   "outputs": [
    {
     "name": "stdout",
     "output_type": "stream",
     "text": [
      "15\n",
      "10\n",
      "50\n",
      "10.0\n",
      "2.0\n",
      "2.0\n",
      "32.0\n"
     ]
    }
   ],
   "source": [
    "n = 10\n",
    "n+=5;\n",
    "print(n)\n",
    "n-=5;\n",
    "print(n)\n",
    "n*=5;\n",
    "print(n)\n",
    "n/=5;\n",
    "print(n)\n",
    "n//=5;\n",
    "print(n)\n",
    "n%=5;\n",
    "print(n)\n",
    "n**=5;\n",
    "print(n)"
   ]
  },
  {
   "cell_type": "markdown",
   "metadata": {},
   "source": [
    "#### bmi"
   ]
  },
  {
   "cell_type": "code",
   "execution_count": 14,
   "metadata": {},
   "outputs": [
    {
     "name": "stdout",
     "output_type": "stream",
     "text": [
      "키를 센치미터 단위로 입력하세요 : 170\n",
      "몸무게를 킬로그램 단위로 입력하세요 : 50\n",
      "당신의 BMI는 17.301038\n"
     ]
    }
   ],
   "source": [
    "height = float(input('키를 센치미터 단위로 입력하세요 : '))\n",
    "height /= 100\n",
    "weigth= int(input('몸무게를 킬로그램 단위로 입력하세요 : '))\n",
    "bmi = weigth / (height**2)\n",
    "print(\"당신의 BMI는 %f\" %bmi)"
   ]
  },
  {
   "cell_type": "markdown",
   "metadata": {},
   "source": [
    "### 퀴즈\n",
    "- 분자와 분모를 입력하고 몫과 나머지"
   ]
  },
  {
   "cell_type": "code",
   "execution_count": 16,
   "metadata": {},
   "outputs": [
    {
     "name": "stdout",
     "output_type": "stream",
     "text": [
      "분자를 입력하세요 : 10\n",
      "분모를 입력하세요 : 2\n",
      "나눗셈의 몫 : 5\n",
      "나눗셈의 나머지 : 0\n"
     ]
    }
   ],
   "source": [
    "numerator = int(input('분자를 입력하세요 : '))\n",
    "denominator = int(input('분모를 입력하세요 : '))\n",
    "print('나눗셈의 몫 : %d' %(numerator/denominator))\n",
    "print('나눗셈의 나머지 : %d'%(numerator%denominator))"
   ]
  },
  {
   "cell_type": "code",
   "execution_count": null,
   "metadata": {},
   "outputs": [],
   "source": []
  }
 ],
 "metadata": {
  "kernelspec": {
   "display_name": "Python 3",
   "language": "python",
   "name": "python3"
  },
  "language_info": {
   "codemirror_mode": {
    "name": "ipython",
    "version": 3
   },
   "file_extension": ".py",
   "mimetype": "text/x-python",
   "name": "python",
   "nbconvert_exporter": "python",
   "pygments_lexer": "ipython3",
   "version": "3.7.6"
  }
 },
 "nbformat": 4,
 "nbformat_minor": 4
}
