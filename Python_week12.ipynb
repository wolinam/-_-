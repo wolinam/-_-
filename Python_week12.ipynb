{
 "cells": [
  {
   "cell_type": "markdown",
   "metadata": {},
   "source": [
    "# 교양 파이썬 프로그래밍_12주차"
   ]
  },
  {
   "cell_type": "markdown",
   "metadata": {},
   "source": [
    "- 9주차 : 다양한 함수, 문자열, 컴프리헨션\n",
    "- 10주차 : 문자열, 사용자 정의 함수\n",
    "- 11주차 : 함수, 모듈, 패키지\n",
    "- 12주차 : 클래스 _ 파일의 재사용성 up! 매우 중요! **<span style = \"color : blue\">객체지향!**\n",
    "- 클래스, 인스턴스, 생성자, 메서드 이런 용어와 어떤 때에 사용하는지, 무엇인지 정확히 알고 있기!\n",
    "\n",
    "\n",
    "<span style = \"color : red\">**(클래스 : 재사용성이 강조되고, 데이터가 함수와 함께 저장이 가능함. / 메서드 : 클래스 내의 함수 / 인스턴스 : 클래스를 메모리에 올렸을 때 실제적으로 생기는 하나의 객체 / 생성자 : 인스턴스를 생성하면서, 필드 값을 초기화 시키는 함수)**"
   ]
  },
  {
   "cell_type": "markdown",
   "metadata": {},
   "source": [
    "### 클래스의 필요성\n",
    "- 함수\n",
    "    1. 일종의 기능을 정의한 소스코드\n",
    "    2. 데이터 자체를 저장하는 용도로 사용하지는 않음. 함수를 불러서 사용하면 끝난 것. 함수 안에 데이터가 저장되지 않음.\n",
    "- 클래스\n",
    "    1. 함수와 데이터를 담고 있는 변수를 함께 저장.\n",
    "    2. 값이 계속 남아있음.\n",
    "    3. 모든 데이터 타입은 클래스에 의해 생성된 것\n",
    "    4. <span style = \"color : blue\"> 여러 개의 변수와 함수들을 모아서 재사용할 수 있는 기능 제공 - 시프 때 자바에서처럼.\n",
    "    5. 클래스는 객체를 생성하기 위하여 변수와 함수를 모은 설계도\n",
    "    \n",
    "    \n",
    "- 객체와 클래스\n",
    "    1. 객체는 클래스에 의해 생성된 실체\n",
    "    2. 빵틀이 클래스, 빵틀에서 찍어져 나온 여러 개의 빵이 객체\n",
    "    3. 객체는 변수를 생성할 때마다 새로 생성되며, 고유한 id를 가짐\n",
    "    4. 식별자(id)는 객체가 생성될 때마다 새로 생성되므로 항상 값이 변함\n",
    "    5. 객체가 물리적으로 어디에 저장되어 있는지 찾아가게 해주는 일종의 주소 역할"
   ]
  },
  {
   "cell_type": "code",
   "execution_count": 1,
   "metadata": {},
   "outputs": [
    {
     "data": {
      "text/plain": [
       "str"
      ]
     },
     "execution_count": 1,
     "metadata": {},
     "output_type": "execute_result"
    }
   ],
   "source": [
    "# 모든 데이터 타입은 클래스에 의해 생성된 것\n",
    "\n",
    "text = '파이썬은 최고예요'\n",
    "type(text)"
   ]
  },
  {
   "cell_type": "code",
   "execution_count": 2,
   "metadata": {},
   "outputs": [
    {
     "data": {
      "text/plain": [
       "2812858467696"
      ]
     },
     "execution_count": 2,
     "metadata": {},
     "output_type": "execute_result"
    }
   ],
   "source": [
    "# id() : 클래스에 의해 생성된 '객체'의 식별자(id)를 반환하는 함수\n",
    "id(text)"
   ]
  },
  {
   "cell_type": "code",
   "execution_count": 21,
   "metadata": {},
   "outputs": [],
   "source": [
    "### 교수님 say : 메소드라는 용어 반드시 기억하기!!!!!!!\n",
    "\n",
    "#1. 클래스 선언_각 단어의 첫 음절을 대문자로_CarMotor\n",
    "class Car:\n",
    "    #자동차의 필드\n",
    "    color = ''\n",
    "    speed = 0\n",
    "    \n",
    "    #자동차의 메서드\n",
    "    def upSpeed(self,val):\n",
    "        self.speed += val    #자신의 클래스에 있는 speed변수\n",
    "        # c++이나 java에서는 this. 파이썬에서는 self\n",
    "        \n",
    "    def dwSpeed(self,val):\n",
    "        self.speed -= val"
   ]
  },
  {
   "cell_type": "code",
   "execution_count": 39,
   "metadata": {},
   "outputs": [
    {
     "name": "stdout",
     "output_type": "stream",
     "text": [
      "car1의 색상 : red, 속도 : 30\n",
      "\n",
      "car2의 색상 : blue, 속도 : 30\n",
      "\n"
     ]
    }
   ],
   "source": [
    "#2. 인스턴스 생성\n",
    "car1 = Car()\n",
    "#3. 필드 사용\n",
    "car1.color = 'red'\n",
    "car1.speed = 20\n",
    "\n",
    "car2 = Car()\n",
    "car2.color = 'blue'\n",
    "car2.speed = 50\n",
    "\n",
    "#3. 메서드 사용\n",
    "car1.upSpeed(10)\n",
    "print('car1의 색상 : %s, 속도 : %d\\n' %(car1.color,car1.speed))\n",
    "\n",
    "car2.dwSpeed(20)\n",
    "print('car2의 색상 : %s, 속도 : %d\\n' %(car2.color,car2.speed))"
   ]
  },
  {
   "cell_type": "markdown",
   "metadata": {},
   "source": [
    "### 지역 변수와 내장 메소드\n",
    "- 클래스에는 객체의 상태나 정보를 저장하기 위한 지역 변수와 객체에서만 사용할 수 있는 기능들을 정의한 내장메소드 존재\n",
    "- 모든 변수는 어떤 클래스에 의해 생성되었는지를 알려주는 변수인 '_ _class_ _'가짐\n",
    "- 클래스에 속해 있는 지역 변수를 '속성'이라고 함"
   ]
  },
  {
   "cell_type": "code",
   "execution_count": 26,
   "metadata": {},
   "outputs": [
    {
     "data": {
      "text/plain": [
       "str"
      ]
     },
     "execution_count": 26,
     "metadata": {},
     "output_type": "execute_result"
    }
   ],
   "source": [
    "text.__class__"
   ]
  },
  {
   "cell_type": "code",
   "execution_count": 27,
   "metadata": {},
   "outputs": [
    {
     "data": {
      "text/plain": [
       "'Python은 최고예요'"
      ]
     },
     "execution_count": 27,
     "metadata": {},
     "output_type": "execute_result"
    }
   ],
   "source": [
    "text.replace('파이썬','Python')"
   ]
  },
  {
   "cell_type": "code",
   "execution_count": 32,
   "metadata": {},
   "outputs": [
    {
     "ename": "TypeError",
     "evalue": "read_book() takes 0 positional arguments but 1 was given",
     "output_type": "error",
     "traceback": [
      "\u001b[1;31m---------------------------------------------------------------------------\u001b[0m",
      "\u001b[1;31mTypeError\u001b[0m                                 Traceback (most recent call last)",
      "\u001b[1;32m<ipython-input-32-5867a557576a>\u001b[0m in \u001b[0;36m<module>\u001b[1;34m\u001b[0m\n\u001b[0;32m      6\u001b[0m \u001b[0mreader1\u001b[0m \u001b[1;33m=\u001b[0m \u001b[0mBookReader\u001b[0m\u001b[1;33m(\u001b[0m\u001b[1;33m)\u001b[0m\u001b[1;33m\u001b[0m\u001b[1;33m\u001b[0m\u001b[0m\n\u001b[0;32m      7\u001b[0m \u001b[0mreader1\u001b[0m\u001b[1;33m.\u001b[0m\u001b[0mname\u001b[0m \u001b[1;33m=\u001b[0m \u001b[1;34m'Seonho'\u001b[0m\u001b[1;33m\u001b[0m\u001b[1;33m\u001b[0m\u001b[0m\n\u001b[1;32m----> 8\u001b[1;33m \u001b[0mreader1\u001b[0m\u001b[1;33m.\u001b[0m\u001b[0mread_book\u001b[0m\u001b[1;33m(\u001b[0m\u001b[1;33m)\u001b[0m \u001b[1;31m#이러면 메소드 호출 시 에러 발생\u001b[0m\u001b[1;33m\u001b[0m\u001b[1;33m\u001b[0m\u001b[0m\n\u001b[0m",
      "\u001b[1;31mTypeError\u001b[0m: read_book() takes 0 positional arguments but 1 was given"
     ]
    }
   ],
   "source": [
    "class BookReader:\n",
    "    name = str()\n",
    "    def read_book():\n",
    "        print(name+' is reading Book!!') #이 name이 어디의 name인지 찾지 못해서 에러남.\n",
    "        \n",
    "reader1 = BookReader()\n",
    "reader1.name = 'Seonho'\n",
    "reader1.read_book() #이러면 메소드 호출 시 에러 발생. why? self를 안써서!"
   ]
  },
  {
   "cell_type": "code",
   "execution_count": 33,
   "metadata": {},
   "outputs": [
    {
     "name": "stdout",
     "output_type": "stream",
     "text": [
      "Seonho is reading Book!!\n"
     ]
    }
   ],
   "source": [
    "# 자기 안에 있는 인자 값을 사용하려면 self를 써줘야함! 그냥 쓰면 안됨!\n",
    "# self는 객체 생성 시 본인의 객체를 인자 값으로 넘김으로써, 함수 내에서 클래스의 속성 및 메소드에 접근할 수 있도록 함.\n",
    "class BookReader:\n",
    "    name = str()\n",
    "    def read_book(self):\n",
    "        print(self.name+' is reading Book!!')\n",
    "        \n",
    "reader1 = BookReader()\n",
    "reader1.name = 'Seonho'\n",
    "reader1.read_book()"
   ]
  },
  {
   "cell_type": "markdown",
   "metadata": {},
   "source": [
    "### 생성자 : 인스턴스를 생성하면서, 그 안에 값을 초기화 시킬 수 있는 것!\n",
    "- 생성자 : 인스턴스를 생성하면서, 필드 값을 초기화 시키는 함수\n",
    "- 형태 _ _init_ _()\n",
    "- 위의 class나, 지금 init처럼 언더바가 2개씩 붙은 것은 파이썬에서 예약해 놓은 것\n",
    "- 프로그램을 작성 시, 이 이름을 사용해서 새로운 함수나 변수명을 만들지 말 것"
   ]
  },
  {
   "cell_type": "code",
   "execution_count": 48,
   "metadata": {},
   "outputs": [
    {
     "name": "stdout",
     "output_type": "stream",
     "text": [
      "0\n"
     ]
    }
   ],
   "source": [
    "class Car:\n",
    "    color = \"\"\n",
    "    speed = 0\n",
    "    \n",
    "    def __init__(self):\n",
    "        self.color = \"rose\"\n",
    "        self.speed = 0\n",
    "        \n",
    "    def upSpeed(self,val):\n",
    "        self.speed += val\n",
    "        \n",
    "    def dwSpeed(self,val):\n",
    "        self.speed -= val\n",
    "        \n",
    "\n",
    "##메인코드\n",
    "myCar3 = Car()\n",
    "\n",
    "print('%d' % myCar3.speed)"
   ]
  },
  {
   "cell_type": "code",
   "execution_count": 49,
   "metadata": {},
   "outputs": [
    {
     "data": {
      "text/plain": [
       "'rose'"
      ]
     },
     "execution_count": 49,
     "metadata": {},
     "output_type": "execute_result"
    }
   ],
   "source": [
    "myCar3.color"
   ]
  },
  {
   "cell_type": "code",
   "execution_count": 50,
   "metadata": {},
   "outputs": [
    {
     "name": "stdout",
     "output_type": "stream",
     "text": [
      "rose, 30\n",
      "brick, 70\n"
     ]
    }
   ],
   "source": [
    "## 매개변수가 있는 생성자\n",
    "class Car:\n",
    "    color = \"\"\n",
    "    speed = 0\n",
    "    \n",
    "    def __init__(self,val1,val2):\n",
    "        self.color = val1\n",
    "        self.speed = val2\n",
    "        \n",
    "    def upSpeed(self,val):\n",
    "        self.speed += val\n",
    "        \n",
    "    def dwSpeed(self,val):\n",
    "        self.speed -= val\n",
    "        \n",
    "\n",
    "##메인코드\n",
    "myCar4 = Car('rose',30)\n",
    "myCar5 = Car('brick',70)\n",
    "\n",
    "print('%s, %d' % (myCar4.color,myCar4.speed))\n",
    "print('%s, %d' % (myCar5.color,myCar5.speed))"
   ]
  },
  {
   "cell_type": "code",
   "execution_count": null,
   "metadata": {},
   "outputs": [],
   "source": []
  }
 ],
 "metadata": {
  "kernelspec": {
   "display_name": "Python 3",
   "language": "python",
   "name": "python3"
  },
  "language_info": {
   "codemirror_mode": {
    "name": "ipython",
    "version": 3
   },
   "file_extension": ".py",
   "mimetype": "text/x-python",
   "name": "python",
   "nbconvert_exporter": "python",
   "pygments_lexer": "ipython3",
   "version": "3.7.6"
  }
 },
 "nbformat": 4,
 "nbformat_minor": 4
}
