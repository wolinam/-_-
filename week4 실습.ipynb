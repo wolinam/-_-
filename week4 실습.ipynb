{
 "cells": [
  {
   "cell_type": "markdown",
   "metadata": {},
   "source": [
    "# 4주차 실습"
   ]
  },
  {
   "cell_type": "markdown",
   "metadata": {},
   "source": [
    "## 반복문"
   ]
  },
  {
   "cell_type": "markdown",
   "metadata": {},
   "source": [
    "### 퀴즈_1~100까지 홀수제외 합, 1000이상 되는 시점"
   ]
  },
  {
   "cell_type": "code",
   "execution_count": 2,
   "metadata": {},
   "outputs": [
    {
     "name": "stdout",
     "output_type": "stream",
     "text": [
      "1~100까지의 홀수의 합에서 1000이상 되는 숫자 : 63\n"
     ]
    }
   ],
   "source": [
    "sum ,i=0,0\n",
    "\n",
    "for i in range(1,100,2):\n",
    "    sum += i\n",
    "    \n",
    "    if (sum>=1000):\n",
    "        break\n",
    "print(\"1~100까지의 홀수의 합에서 1000이상 되는 숫자 : %d\"% i)\n"
   ]
  },
  {
   "cell_type": "markdown",
   "metadata": {},
   "source": [
    "### 1~100의 합, 대신 3의 배수 제외하고 더하기"
   ]
  },
  {
   "cell_type": "code",
   "execution_count": 5,
   "metadata": {},
   "outputs": [
    {
     "name": "stdout",
     "output_type": "stream",
     "text": [
      "1~100의 합계 (3의 배수 제외) : 3367\n"
     ]
    }
   ],
   "source": [
    "sum ,i=0,0\n",
    "\n",
    "for i in range(1,101,1):\n",
    "    \n",
    "    if ( i %3 == 0):\n",
    "        continue\n",
    "    sum += i\n",
    "        \n",
    "print(\"1~100의 합계 (3의 배수 제외) : %d\"% sum)\n"
   ]
  },
  {
   "cell_type": "markdown",
   "metadata": {},
   "source": [
    "### 1~100까지 합, 1000이상 되는 시점_for"
   ]
  },
  {
   "cell_type": "code",
   "execution_count": 6,
   "metadata": {},
   "outputs": [
    {
     "name": "stdout",
     "output_type": "stream",
     "text": [
      "1부터 더했을 때, 1000이상이 되는 시점은 숫자 45 입니다.\n"
     ]
    }
   ],
   "source": [
    "sum ,i=0,0\n",
    "\n",
    "for i in range(1,100,1):\n",
    "    sum += i\n",
    "    \n",
    "    if (sum>=1000):\n",
    "        break\n",
    "print(\"1부터 더했을 때, 1000이상이 되는 시점은 숫자 %d 입니다.\"% i)\n",
    "\n",
    "#45"
   ]
  },
  {
   "cell_type": "markdown",
   "metadata": {},
   "source": [
    "### 1~100까지 합, 1000이상 되는 시점_while\n",
    "\n",
    "### 자동으로 i가 증감하는 for문과 달리, while은 i를 직접 증감 시켜야함에 주의!!"
   ]
  },
  {
   "cell_type": "code",
   "execution_count": null,
   "metadata": {},
   "outputs": [],
   "source": [
    "sum ,i=0,0\n",
    "\n",
    "while(i<101):\n",
    "    sum += i\n",
    "    \n",
    "    if (sum>=1000):\n",
    "        break\n",
    "    i+=1\n",
    "\n",
    "# 자동으로 i가 증감하는 for문과 달리, while은 i를 직접 증감 시켜야함에 주의!!\n",
    "#i를 직접 증감 시키는 문장을 작성해야함\n",
    "\n",
    "print(\"1부터 더했을 때, 1000이상이 되는 시점은 숫자 %d 입니다.\"% i)\n",
    "\n",
    "#45"
   ]
  },
  {
   "cell_type": "code",
   "execution_count": null,
   "metadata": {},
   "outputs": [],
   "source": []
  }
 ],
 "metadata": {
  "kernelspec": {
   "display_name": "Python 3",
   "language": "python",
   "name": "python3"
  },
  "language_info": {
   "codemirror_mode": {
    "name": "ipython",
    "version": 3
   },
   "file_extension": ".py",
   "mimetype": "text/x-python",
   "name": "python",
   "nbconvert_exporter": "python",
   "pygments_lexer": "ipython3",
   "version": "3.7.6"
  }
 },
 "nbformat": 4,
 "nbformat_minor": 4
}
