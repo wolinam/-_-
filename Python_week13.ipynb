{
 "cells": [
  {
   "cell_type": "markdown",
   "metadata": {},
   "source": [
    "# 교양 파이썬 프로그래밍_13주차"
   ]
  },
  {
   "cell_type": "markdown",
   "metadata": {},
   "source": [
    "- 9주차 : 다양한 함수, 문자열, 컴프리헨션\n",
    "- 10주차 : 문자열, 사용자 정의 함수\n",
    "- 11주차 : 함수, 모듈, 패키지\n",
    "- 12주차 : 클래스\n",
    "- 13주차 : 클래스. 상속과 오버라이딩 꼭!!!"
   ]
  },
  {
   "cell_type": "code",
   "execution_count": 1,
   "metadata": {},
   "outputs": [
    {
     "name": "stdout",
     "output_type": "stream",
     "text": [
      "rose, 30\n",
      "brick, 70\n"
     ]
    }
   ],
   "source": [
    "#12주차 remind\n",
    "\n",
    "class Car:\n",
    "    color = \"\"\n",
    "    speed = 0\n",
    "    \n",
    "    def __init__(self,val1,val2): ##반드시 알아둬야함!\n",
    "        self.color = val1\n",
    "        self.speed = val2\n",
    "        \n",
    "    def upSpeed(self,val):\n",
    "        self.speed += val\n",
    "        \n",
    "    def dwSpeed(self,val):\n",
    "        self.speed -= val\n",
    "        \n",
    "\n",
    "##메인코드\n",
    "myCar4 = Car('rose',30)\n",
    "myCar5 = Car('brick',70)\n",
    "\n",
    "print('%s, %d' % (myCar4.color,myCar4.speed))\n",
    "print('%s, %d' % (myCar5.color,myCar5.speed))"
   ]
  },
  {
   "cell_type": "markdown",
   "metadata": {},
   "source": [
    "### 클래스 변수와 인스턴스 변수\n",
    "- 클래스 안에 만드는 방법은 동일. 그러나 접근 방식이 다름.\n",
    "- 클래스 변수는 클래스명.변수이름으로 접근. 그러나 인스턴스 변수는 self.변수명으로 접근.\n",
    "\n",
    "\n",
    "- 인스턴스 변수 : 객체를 생성해야 비로소 사용할 수 있는 변수\n",
    "- 클래스 변수 : 클래스 안에 공간이 할당된 변수. 여러 인스턴스가 클래스 변수 공간을 함께 사용\n",
    "- 클래스명.클래스변수명 / 인스턴스.클래스변수명"
   ]
  },
  {
   "cell_type": "code",
   "execution_count": 5,
   "metadata": {},
   "outputs": [
    {
     "name": "stdout",
     "output_type": "stream",
     "text": [
      "자동차1의 현재 속도는 30 km/h, 생상된 자동차는 총 1대 입니다.\n",
      "자동차1의 현재 속도는 30 km/h, 생상된 자동차는 총 2대 입니다.\n"
     ]
    }
   ],
   "source": [
    "class Car:\n",
    "    color = \"\"\n",
    "    speed = 0\n",
    "    count = 0 #클래스 변수\n",
    "    \n",
    "    def __init__(self):\n",
    "        self.color = \"\"\n",
    "        self.speed = 0\n",
    "        Car.count +=1\n",
    "        \n",
    "\n",
    "##변수 선언\n",
    "myCar1, myCar2 = None, None\n",
    "\n",
    "##메인 코드\n",
    "myCar1 = Car()\n",
    "myCar1.speed=30\n",
    "print('자동차1의 현재 속도는 %d km/h, 생상된 자동차는 총 %d대 입니다.' % (myCar1.speed,Car.count))\n",
    "#init에서 count +=1 되어서 count = 1이 됨.\n",
    "\n",
    "myCar2 = Car()\n",
    "myCar2.speed=60\n",
    "print('자동차1의 현재 속도는 %d km/h, 생상된 자동차는 총 %d대 입니다.' % (myCar1.speed,myCar2.count))\n",
    "# myCar1()을 생성할 때 +=1이 되었으므로, myCar2()를 만들 때는 1에 이어서 2가 됨."
   ]
  },
  {
   "cell_type": "markdown",
   "metadata": {},
   "source": [
    " ### 클래스 변수와 인스턴스 변수의 이해\n",
    " - 클래스 변수 : 클래스의 속성 값으로 설정하여 앞으로 생성할 모든 객체에 같은 값이 설정되는 변수. 서로 값 공유 & 값 변경 가능\n",
    " - 인스턴스 변수 : 서로 따로 사용함. 객체가 생성될 때마다 새로운 값이 할당되며, 서로 다른 객체 간에는 값을 공유할 수 없음."
   ]
  },
  {
   "cell_type": "code",
   "execution_count": 6,
   "metadata": {},
   "outputs": [],
   "source": [
    "class BookReader:\n",
    "    country = 'South Korea'\n",
    "    def __init__(self,name): #인스턴스 변수\n",
    "        self.name = name \n",
    "    def read_book(self):\n",
    "        print(self.name + ' is reading book!')"
   ]
  },
  {
   "cell_type": "code",
   "execution_count": 8,
   "metadata": {},
   "outputs": [
    {
     "data": {
      "text/plain": [
       "'South Korea'"
      ]
     },
     "execution_count": 8,
     "metadata": {},
     "output_type": "execute_result"
    }
   ],
   "source": [
    "read1 = BookReader('Elle')\n",
    "read2 = BookReader('Anna')\n",
    "read1.country"
   ]
  },
  {
   "cell_type": "code",
   "execution_count": 9,
   "metadata": {},
   "outputs": [
    {
     "data": {
      "text/plain": [
       "'South Korea'"
      ]
     },
     "execution_count": 9,
     "metadata": {},
     "output_type": "execute_result"
    }
   ],
   "source": [
    "read2.country #클래스 변수"
   ]
  },
  {
   "cell_type": "code",
   "execution_count": 10,
   "metadata": {},
   "outputs": [
    {
     "name": "stdout",
     "output_type": "stream",
     "text": [
      "Elle is reading book!\n"
     ]
    }
   ],
   "source": [
    "read1.read_book()"
   ]
  },
  {
   "cell_type": "code",
   "execution_count": 11,
   "metadata": {},
   "outputs": [
    {
     "name": "stdout",
     "output_type": "stream",
     "text": [
      "Anna is reading book!\n"
     ]
    }
   ],
   "source": [
    "read2.read_book()"
   ]
  },
  {
   "cell_type": "markdown",
   "metadata": {},
   "source": [
    "### 클래스 변수와 인스턴스 변수 사용시, 섞어 쓰지 않도록 주의"
   ]
  },
  {
   "cell_type": "code",
   "execution_count": 21,
   "metadata": {},
   "outputs": [],
   "source": [
    "class Dog:\n",
    "    tricks = list()\n",
    "    def __init__(self,name): #name 인스턴스 변수\n",
    "        self.name = name\n",
    "    def add_trick(self,trick):#생성자에서 sefl로 초기화하지 않았기 때문에 trick은 클래스 변수.\n",
    "        self.tricks.append(trick) #그런데 클래스 변수를 self를 이용해서 잘못 접근함.\n",
    "        \n",
    "fido = Dog('fido')\n",
    "buddy = Dog('buddy')\n",
    "fido.add_trick('roll_over')\n",
    "buddy.add_trick('play_dead')"
   ]
  },
  {
   "cell_type": "code",
   "execution_count": 22,
   "metadata": {},
   "outputs": [
    {
     "data": {
      "text/plain": [
       "['roll_over', 'play_dead']"
      ]
     },
     "execution_count": 22,
     "metadata": {},
     "output_type": "execute_result"
    }
   ],
   "source": [
    "fido.tricks #위에서 변수가 잘못 사용되어서, 변수가 두 인스턴스에 공유됨."
   ]
  },
  {
   "cell_type": "code",
   "execution_count": 23,
   "metadata": {},
   "outputs": [],
   "source": [
    "class Dog:\n",
    "    def __init__(self,name): #name 인스턴스 변수\n",
    "        self.name = name\n",
    "        self.tricks = list()\n",
    "    def add_trick(self,trick):\n",
    "        self.tricks.append(trick)\n",
    "        \n",
    "fido = Dog('fido')\n",
    "buddy = Dog('buddy')\n",
    "fido.add_trick('roll_over')\n",
    "buddy.add_trick('play_dead')"
   ]
  },
  {
   "cell_type": "code",
   "execution_count": 24,
   "metadata": {},
   "outputs": [
    {
     "data": {
      "text/plain": [
       "['roll_over']"
      ]
     },
     "execution_count": 24,
     "metadata": {},
     "output_type": "execute_result"
    }
   ],
   "source": [
    "fido.tricks #올바른 사용"
   ]
  },
  {
   "cell_type": "markdown",
   "metadata": {},
   "source": [
    "## 다른 클래스 호출"
   ]
  },
  {
   "cell_type": "markdown",
   "metadata": {},
   "source": [
    "### random 모듈\n",
    "- 모듈은 클래스들을 모아놓은 하나의 단위\n",
    "- 인수는 시작 숫자와 종료 숫자\n",
    "- random 모듈과 관련 함수가 내장되어 있지 않으므로 파이썬이 인식하지 못함. import로 불러와야함."
   ]
  },
  {
   "cell_type": "code",
   "execution_count": 25,
   "metadata": {},
   "outputs": [
    {
     "data": {
      "text/plain": [
       "7"
      ]
     },
     "execution_count": 25,
     "metadata": {},
     "output_type": "execute_result"
    }
   ],
   "source": [
    "import random\n",
    "random.randint(1,10) #1~10 사이의 난수 발생"
   ]
  },
  {
   "cell_type": "markdown",
   "metadata": {},
   "source": [
    "## 클래스의 상속\n",
    "- 상속( inheritance ) : 기존 클래스에 있는 필드와 매서드를 그대로 물려받는 새로운 클래스를 만드는 것\n",
    "- 공통된 내용을 자동차 클래스에 두고 상속을 받음으로써 일관되고 효율적인 프로그래밍 가능\n",
    "- 상위 클래스 : 슈퍼 클래스 / 부모 클래스\n",
    "- 하위 클래스 : 서브 클래스 / 자식 클래스\n",
    "- 상속받은 클래스의 매서드를 재정의하여 사용하는 것 = 오버라이딩"
   ]
  },
  {
   "cell_type": "code",
   "execution_count": 31,
   "metadata": {},
   "outputs": [
    {
     "name": "stdout",
     "output_type": "stream",
     "text": [
      "트럭 --> 현재 속도(슈퍼 클래스) : 200\n",
      "세단 --> 현재 속도(서브 클래스) : 150\n"
     ]
    }
   ],
   "source": [
    "# 매서드 오버라이딩\n",
    "class Car():\n",
    "    speed = 0\n",
    "    def upSpeed(self,value):\n",
    "        self.speed += value\n",
    "        print('현재 속도(슈퍼 클래스) : %d' %self.speed)\n",
    "        \n",
    "class Sedan(Car): #상속 - 상속 받았으므로 speed 변수 선언하지 않아도 사용가능\n",
    "    def upSpeed(self,value): #재정의 = 오버라이딩\n",
    "        self.speed += value\n",
    "        if self.speed > 150: #기존 매소드 재정의. 즉, 서브 클래스의 upSpeed() 매서드를 다시 만듦.\n",
    "            self.speed = 150\n",
    "        print('현재 속도(서브 클래스) : %d' %self.speed)\n",
    "        \n",
    "class Truck(Car):\n",
    "    pass #Car에 있는 내용을 재정의하지 않고 그대로 쓰겠다.\n",
    "\n",
    "sedan1, truck1 = None, None\n",
    "sedan1 = Sedan()\n",
    "truck1 = Truck()\n",
    "print('트럭 --> ', end = '')\n",
    "truck1.upSpeed(200)\n",
    "print('세단 --> ', end = '')\n",
    "sedan1.upSpeed(200)"
   ]
  },
  {
   "cell_type": "markdown",
   "metadata": {},
   "source": [
    "### 클래스의 특별한 매서드\n",
    "- _ _del_ _() : 소멸자 / 사용 후 삭제 안하면 메모리에 문제\n",
    "- _ _repr_ _() : 인스턴스를 print()문으로 출력할 때 실행\n",
    "- _ _add_ _() : 인스턴스 사이의 덧셈 작업 가능\n",
    "- 비교 매서드 : _ _It _() / _ _le_ _() / _ _gt_ _() / _ _ge_ _() / _ _eq_ _() / _ _ne_ _()\n",
    "- 소멸자 외에는 거의 사용하지 않음"
   ]
  },
  {
   "cell_type": "code",
   "execution_count": 34,
   "metadata": {},
   "outputs": [
    {
     "name": "stdout",
     "output_type": "stream",
     "text": [
      "선의길이 : 200\n"
     ]
    }
   ],
   "source": [
    "class Line:\n",
    "    length = 0\n",
    "    def __init__(self,length):\n",
    "        self.length = length\n",
    "    def __def__(self):\n",
    "        print(self.length, '길이의 선이 삭제되었습니다.')\n",
    "    def __repr__(self):\n",
    "        return '선의길이 : '+str(self.length)\n",
    "    \n",
    "line1 = Line(200)\n",
    "print(line1)"
   ]
  },
  {
   "cell_type": "code",
   "execution_count": 35,
   "metadata": {},
   "outputs": [],
   "source": [
    "del(line1)"
   ]
  },
  {
   "cell_type": "markdown",
   "metadata": {},
   "source": [
    "### 추상 매서드\n",
    "- 서브 클래스에서 매서드를 오바라이딩\n",
    "- 슈퍼 클래스에서는 빈 껍질의 매서드만 만들어 놓고, 내용은 pass로 채움"
   ]
  },
  {
   "cell_type": "code",
   "execution_count": 36,
   "metadata": {},
   "outputs": [
    {
     "name": "stdout",
     "output_type": "stream",
     "text": [
      "Sub에서 method를 오버라이딩함\n"
     ]
    }
   ],
   "source": [
    "class Super:\n",
    "    def method(self):\n",
    "        pass\n",
    "    #rais NotImplementedError() #꼭 매서드를 오버라이딩 시키고 싶다! 할 때 사용\n",
    "class Sub(Super):\n",
    "    def method(self):\n",
    "        print('Sub에서 method를 오버라이딩함')\n",
    "class Sub2(Super):\n",
    "    pass\n",
    "\n",
    "sub1 = Sub()\n",
    "sub2 = Sub2()\n",
    "sub1.method()\n",
    "sub2.method()"
   ]
  },
  {
   "cell_type": "markdown",
   "metadata": {},
   "source": [
    "### 멀티 스레드\n",
    "- 프로그램 하나에서 여러 개를 동시에 처리할 수 있도록 제공하는 기능"
   ]
  },
  {
   "cell_type": "code",
   "execution_count": 1,
   "metadata": {},
   "outputs": [],
   "source": [
    "import time\n",
    "\n",
    "class Race:\n",
    "    carName = ''\n",
    "    def __init__(self,name):\n",
    "        self.carName = name\n",
    "    def runCar(self):\n",
    "        for i in range(0,3):\n",
    "            carStr = self.carName + str(i) + '~~~ 달립니다.\\n'\n",
    "            print(carStr, end = '')\n",
    "            time.sleep(0.1) #0.1초 멈췄다가 다음 반복 실행 1-> 2-> 3\n",
    "                                #시간 조절"
   ]
  },
  {
   "cell_type": "code",
   "execution_count": 2,
   "metadata": {},
   "outputs": [
    {
     "name": "stdout",
     "output_type": "stream",
     "text": [
      "1자동차0~~~ 달립니다.\n",
      "1자동차1~~~ 달립니다.\n",
      "1자동차2~~~ 달립니다.\n",
      "2자동차0~~~ 달립니다.\n",
      "2자동차1~~~ 달립니다.\n",
      "2자동차2~~~ 달립니다.\n",
      "3자동차0~~~ 달립니다.\n",
      "3자동차1~~~ 달립니다.\n",
      "3자동차2~~~ 달립니다.\n"
     ]
    }
   ],
   "source": [
    "car1 = Race('1자동차')\n",
    "car2 = Race('2자동차')\n",
    "car3 = Race('3자동차')\n",
    "car1.runCar() #car1의 0,1,2 반복문 실행 완료 후, car2 반복문 실행\n",
    "car2.runCar()\n",
    "car3.runCar()"
   ]
  },
  {
   "cell_type": "code",
   "execution_count": 3,
   "metadata": {},
   "outputs": [
    {
     "name": "stdout",
     "output_type": "stream",
     "text": [
      "!자동차0~~~ 달립니다.\n",
      "@자동차0~~~ 달립니다.\n",
      "#자동차0~~~ 달립니다.\n",
      "!자동차1~~~ 달립니다.\n",
      "#자동차1~~~ 달립니다.\n",
      "@자동차1~~~ 달립니다.\n",
      "!자동차2~~~ 달립니다.\n",
      "#자동차2~~~ 달립니다.\n",
      "@자동차2~~~ 달립니다.\n"
     ]
    }
   ],
   "source": [
    "# 자동차들을 0.1초 간격마다 각각 출발시키는 것이 아니라, 동시에 출발시키고 싶음\n",
    "import threading\n",
    "import time\n",
    "\n",
    "class Race:\n",
    "    carName = ''\n",
    "    def __init__(self,name):\n",
    "        self.carName = name\n",
    "    def runCar(self):\n",
    "        for i in range(0,3):\n",
    "            carStr = self.carName + str(i) + '~~~ 달립니다.\\n'\n",
    "            print(carStr, end = '')\n",
    "            time.sleep(0.5) \n",
    "            \n",
    "car1 = Race('!자동차')\n",
    "car2 = Race('@자동차')\n",
    "car3 = Race('#자동차')\n",
    "\n",
    "#스레드 3개 생성_메서드명을 스레드로 생성\n",
    "th1 = threading.Thread(target = car1.runCar)\n",
    "th2 = threading.Thread(target = car2.runCar)\n",
    "th3 = threading.Thread(target = car3.runCar)\n",
    "\n",
    "th1.start() #car1의 첫 번째 수행, car2의 첫 번째 수행, car3의 첫 번째 수행이 동시 실행\n",
    "th2.start() #각 자동차의 두 번째 반복문\n",
    "th3.start() #세 번째\n",
    "\n",
    "#위의 코드는 위에서 부터 순서대로, 각 자동차에 대한 반복문을 하나씩 완료함.\n",
    "#그러나 스레드는 반복문이 실행될 때 위에서 부터 순차적으로가 아니라, 모든 명령문을 동시 수행함."
   ]
  },
  {
   "cell_type": "markdown",
   "metadata": {},
   "source": [
    "### 멀티 프로세싱\n",
    "- 동시에 CPU를 여러 개 사용_슈퍼컴퓨팅처럼?\n",
    "- 위의 멀티 스레트만 주로 보기"
   ]
  },
  {
   "cell_type": "code",
   "execution_count": 20,
   "metadata": {},
   "outputs": [],
   "source": [
    "import multiprocessing\n",
    "import time\n",
    "\n",
    "class Race:\n",
    "    carName = ''\n",
    "    def __init__(self,name):\n",
    "        self.carName = name\n",
    "    def runCar(self):\n",
    "        for i in range(0,3):\n",
    "            carStr = self.carName + str(i) + '~~~ 달립니다.\\n'\n",
    "            print(carStr, end = '')\n",
    "            time.sleep(0.5)\n",
    "\n",
    "if __name__=='__main__':\n",
    "    car1 = Race('!자동차')\n",
    "    car2 = Race('@자동차')\n",
    "    car3 = Race('#자동차')\n",
    "    \n",
    "    mp1 = multiprocessing.Process(target=car1.runCar)\n",
    "    mp2 = multiprocessing.Process(target=car2.runCar)\n",
    "    mp3 = multiprocessing.Process(target=car3.runCar)\n",
    "    \n",
    "    mp1.start()\n",
    "    mp2.start()\n",
    "    mp3.start()\n",
    "    mp1.join()\n",
    "    mp2.join()\n",
    "    mp3.join()"
   ]
  },
  {
   "cell_type": "code",
   "execution_count": null,
   "metadata": {},
   "outputs": [],
   "source": []
  }
 ],
 "metadata": {
  "kernelspec": {
   "display_name": "Python 3",
   "language": "python",
   "name": "python3"
  },
  "language_info": {
   "codemirror_mode": {
    "name": "ipython",
    "version": 3
   },
   "file_extension": ".py",
   "mimetype": "text/x-python",
   "name": "python",
   "nbconvert_exporter": "python",
   "pygments_lexer": "ipython3",
   "version": "3.7.6"
  }
 },
 "nbformat": 4,
 "nbformat_minor": 4
}
