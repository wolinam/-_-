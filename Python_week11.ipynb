{
 "cells": [
  {
   "cell_type": "markdown",
   "metadata": {},
   "source": [
    "# 교양 파이썬 프로그래밍_11주차"
   ]
  },
  {
   "cell_type": "markdown",
   "metadata": {},
   "source": [
    "- 10주차 : 사용자 정의 함수\n",
    "- 11주차 : 패키지까지는 제대로 기억하고 그 뒷 내용 제너레이터 같은 것은 이런게 있다 정도로만 알아두기."
   ]
  },
  {
   "cell_type": "code",
   "execution_count": 1,
   "metadata": {},
   "outputs": [
    {
     "name": "stdout",
     "output_type": "stream",
     "text": [
      "func1()에서 돌려준 값 ==> 100\n",
      "반환값이 없는 함수 실행\n"
     ]
    }
   ],
   "source": [
    "# 함수의 반환값과 매개변수\n",
    "# 반환값이 있는 함수\n",
    "def func1():\n",
    "    result = 100\n",
    "    return result\n",
    "\n",
    "def func2():\n",
    "    print('반환값이 없는 함수 실행')\n",
    "\n",
    "#전역변수 선언\n",
    "hap = 0\n",
    "#메인코드\n",
    "hap = func1()\n",
    "print('func1()에서 돌려준 값 ==> %d' %hap)\n",
    "func2()"
   ]
  },
  {
   "cell_type": "markdown",
   "metadata": {},
   "source": [
    "## 퀴즈4\n",
    "- 두 정수를 매개변수로 받아 둘 중에서 더 큰 수를 출력하는 함수를 작성해보자"
   ]
  },
  {
   "cell_type": "code",
   "execution_count": 2,
   "metadata": {},
   "outputs": [
    {
     "name": "stdout",
     "output_type": "stream",
     "text": [
      "첫 번째 정수를 입력하세요 : 56\n",
      "두 번째 정수를 입력하세요 : 72\n",
      "72\n"
     ]
    }
   ],
   "source": [
    "def comp(a,b):\n",
    "    if (a>=b):\n",
    "        return a\n",
    "    else:\n",
    "        return b\n",
    "\n",
    "a1 = int(input('첫 번째 정수를 입력하세요 : '))\n",
    "b1 = int(input('두 번째 정수를 입력하세요 : '))\n",
    "\n",
    "print('%d'%comp(a1,b1))"
   ]
  },
  {
   "cell_type": "markdown",
   "metadata": {},
   "source": [
    "### 반환값이 여러 개인 함수\n",
    "- 리스트를 반환값으로 사용"
   ]
  },
  {
   "cell_type": "code",
   "execution_count": 5,
   "metadata": {},
   "outputs": [
    {
     "name": "stdout",
     "output_type": "stream",
     "text": [
      "multi()에서 돌려준 값 ==> 300, -100\n"
     ]
    }
   ],
   "source": [
    "def multi(v1, v2): #매개변수의 갯수를 2개로 설정하고 전달\n",
    "    retList = []\n",
    "    res1 = v1 + v2\n",
    "    res2 = v1 - v2\n",
    "    retList.append(res1)\n",
    "    retList.append(res2)\n",
    "    return retList\n",
    "#반환값이 결국 하나임. 그러나 그 안에 값이 여러 개.\n",
    "\n",
    "myList = []\n",
    "hap, sub = 0,0\n",
    "myList = multi(100,200)\n",
    "hap = myList[0]\n",
    "sub = myList[1]\n",
    "print('multi()에서 돌려준 값 ==> %d, %d' %(hap,sub))"
   ]
  },
  {
   "cell_type": "markdown",
   "metadata": {},
   "source": [
    "- pass 예약어 : 이름만 만들어 놓고 내용은 pass. 내용은 아무것도 처리하지 않고 비워놓음.\n",
    "- 코드를 짜다가 중간에 내용을 잠시 비워두고 건너뛸 때 유용"
   ]
  },
  {
   "cell_type": "code",
   "execution_count": 6,
   "metadata": {},
   "outputs": [],
   "source": [
    "if True:\n",
    "    pass\n",
    "else:\n",
    "    print('거짓이네요')"
   ]
  },
  {
   "cell_type": "markdown",
   "metadata": {},
   "source": [
    "### 매개변수 갯수\n",
    "- 매개변수 갯수 매번 바뀔 때 : 매개변수에 기본값을 설정해놓고 전달"
   ]
  },
  {
   "cell_type": "code",
   "execution_count": 7,
   "metadata": {},
   "outputs": [
    {
     "name": "stdout",
     "output_type": "stream",
     "text": [
      "매개변수가 2개인 함수를 호출한 결과 ==> 30\n",
      "매개변수가 3개인 함수를 호출한 결과 ==> 60\n"
     ]
    }
   ],
   "source": [
    "def para(v1,v2,v3=0):\n",
    "    result = 0\n",
    "    result = v1+v2+v3\n",
    "    return result\n",
    "\n",
    "hap = para(10,20) # 호출할 때 괄호안에 인수(또는 인자)없으면 에러남!!\n",
    "print('매개변수가 2개인 함수를 호출한 결과 ==> %d'%hap)\n",
    "hap = para(10,20,30)\n",
    "print('매개변수가 3개인 함수를 호출한 결과 ==> %d'%hap)"
   ]
  },
  {
   "cell_type": "markdown",
   "metadata": {},
   "source": [
    "- 매개변수 갯수 매번 바뀔 때 : 매개변수의 갯수를 지정하지 않고 전달\n",
    "- 입력 받은 매개변수들을 자동으로 튜플 형태로 만듦"
   ]
  },
  {
   "cell_type": "code",
   "execution_count": 8,
   "metadata": {},
   "outputs": [
    {
     "name": "stdout",
     "output_type": "stream",
     "text": [
      "매개변수가 2개인 함수를 호출한 결과 ==> 30\n",
      "매개변수가 3개인 함수를 호출한 결과 ==> 60\n"
     ]
    }
   ],
   "source": [
    "def para1(*para):\n",
    "    result = 0\n",
    "    for num in para :\n",
    "        result = result + num\n",
    "    return result\n",
    "\n",
    "hap = para(10,20)\n",
    "print('매개변수가 2개인 함수를 호출한 결과 ==> %d'%hap)\n",
    "hap = para(10,20,30)\n",
    "print('매개변수가 3개인 함수를 호출한 결과 ==> %d'%hap)"
   ]
  },
  {
   "cell_type": "markdown",
   "metadata": {},
   "source": [
    "- 별 하나는 tuple \n",
    "- **para 는 dictionary"
   ]
  },
  {
   "cell_type": "code",
   "execution_count": 9,
   "metadata": {},
   "outputs": [
    {
     "name": "stdout",
     "output_type": "stream",
     "text": [
      "소녀시대 --> 7명 입니다.\n",
      "걸스데이 --> 4명 입니다.\n",
      "블랙핑크 --> 4명 입니다.\n",
      "레드벨벳 --> 5명 입니다.\n"
     ]
    }
   ],
   "source": [
    "def dic_fun(**para):\n",
    "    for k in para.keys():\n",
    "        print('%s --> %d명 입니다.'%(k, para[k]))\n",
    "\n",
    "dic_fun(소녀시대 = 7, 걸스데이 = 4, 블랙핑크 = 4, 레드벨벳 = 5)"
   ]
  },
  {
   "cell_type": "markdown",
   "metadata": {},
   "source": [
    "## 퀴즈5\n",
    "- 키와 값을 매개 변수로 받아 딕셔너리르 작성해주는 함수를 작성해보자"
   ]
  },
  {
   "cell_type": "code",
   "execution_count": 27,
   "metadata": {},
   "outputs": [
    {
     "name": "stdout",
     "output_type": "stream",
     "text": [
      "원하는 key를 입력하세요. 학교\n",
      "입력하신 key에 해당하는 값을 입력하세요. 숭실대학교\n"
     ]
    },
    {
     "data": {
      "text/plain": [
       "{'학교': '숭실대학교'}"
      ]
     },
     "execution_count": 27,
     "metadata": {},
     "output_type": "execute_result"
    }
   ],
   "source": [
    "## 내가 **para썼을 때 뭔가 잘못함. 맞게 실행되는 이건 교수님 코드\n",
    "def dic_fun1(key,value):\n",
    "    result = dict()\n",
    "    result[key]=value\n",
    "    return result\n",
    "\n",
    "k1 = input('원하는 key를 입력하세요. ')\n",
    "v1 = input('입력하신 key에 해당하는 값을 입력하세요. ')\n",
    "dic_fun1(k1,v1)"
   ]
  },
  {
   "cell_type": "code",
   "execution_count": 35,
   "metadata": {},
   "outputs": [
    {
     "name": "stdout",
     "output_type": "stream",
     "text": [
      "원하는 key를 입력하세요. 학교\n",
      "입력하신 key에 해당하는 값을 입력하세요. 숭실대학교\n"
     ]
    },
    {
     "data": {
      "text/plain": [
       "{'key': '숭실대학교'}"
      ]
     },
     "execution_count": 35,
     "metadata": {},
     "output_type": "execute_result"
    }
   ],
   "source": [
    "## 내가 **para썼을 때 뭔가 잘못함.\n",
    "def dic_fun1(**para):\n",
    "    return para\n",
    "\n",
    "key = input('원하는 key를 입력하세요. ')\n",
    "v1 = input('입력하신 key에 해당하는 값을 입력하세요. ')\n",
    "dic_fun1(key=v1)"
   ]
  },
  {
   "cell_type": "markdown",
   "metadata": {},
   "source": [
    "### 인수\n",
    "- 위치나 키워드로 인수 설정\n",
    "- 함수의 인수에는 함수 호출 시 반드시 대입해야 하는 '기본 인수'와 생략이 가능한 '옵션 인수'가 있음.\n",
    "- 두 종류의 인수가 공존하는 형태 : positional-or-keyword (위치나 키워드로 구분)\n",
    "ex. range(0,10,1) 과 range(0,10)"
   ]
  },
  {
   "cell_type": "code",
   "execution_count": 20,
   "metadata": {},
   "outputs": [
    {
     "name": "stdout",
     "output_type": "stream",
     "text": [
      "이름 :  남아리 , 생년월일 :  991023 , 전공 :  EE , 국적 :  KOR\n"
     ]
    }
   ],
   "source": [
    "def stuinfo(name,birth, major = 'EE', country = 'KOR'):\n",
    "    print('이름 : ',name, ', 생년월일 : ',birth,', 전공 : ',major,', 국적 : ',country)\n",
    "    \n",
    "stuinfo('남아리','991023')"
   ]
  },
  {
   "cell_type": "code",
   "execution_count": 21,
   "metadata": {},
   "outputs": [
    {
     "name": "stdout",
     "output_type": "stream",
     "text": [
      "이름 :  조안나 , 생년월일 :  991214 , 전공 :  CS , 국적 :  KOR\n"
     ]
    }
   ],
   "source": [
    "stuinfo('조안나','991214','CS') # 위치로 인수 구분 -> 순서가 중요"
   ]
  },
  {
   "cell_type": "code",
   "execution_count": 22,
   "metadata": {},
   "outputs": [
    {
     "name": "stdout",
     "output_type": "stream",
     "text": [
      "이름 :  조안나 , 생년월일 :  991214 , 전공 :  EE , 국적 :  US\n"
     ]
    }
   ],
   "source": [
    "stuinfo('조안나','991214',country='US') # 키워드로 인수 구분 -> 순서 바뀌어도 상관 없음. 단, 키워드를 제대로 알고 매칭해야함\n",
    "#전공은 기본 값으로 출력"
   ]
  },
  {
   "cell_type": "code",
   "execution_count": 23,
   "metadata": {},
   "outputs": [
    {
     "ename": "TypeError",
     "evalue": "stuinfo() got multiple values for argument 'name'",
     "output_type": "error",
     "traceback": [
      "\u001b[1;31m---------------------------------------------------------------------------\u001b[0m",
      "\u001b[1;31mTypeError\u001b[0m                                 Traceback (most recent call last)",
      "\u001b[1;32m<ipython-input-23-5690f4ad3a39>\u001b[0m in \u001b[0;36m<module>\u001b[1;34m\u001b[0m\n\u001b[1;32m----> 1\u001b[1;33m \u001b[0mstuinfo\u001b[0m\u001b[1;33m(\u001b[0m\u001b[1;34m'조안나'\u001b[0m\u001b[1;33m,\u001b[0m\u001b[1;34m'991214'\u001b[0m\u001b[1;33m,\u001b[0m\u001b[0mname\u001b[0m\u001b[1;33m=\u001b[0m\u001b[1;34m'Jo'\u001b[0m\u001b[1;33m)\u001b[0m \u001b[1;31m#같은 인자 두 번이면 에러남\u001b[0m\u001b[1;33m\u001b[0m\u001b[1;33m\u001b[0m\u001b[0m\n\u001b[0m",
      "\u001b[1;31mTypeError\u001b[0m: stuinfo() got multiple values for argument 'name'"
     ]
    }
   ],
   "source": [
    "stuinfo('조안나','991214',name='Jo') #같은 인자 두 번이면 에러남"
   ]
  },
  {
   "cell_type": "markdown",
   "metadata": {},
   "source": [
    "### 사용자가 직접 인수의 개수 정하기\n",
    "- 열거 데이터를 인수에 넣을 경우 인수 앞에 *사용"
   ]
  },
  {
   "cell_type": "code",
   "execution_count": 24,
   "metadata": {},
   "outputs": [
    {
     "name": "stdout",
     "output_type": "stream",
     "text": [
      "python\n",
      "java\n",
      "ruby\n",
      "go\n"
     ]
    }
   ],
   "source": [
    "def lang(*lan):\n",
    "    for i in lan:\n",
    "        print(i)\n",
    "\n",
    "lang('python','java','ruby','go')"
   ]
  },
  {
   "cell_type": "markdown",
   "metadata": {},
   "source": [
    "- 튜플 이용"
   ]
  },
  {
   "cell_type": "code",
   "execution_count": 26,
   "metadata": {},
   "outputs": [
    {
     "name": "stdout",
     "output_type": "stream",
     "text": [
      "python\n",
      "java\n",
      "ruby\n",
      "go\n"
     ]
    }
   ],
   "source": [
    "def tlang(tuplelan):\n",
    "    for i in tuplelan:\n",
    "        print(i)\n",
    "\n",
    "tlang(('python','java','ruby','go'))"
   ]
  },
  {
   "cell_type": "markdown",
   "metadata": {},
   "source": [
    "- 딕셔너리 이용"
   ]
  },
  {
   "cell_type": "code",
   "execution_count": 36,
   "metadata": {},
   "outputs": [
    {
     "name": "stdout",
     "output_type": "stream",
     "text": [
      "인석 python\n",
      "치훈 java\n",
      "수빈 c++\n"
     ]
    }
   ],
   "source": [
    "def stulan(**stulanguage):\n",
    "    for name in stulanguage.keys():\n",
    "        print(name,stulanguage[name])\n",
    "        \n",
    "stulan(인석='python',치훈='java',수빈='c++')"
   ]
  },
  {
   "cell_type": "markdown",
   "metadata": {},
   "source": [
    "#### 키워드로만 호출하기\n",
    "- 수가 정해져 있지 않은 인수는 함수 선언시 가장 뒤쪽에 배치"
   ]
  },
  {
   "cell_type": "code",
   "execution_count": 37,
   "metadata": {},
   "outputs": [
    {
     "data": {
      "text/plain": [
       "'a/b/c'"
      ]
     },
     "execution_count": 37,
     "metadata": {},
     "output_type": "execute_result"
    }
   ],
   "source": [
    "# 키워드로만 호출하기\n",
    "def concat(*args,sep='/'):\n",
    "    return sep.join(args)\n",
    "concat('a','b','c')"
   ]
  },
  {
   "cell_type": "code",
   "execution_count": 38,
   "metadata": {},
   "outputs": [
    {
     "data": {
      "text/plain": [
       "'a.b.c'"
      ]
     },
     "execution_count": 38,
     "metadata": {},
     "output_type": "execute_result"
    }
   ],
   "source": [
    "concat('a','b','c',sep='.')"
   ]
  },
  {
   "cell_type": "code",
   "execution_count": 41,
   "metadata": {},
   "outputs": [
    {
     "ename": "SyntaxError",
     "evalue": "positional argument follows keyword argument (<ipython-input-41-91bbbb5f3fac>, line 1)",
     "output_type": "error",
     "traceback": [
      "\u001b[1;36m  File \u001b[1;32m\"<ipython-input-41-91bbbb5f3fac>\"\u001b[1;36m, line \u001b[1;32m1\u001b[0m\n\u001b[1;33m    concat(sep='-','a','b','c')\u001b[0m\n\u001b[1;37m                  ^\u001b[0m\n\u001b[1;31mSyntaxError\u001b[0m\u001b[1;31m:\u001b[0m positional argument follows keyword argument\n"
     ]
    }
   ],
   "source": [
    "concat(sep='-','a','b','c')\n",
    "#sep는 tuple이 아니기때문에, sep안에 여러개를 넣을 수 없어서 에러 발생."
   ]
  },
  {
   "cell_type": "markdown",
   "metadata": {},
   "source": [
    "#### 언패킹 인수 리스트 활용하기\n",
    "- 리스트나 튜플로 저장된 열거 데이터가 함수 내에서 언패킹되어, 각 항목이 분리되는 경우"
   ]
  },
  {
   "cell_type": "code",
   "execution_count": 42,
   "metadata": {},
   "outputs": [
    {
     "data": {
      "text/plain": [
       "[5, 6, 7, 8, 9]"
      ]
     },
     "execution_count": 42,
     "metadata": {},
     "output_type": "execute_result"
    }
   ],
   "source": [
    "##일반적인 경우\n",
    "list(range(5,10))"
   ]
  },
  {
   "cell_type": "code",
   "execution_count": 43,
   "metadata": {},
   "outputs": [
    {
     "data": {
      "text/plain": [
       "[5, 6, 7, 8, 9]"
      ]
     },
     "execution_count": 43,
     "metadata": {},
     "output_type": "execute_result"
    }
   ],
   "source": [
    "##언패킹\n",
    "args = 5,10\n",
    "list(range(*args))"
   ]
  },
  {
   "cell_type": "code",
   "execution_count": 45,
   "metadata": {},
   "outputs": [
    {
     "name": "stdout",
     "output_type": "stream",
     "text": [
      "이름 :  남아리 , 생년월일 :  991023 , 전공 :  EE , 국적 :  KOR\n"
     ]
    }
   ],
   "source": [
    "def stuinfo(name,birth, major = 'EE', country = 'KOR'):\n",
    "    print('이름 : ',name, ', 생년월일 : ',birth,', 전공 : ',major,', 국적 : ',country)\n",
    "    \n",
    "info = {'name':'남아리','birth':'991023'}\n",
    "stuinfo(**info)"
   ]
  },
  {
   "cell_type": "markdown",
   "metadata": {},
   "source": [
    "## 모듈\n",
    "- 모듈 : 함수의 집합\n",
    "- 함수를 다른 프로그램에서도 사용하고 싶을 때! ( 복붙이 아니라, 불러옴)\n",
    "- <span style=\"color:red\"> import 불러오고 싶은 모듈명\n",
    "- <span style=\"color:red\">import Module1\n",
    "- 모듈명.함수이름()\n",
    "\n",
    "    \n",
    "- 함수 여러개를 한 번에 불러올 때\n",
    "- <span style=\"color:blue\"> from 모듈명 import 함수1,함수2,함수3\n",
    "- <span style=\"color:blue\"> 또는, from 모듈명 import*\n",
    "    \n",
    "- 재생산성을 높임\n",
    "- 이전에 만들어둔 것을 가져다 사용함"
   ]
  },
  {
   "cell_type": "code",
   "execution_count": 46,
   "metadata": {},
   "outputs": [],
   "source": [
    "#Module1.py\n",
    "def func1():\n",
    "    print('Module1.py의 func1()이 호출됨')"
   ]
  },
  {
   "cell_type": "code",
   "execution_count": null,
   "metadata": {},
   "outputs": [],
   "source": [
    "#A.py\n",
    "import Module1\n",
    "Module1.func1()"
   ]
  },
  {
   "cell_type": "code",
   "execution_count": null,
   "metadata": {},
   "outputs": [],
   "source": [
    "#B.py\n",
    "from Module1 import func1,func2\n",
    "\n",
    "#메인코드에서 사용할 때\n",
    "func1()\n",
    "func2()"
   ]
  },
  {
   "cell_type": "markdown",
   "metadata": {},
   "source": [
    "### 모듈의 종류\n",
    "- 표준 모듈 (파이선에서 제공하는 모듈)\n",
    "- 사용자 정의 모듈 (직접 만들어서 사용하는 모듈)\n",
    "- 서드 파티 모듈 (파이썬이 아닌 외부 회사나 단체에서 제공하는 모듈)\n",
    "- 왜 서드파티 사용? 파이썬에서 모든 것을 제공하지는 않음. & 고급 프로그래밍 가능."
   ]
  },
  {
   "cell_type": "code",
   "execution_count": 47,
   "metadata": {},
   "outputs": [
    {
     "name": "stdout",
     "output_type": "stream",
     "text": [
      "('_abc', '_ast', '_bisect', '_blake2', '_codecs', '_codecs_cn', '_codecs_hk', '_codecs_iso2022', '_codecs_jp', '_codecs_kr', '_codecs_tw', '_collections', '_contextvars', '_csv', '_datetime', '_functools', '_heapq', '_imp', '_io', '_json', '_locale', '_lsprof', '_md5', '_multibytecodec', '_opcode', '_operator', '_pickle', '_random', '_sha1', '_sha256', '_sha3', '_sha512', '_signal', '_sre', '_stat', '_string', '_struct', '_symtable', '_thread', '_tracemalloc', '_warnings', '_weakref', '_winapi', 'array', 'atexit', 'audioop', 'binascii', 'builtins', 'cmath', 'errno', 'faulthandler', 'gc', 'itertools', 'marshal', 'math', 'mmap', 'msvcrt', 'nt', 'parser', 'sys', 'time', 'winreg', 'xxsubtype', 'zipimport', 'zlib')\n"
     ]
    }
   ],
   "source": [
    "import sys #외울 필요 없음\n",
    "print(sys.builtin_module_names)"
   ]
  },
  {
   "cell_type": "code",
   "execution_count": 48,
   "metadata": {},
   "outputs": [
    {
     "data": {
      "text/plain": [
       "['__doc__',\n",
       " '__loader__',\n",
       " '__name__',\n",
       " '__package__',\n",
       " '__spec__',\n",
       " 'acos',\n",
       " 'acosh',\n",
       " 'asin',\n",
       " 'asinh',\n",
       " 'atan',\n",
       " 'atan2',\n",
       " 'atanh',\n",
       " 'ceil',\n",
       " 'copysign',\n",
       " 'cos',\n",
       " 'cosh',\n",
       " 'degrees',\n",
       " 'e',\n",
       " 'erf',\n",
       " 'erfc',\n",
       " 'exp',\n",
       " 'expm1',\n",
       " 'fabs',\n",
       " 'factorial',\n",
       " 'floor',\n",
       " 'fmod',\n",
       " 'frexp',\n",
       " 'fsum',\n",
       " 'gamma',\n",
       " 'gcd',\n",
       " 'hypot',\n",
       " 'inf',\n",
       " 'isclose',\n",
       " 'isfinite',\n",
       " 'isinf',\n",
       " 'isnan',\n",
       " 'ldexp',\n",
       " 'lgamma',\n",
       " 'log',\n",
       " 'log10',\n",
       " 'log1p',\n",
       " 'log2',\n",
       " 'modf',\n",
       " 'nan',\n",
       " 'pi',\n",
       " 'pow',\n",
       " 'radians',\n",
       " 'remainder',\n",
       " 'sin',\n",
       " 'sinh',\n",
       " 'sqrt',\n",
       " 'tan',\n",
       " 'tanh',\n",
       " 'tau',\n",
       " 'trunc']"
      ]
     },
     "execution_count": 48,
     "metadata": {},
     "output_type": "execute_result"
    }
   ],
   "source": [
    "import math\n",
    "dir(math)"
   ]
  },
  {
   "cell_type": "markdown",
   "metadata": {},
   "source": [
    "## 패키지\n",
    "- 모듈을 모아 놓은 폴더 = 폴더를 가져가서 통째로 사용하는 것\n",
    "- 모듈이 하나의 *.py 파일 안에 함수가 여러 개 들어있는 것 이라면, 패키지는 여러 모듈을 모아 놓은 것으로, 폴더의 형태로 나타냄.\n",
    "- 모듈을 주제발로 분리할 때 주로 사용\n",
    "- <span style=\"color:blue\"> from 패키지명.모듈명 import* (*은 함수 전체. * 또는 사용할 함수명 직접 입력)"
   ]
  },
  {
   "cell_type": "markdown",
   "metadata": {},
   "source": [
    "## 내부 함수, lambda, map\n",
    "- 내부 함수 : 함수 안에 함수가 있는 형태\n",
    "- 외부에서, 즉 정의된 영역 밖에서 호출하면 오류 발생"
   ]
  },
  {
   "cell_type": "code",
   "execution_count": 49,
   "metadata": {},
   "outputs": [
    {
     "name": "stdout",
     "output_type": "stream",
     "text": [
      "30\n"
     ]
    }
   ],
   "source": [
    "def outfunc(v1,v2): #2. 사용자 정의 함수 실행\n",
    "    def infunc(num1,num2): #4. infunc실행\n",
    "        return num1+num2 #5. 최종 결과 리턴\n",
    "    return infunc(v1,v2) #3. 호출한 outfunc의 리턴은 infunc을 사용해야함.\n",
    "\n",
    "print(outfunc(10,20)) #1. 메인함수에서 사용자 정의 함수 호출"
   ]
  },
  {
   "cell_type": "code",
   "execution_count": 52,
   "metadata": {},
   "outputs": [
    {
     "ename": "NameError",
     "evalue": "name 'infunc' is not defined",
     "output_type": "error",
     "traceback": [
      "\u001b[1;31m---------------------------------------------------------------------------\u001b[0m",
      "\u001b[1;31mNameError\u001b[0m                                 Traceback (most recent call last)",
      "\u001b[1;32m<ipython-input-52-d4d7a314b64d>\u001b[0m in \u001b[0;36m<module>\u001b[1;34m\u001b[0m\n\u001b[0;32m      1\u001b[0m \u001b[1;31m# outfunc() 밖에서 호출하면 오류 발생\u001b[0m\u001b[1;33m\u001b[0m\u001b[1;33m\u001b[0m\u001b[1;33m\u001b[0m\u001b[0m\n\u001b[0;32m      2\u001b[0m \u001b[1;33m\u001b[0m\u001b[0m\n\u001b[1;32m----> 3\u001b[1;33m \u001b[0mprint\u001b[0m\u001b[1;33m(\u001b[0m\u001b[0minfunc\u001b[0m\u001b[1;33m(\u001b[0m\u001b[1;36m10\u001b[0m\u001b[1;33m,\u001b[0m\u001b[1;36m20\u001b[0m\u001b[1;33m)\u001b[0m\u001b[1;33m)\u001b[0m\u001b[1;33m\u001b[0m\u001b[1;33m\u001b[0m\u001b[0m\n\u001b[0m",
      "\u001b[1;31mNameError\u001b[0m: name 'infunc' is not defined"
     ]
    }
   ],
   "source": [
    "# outfunc() 밖에서 호출하면 오류 발생\n",
    "\n",
    "print(infunc(10,20))"
   ]
  },
  {
   "cell_type": "markdown",
   "metadata": {},
   "source": [
    "### lambda & map(리스트에 사용)\n",
    "- <span style=\"color:blue\"> lambda 인자리스트 : 표현식\n",
    "- 함수를 한 줄로 간단하게 만들어 줌\n",
    "- 쓰고 버리는 일시적인 함수로, 함수가 생성된 곳에서만 필요\n",
    "- 간단한 기능을 일반적인 함수와 같이 정의해두고 쓰는 것이 아닌, 필요한 곳에 즉시 사용 후 버릴 수 있음\n",
    "- 람다에는 리턴문이 포함되어 있지 않으며, 반환값을 만드는 표현식이 있음"
   ]
  },
  {
   "cell_type": "code",
   "execution_count": 53,
   "metadata": {},
   "outputs": [
    {
     "data": {
      "text/plain": [
       "64"
      ]
     },
     "execution_count": 53,
     "metadata": {},
     "output_type": "execute_result"
    }
   ],
   "source": [
    "g = lambda x : x**2\n",
    "g(8)"
   ]
  },
  {
   "cell_type": "code",
   "execution_count": 54,
   "metadata": {},
   "outputs": [
    {
     "data": {
      "text/plain": [
       "8"
      ]
     },
     "execution_count": 54,
     "metadata": {},
     "output_type": "execute_result"
    }
   ],
   "source": [
    "f = lambda x,y : x+y\n",
    "f(4,4)"
   ]
  },
  {
   "cell_type": "code",
   "execution_count": 56,
   "metadata": {},
   "outputs": [
    {
     "data": {
      "text/plain": [
       "8"
      ]
     },
     "execution_count": 56,
     "metadata": {},
     "output_type": "execute_result"
    }
   ],
   "source": [
    "#f를 함수로 표현하면,\n",
    "def sum(n1,n2):\n",
    "    return n1+n2\n",
    "h = sum(4,4)\n",
    "h"
   ]
  },
  {
   "cell_type": "code",
   "execution_count": 62,
   "metadata": {},
   "outputs": [
    {
     "data": {
      "text/plain": [
       "[11, 12, 13, 14, 15]"
      ]
     },
     "execution_count": 62,
     "metadata": {},
     "output_type": "execute_result"
    }
   ],
   "source": [
    "## 함수 - 리스트 원소 값에 모두 10을 더하는 코드\n",
    "myList = [1,2,3,4,5]\n",
    "\n",
    "def add2(num):\n",
    "    return num+10\n",
    "\n",
    "for i in range(len(myList)):\n",
    "    myList[i] = add2(myList[i])\n",
    "myList"
   ]
  },
  {
   "cell_type": "code",
   "execution_count": 64,
   "metadata": {},
   "outputs": [
    {
     "data": {
      "text/plain": [
       "[11, 12, 13, 14, 15]"
      ]
     },
     "execution_count": 64,
     "metadata": {},
     "output_type": "execute_result"
    }
   ],
   "source": [
    "## 람다와 맵으로 간단히\n",
    "myList = [1,2,3,4,5]\n",
    "\n",
    "add1 = lambda num : num+10\n",
    "myList = list(map(add1,myList)) #함수명과 처리할 리스트명을 map으로 묶어서 같이 전달해야.\n",
    "myList"
   ]
  },
  {
   "cell_type": "code",
   "execution_count": 65,
   "metadata": {},
   "outputs": [
    {
     "data": {
      "text/plain": [
       "[11, 12, 13, 14, 15]"
      ]
     },
     "execution_count": 65,
     "metadata": {},
     "output_type": "execute_result"
    }
   ],
   "source": [
    "## 더 줄임\n",
    "myList = [1,2,3,4,5]\n",
    "\n",
    "myList = list(map( lambda num : num+10,myList))\n",
    "myList"
   ]
  },
  {
   "cell_type": "code",
   "execution_count": 67,
   "metadata": {},
   "outputs": [
    {
     "data": {
      "text/plain": [
       "[11, 22, 33, 44]"
      ]
     },
     "execution_count": 67,
     "metadata": {},
     "output_type": "execute_result"
    }
   ],
   "source": [
    "## 다른 예제. 두 리스트를 원소 각각 더해서 새로운 리스트 만들기\n",
    "\n",
    "list1 = [1,2,3,4]\n",
    "list2 = [10,20,30,40]\n",
    "hapList = list(map(lambda a,b : a+b,list1,list2)) #람다와 리스트1, 리스트2 총 3개를 map\n",
    "hapList"
   ]
  },
  {
   "cell_type": "markdown",
   "metadata": {},
   "source": [
    "## 재귀함수 (Recursion function)\n",
    "- 정의된 함수 안에 자기 자신을 호출"
   ]
  },
  {
   "cell_type": "code",
   "execution_count": 68,
   "metadata": {},
   "outputs": [
    {
     "name": "stdout",
     "output_type": "stream",
     "text": [
      "10 9 8 7 6 5 4 3 2 1 "
     ]
    }
   ],
   "source": [
    "def count(num):\n",
    "    if num >= 1:\n",
    "        print(num,end=' ')\n",
    "        count(num-1)\n",
    "    else:\n",
    "        return\n",
    "count(10)"
   ]
  },
  {
   "cell_type": "code",
   "execution_count": 75,
   "metadata": {},
   "outputs": [
    {
     "data": {
      "text/plain": [
       "24"
      ]
     },
     "execution_count": 75,
     "metadata": {},
     "output_type": "execute_result"
    }
   ],
   "source": [
    "def factorial(num):\n",
    "    if num <= 1:\n",
    "        return num\n",
    "    else:\n",
    "        return num* factorial(num-1)\n",
    "factorial(4)"
   ]
  },
  {
   "cell_type": "markdown",
   "metadata": {},
   "source": [
    "## 제너레이터, yield\n",
    "- <span style=\"color:blue\"> yield 값\n",
    "- return문 : 결과를 반환하고 함수 종결\n",
    "- yield : 함수를 종결하지 않으면서 값을 계속 반환\n",
    "    \n",
    "    \n",
    "- 제너레이터 함수 = yield가 포함된 함수. yield문으로 값을 반환한 후 계속 진행."
   ]
  },
  {
   "cell_type": "code",
   "execution_count": 76,
   "metadata": {},
   "outputs": [
    {
     "name": "stdout",
     "output_type": "stream",
     "text": [
      "[1, 2, 3]\n"
     ]
    }
   ],
   "source": [
    "def getfunc():\n",
    "    yield 1\n",
    "    yield 2\n",
    "    yield 3\n",
    "print(list(getfunc()))"
   ]
  },
  {
   "cell_type": "code",
   "execution_count": 78,
   "metadata": {},
   "outputs": [
    {
     "name": "stdout",
     "output_type": "stream",
     "text": [
      "0\n",
      "제너레이터 진행 중\n",
      "1\n",
      "제너레이터 진행 중\n",
      "2\n",
      "제너레이터 진행 중\n",
      "3\n",
      "제너레이터 진행 중\n",
      "4\n",
      "제너레이터 진행 중\n"
     ]
    }
   ],
   "source": [
    "def getfunc(num):\n",
    "    for i in range(0,num):\n",
    "        yield i\n",
    "        print('제너레이터 진행 중')\n",
    "\n",
    "for i in getfunc(5):\n",
    "    print(i)"
   ]
  },
  {
   "cell_type": "code",
   "execution_count": null,
   "metadata": {},
   "outputs": [],
   "source": []
  }
 ],
 "metadata": {
  "kernelspec": {
   "display_name": "Python 3",
   "language": "python",
   "name": "python3"
  },
  "language_info": {
   "codemirror_mode": {
    "name": "ipython",
    "version": 3
   },
   "file_extension": ".py",
   "mimetype": "text/x-python",
   "name": "python",
   "nbconvert_exporter": "python",
   "pygments_lexer": "ipython3",
   "version": "3.7.6"
  }
 },
 "nbformat": 4,
 "nbformat_minor": 4
}
