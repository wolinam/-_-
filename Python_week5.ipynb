{
 "cells": [
  {
   "cell_type": "markdown",
   "metadata": {},
   "source": [
    "# 교양 파이썬 프로그래밍_5주차_list"
   ]
  },
  {
   "cell_type": "markdown",
   "metadata": {},
   "source": [
    "- 여러 변수 값을 한 번에 생성 or 사용하기 위해\n",
    "- 내부적으로는 콤마로 나눔\n",
    "- 대괄호로 선언\n",
    "- 부를 때는 index로 호출\n",
    "- 콜론 : 을 이용하여 슬라이싱\n",
    "- 데이터형이 달라도 리스트로 묶을 수 있음 (C에서 배열은 int형, char 등등 자료형마다 따로여야했음)\n",
    "\n",
    "### index는 양수는 왼쪽부터 0부터 시작, 음수는 오른쪽부터 -1부터 시작"
   ]
  },
  {
   "cell_type": "markdown",
   "metadata": {},
   "source": [
    "."
   ]
  },
  {
   "cell_type": "markdown",
   "metadata": {},
   "source": [
    "#### <4주차 뒷부분_퀴즈>"
   ]
  },
  {
   "cell_type": "code",
   "execution_count": 3,
   "metadata": {},
   "outputs": [
    {
     "name": "stdout",
     "output_type": "stream",
     "text": [
      "1~100까지의 홀수의 합에서 600을 넘어갈 때의 합계 값 : 625 \n",
      "증가되던 숫자 : 49\n"
     ]
    }
   ],
   "source": [
    "sum ,i=0,0\n",
    "\n",
    "for i in range(1,100,2):\n",
    "    sum += i\n",
    "    \n",
    "    if (sum>=600):\n",
    "        break\n",
    "print(\"1~100까지의 홀수의 합에서 600을 넘어갈 때의 합계 값 : %d \\n증가되던 숫자 : %d\"%(sum, i))\n"
   ]
  },
  {
   "cell_type": "markdown",
   "metadata": {},
   "source": [
    "### list의 기본 - list 선언과 type"
   ]
  },
  {
   "cell_type": "code",
   "execution_count": 1,
   "metadata": {},
   "outputs": [
    {
     "name": "stdout",
     "output_type": "stream",
     "text": [
      "30\n",
      "10\n",
      "40\n"
     ]
    }
   ],
   "source": [
    "a,b,c,d = 10,20,30,40\n",
    "aa = [10,20,30,40]\n",
    "print(c)\n",
    "print(aa[0])\n",
    "print(aa[-1])"
   ]
  },
  {
   "cell_type": "code",
   "execution_count": 2,
   "metadata": {},
   "outputs": [
    {
     "name": "stdout",
     "output_type": "stream",
     "text": [
      "<class 'list'>\n"
     ]
    }
   ],
   "source": [
    "print(type(aa))"
   ]
  },
  {
   "cell_type": "markdown",
   "metadata": {},
   "source": [
    "len 함수 - 자주 사용하니 기억해두기"
   ]
  },
  {
   "cell_type": "code",
   "execution_count": 4,
   "metadata": {},
   "outputs": [
    {
     "name": "stdout",
     "output_type": "stream",
     "text": [
      "4\n"
     ]
    }
   ],
   "source": [
    "print(len(aa))"
   ]
  },
  {
   "cell_type": "code",
   "execution_count": 5,
   "metadata": {},
   "outputs": [
    {
     "name": "stdout",
     "output_type": "stream",
     "text": [
      "1번째 숫자 : 25\n",
      "2번째 숫자 : 30\n",
      "3번째 숫자 : 72\n",
      "4번째 숫자 : 84\n",
      "리스트 원소 합계 = 211\n"
     ]
    }
   ],
   "source": [
    "bb = [0,0,0,0]\n",
    "hap = 0\n",
    "\n",
    "bb[0] = int(input(\"1번째 숫자 : \"))\n",
    "bb[1] = int(input(\"2번째 숫자 : \"))\n",
    "bb[2] = int(input(\"3번째 숫자 : \"))\n",
    "bb[3] = int(input(\"4번째 숫자 : \"))\n",
    "\n",
    "hap = bb[0] + bb[1] + bb[2] + bb[3]\n",
    "\n",
    "print(\"리스트 원소 합계 = %d\" %hap)"
   ]
  },
  {
   "cell_type": "markdown",
   "metadata": {},
   "source": [
    "### for문 사용하기 - 리스트의 끝에 도달했는지"
   ]
  },
  {
   "cell_type": "code",
   "execution_count": 7,
   "metadata": {},
   "outputs": [
    {
     "name": "stdout",
     "output_type": "stream",
     "text": [
      "black 5\n",
      "blue 4\n",
      "yellow 6\n",
      "red 3\n"
     ]
    }
   ],
   "source": [
    "colors = ['black', 'blue', 'yellow', 'red']\n",
    "\n",
    "#리스트의 처음부터 끝까지 for문이 돌아감\n",
    "for i in colors:\n",
    "    print(i, len(i)) #리스트 말고 각각 컬리의 길이 출력"
   ]
  },
  {
   "cell_type": "code",
   "execution_count": 9,
   "metadata": {},
   "outputs": [
    {
     "name": "stdout",
     "output_type": "stream",
     "text": [
      "[0, 0, 0, 0]\n"
     ]
    }
   ],
   "source": [
    "ah = []\n",
    "ah.append(0)\n",
    "ah.append(0)\n",
    "ah.append(0)\n",
    "ah.append(0)\n",
    "print(ah)"
   ]
  },
  {
   "cell_type": "code",
   "execution_count": 11,
   "metadata": {},
   "outputs": [
    {
     "name": "stdout",
     "output_type": "stream",
     "text": [
      "100\n"
     ]
    }
   ],
   "source": [
    "ah = []\n",
    "for i in range(0,100): #0부터 99까지\n",
    "    ah.append(i) #이런 리스트 조작 함수 외울 필요 없음 - 중요한거 몇 개만 시험에 나오므로 그것만 외우기\n",
    "print(len(ah))"
   ]
  },
  {
   "cell_type": "code",
   "execution_count": 12,
   "metadata": {},
   "outputs": [
    {
     "name": "stdout",
     "output_type": "stream",
     "text": [
      "1번째 숫자 : 10\n",
      "2번째 숫자 : 20\n",
      "3번째 숫자 : 30\n",
      "4번째 숫자 : 40\n",
      "합계 = 100\n"
     ]
    }
   ],
   "source": [
    "ah = []\n",
    "for i in range(0,4): #[0,0,0,0] 이라는 리스트 생성\n",
    "    ah.append(0)\n",
    "\n",
    "hap = 0\n",
    "\n",
    "#리스트의 값을 입력받음 - for문으로 리스트 컨트롤\n",
    "for i in range(0,4): \n",
    "    ah[i] = int(input(str(i+1) + \"번째 숫자 : \"))\n",
    "\n",
    "for i in ah:\n",
    "    hap += i\n",
    "print(\"합계 = %d\" %hap)"
   ]
  },
  {
   "cell_type": "markdown",
   "metadata": {},
   "source": [
    "### 특정 색인 값 변경"
   ]
  },
  {
   "cell_type": "code",
   "execution_count": 38,
   "metadata": {},
   "outputs": [
    {
     "name": "stdout",
     "output_type": "stream",
     "text": [
      "[10, 20, 50, 40]\n",
      "[10, 15, 30, 40]\n",
      "[10, 15, 30, 30, 40]\n",
      "[10, [15, 20], 30, 30, 40]\n"
     ]
    }
   ],
   "source": [
    "ah=[10,20,30,40]\n",
    "ah[2] = 50\n",
    "print(ah)\n",
    "\n",
    "ah[1:3] = [15, 30]\n",
    "print(ah)\n",
    "\n",
    "ah[1:2] = [15, 30]\n",
    "print(ah)\n",
    "\n",
    "ah[1] = [15,20]\n",
    "print(ah)\n"
   ]
  },
  {
   "cell_type": "markdown",
   "metadata": {},
   "source": [
    "### 리스트 조작 함수"
   ]
  },
  {
   "cell_type": "code",
   "execution_count": 15,
   "metadata": {},
   "outputs": [
    {
     "name": "stdout",
     "output_type": "stream",
     "text": [
      "[3, 8, 5, 2]\n",
      "[3, 8, 5, 2, 7]\n",
      "[3, 8, 2, 7]\n",
      "[3, 9, 8, 2, 7]\n",
      "[3, 9, 8, 7]\n"
     ]
    }
   ],
   "source": [
    "cards = [3,8,5,2]\n",
    "print(cards)\n",
    "\n",
    "cards.append(7) #맨 뒤에 추가\n",
    "print(cards)\n",
    "\n",
    "cards.remove(5) #특정 값 제거 - 5라는 값을 같는 인덱스 제거하고 그 뒤의 인덱스 1씩 감소\n",
    "print(cards)\n",
    "\n",
    "cards.insert(1,9) #[1]위치에 9삽입 & 인덱스 1씩 증가 (인덱스 다시 맞춰줌)\n",
    "print(cards)\n",
    "\n",
    "cards.pop(3) #인덱스[3]을 꺼내고 출력해줌. 그리고 다시 인덱스 맞춰줌\n",
    "print(cards)"
   ]
  },
  {
   "cell_type": "code",
   "execution_count": 44,
   "metadata": {},
   "outputs": [
    {
     "name": "stdout",
     "output_type": "stream",
     "text": [
      "[1, 2, 3, 4]\n",
      "[4, 3, 2, 1]\n",
      "[4, 3, 2, 1, 7, 8, 9]\n"
     ]
    }
   ],
   "source": [
    "list = [1,3,2,4]\n",
    "list.sort()\n",
    "print(list)\n",
    "\n",
    "list.reverse()\n",
    "print(list)\n",
    "\n",
    "list.extend([7,8,9])\n",
    "print(list)\n"
   ]
  },
  {
   "cell_type": "markdown",
   "metadata": {},
   "source": [
    "### 리스트 슬라이싱"
   ]
  },
  {
   "cell_type": "code",
   "execution_count": 19,
   "metadata": {},
   "outputs": [
    {
     "name": "stdout",
     "output_type": "stream",
     "text": [
      "[9, 8]\n",
      "[3, 9, 8, 7]\n",
      "[3, 9]\n",
      "[9, 8, 7]\n"
     ]
    },
    {
     "data": {
      "text/plain": [
       "[9, 8]"
      ]
     },
     "execution_count": 19,
     "metadata": {},
     "output_type": "execute_result"
    }
   ],
   "source": [
    "#리스트 자르기\n",
    "cards[1:3]\n",
    "print(cards[1:3])\n",
    "#[1]부터 [3]전까지 출력해줌\n",
    "#자른 부분만 잠깐 사용\n",
    "\n",
    "#--------------\n",
    "#3987\n",
    "#0123\n",
    "#--------------\n",
    "\n",
    "print(cards) #실제로 cards에 값은 그대로 남아있음\n",
    "\n",
    "\n",
    "#처음 0번지부터 2번지 전까지. 즉, 0번지와 1번지 출력\n",
    "cards[:2]\n",
    "print(cards[:2])\n",
    "\n",
    "\n",
    "#1번지부터 끝까지 출력\n",
    "cards[1:]\n",
    "print(cards[1:])\n",
    "\n",
    "\n",
    "#기존 리스트는 남겨두고 슬라이싱한 부분만 새로 복제\n",
    "sub_cards = cards[1:3]\n",
    "sub_cards"
   ]
  },
  {
   "cell_type": "code",
   "execution_count": 35,
   "metadata": {},
   "outputs": [
    {
     "name": "stdout",
     "output_type": "stream",
     "text": [
      "[1, 3, 5, 7]\n",
      "[7, 5, 3, 1]\n",
      "[7, 6, 5, 4, 3, 2, 1]\n"
     ]
    }
   ],
   "source": [
    "aa = [1,2,3,4,5,6,7]\n",
    "print(aa[::2]) #처음부터 끝까지 두 칸씩 건너뛰면서 출력 index 0,2,4,6\n",
    "print(aa[::-2]) #거꾸로 두 칸씩\n",
    "print(aa[::-1]) #거꾸로 출력"
   ]
  },
  {
   "cell_type": "markdown",
   "metadata": {},
   "source": [
    "### 리스트 복제하기"
   ]
  },
  {
   "cell_type": "code",
   "execution_count": 27,
   "metadata": {},
   "outputs": [
    {
     "name": "stdout",
     "output_type": "stream",
     "text": [
      "[3, 9, 8, 7, 2]\n",
      "[3, 9, 8, 7, 2]\n",
      "[3, 9, 8, 7, 2, 5]\n",
      "[3, 9, 8, 7, 2]\n"
     ]
    }
   ],
   "source": [
    "cards = [3,9,8,7]\n",
    "new_cards = cards #cards가 변화하면 new_cards도 변화함\n",
    "new_cards.append(2)\n",
    "print(new_cards)\n",
    "print(cards)\n",
    "\n",
    "new_cards = cards[:] #cards의 값들을 new_cards로 복제. 서로 연결되어있지 않음\n",
    "new_cards.append(5)\n",
    "print(new_cards)\n",
    "print(cards)"
   ]
  },
  {
   "cell_type": "markdown",
   "metadata": {},
   "source": [
    "### 리스트 합치기_extend"
   ]
  },
  {
   "cell_type": "code",
   "execution_count": 33,
   "metadata": {},
   "outputs": [
    {
     "name": "stdout",
     "output_type": "stream",
     "text": [
      "[1, 2]\n",
      "[3, 4]\n",
      "[1, 2, 3, 4]\n",
      "[1, 2, 3, 4]\n",
      "[1, 2, 3, 4, 1, 2, 3, 4, 1, 2, 3, 4]\n"
     ]
    }
   ],
   "source": [
    "a = [1,2]\n",
    "b = [3,4]\n",
    "c = a+b\n",
    "\n",
    "print(a)\n",
    "print(b)\n",
    "print(c)\n",
    "\n",
    "\n",
    "# a = a + b\n",
    "a.extend(b)\n",
    "print(a)\n",
    "\n",
    "print(a*3)"
   ]
  },
  {
   "cell_type": "markdown",
   "metadata": {},
   "source": [
    "### 리스트 삭제하기_del"
   ]
  },
  {
   "cell_type": "code",
   "execution_count": 42,
   "metadata": {},
   "outputs": [
    {
     "name": "stdout",
     "output_type": "stream",
     "text": [
      "[2, 3, 4]\n",
      "[2]\n",
      "[]\n",
      "[]\n",
      "None\n"
     ]
    }
   ],
   "source": [
    "a=[1,2,3,4]\n",
    "del a[0] #pop과 다른점은 얘는 삭제하는 값을 출력해주지 않음\n",
    "print(a)\n",
    "\n",
    "del a[1:3] #index [1]부터 [2]까지 삭제\n",
    "print(a)\n",
    "\n",
    "del a[:] #전체 삭제\n",
    "print(a)\n",
    "\n",
    "a = []\n",
    "print(a)\n",
    "\n",
    "a = None #a에 빈칸도 없음. 아예 텅 빈 상태\n",
    "print(a)\n",
    "\n",
    "del a #a의 메모리 공간 자체도 삭제 가능"
   ]
  },
  {
   "cell_type": "markdown",
   "metadata": {},
   "source": [
    "### 리스트의 생성과 초기화"
   ]
  },
  {
   "cell_type": "code",
   "execution_count": 30,
   "metadata": {},
   "outputs": [
    {
     "name": "stdout",
     "output_type": "stream",
     "text": [
      "[]\n",
      "[10, 20, 30]\n",
      "['파이썬', '공부는', '꿀잼']\n",
      "[10, 20, '파이썬']\n"
     ]
    }
   ],
   "source": [
    "aa = [] #빈 리스트\n",
    "bb = [10,20,30] #정수\n",
    "cc = ['파이썬', '공부는','꿀잼'] #문자열\n",
    "dd = [10,20,'파이썬'] #다양한 데이터형\n",
    "\n",
    "print(aa)\n",
    "print(bb)\n",
    "print(cc)\n",
    "print(dd)"
   ]
  },
  {
   "cell_type": "markdown",
   "metadata": {},
   "source": [
    "### 리스트 뒤집기 - for문"
   ]
  },
  {
   "cell_type": "code",
   "execution_count": 32,
   "metadata": {},
   "outputs": [
    {
     "name": "stdout",
     "output_type": "stream",
     "text": [
      "bb[0]에는 198이, bb[99]에는 0이 입력됩니다.\n"
     ]
    }
   ],
   "source": [
    "aa = []\n",
    "bb = []\n",
    "value = 0\n",
    "\n",
    "for i in range(0,100):\n",
    "    aa.append(value)\n",
    "    value +=2\n",
    "    \n",
    "for i in range(0,100):\n",
    "    bb.append(aa[99-i])\n",
    "\n",
    "print(\"bb[0]에는 %d이, bb[99]에는 %d이 입력됩니다.\"%(bb[0],bb[99]))"
   ]
  },
  {
   "cell_type": "markdown",
   "metadata": {},
   "source": [
    "### 2차원 리스트"
   ]
  },
  {
   "cell_type": "code",
   "execution_count": 45,
   "metadata": {},
   "outputs": [
    {
     "name": "stdout",
     "output_type": "stream",
     "text": [
      "[10, 20, 30]\n",
      "[[1, 2, 3, 4], [5, 6, 7, 8], [9, 10, 11, 12]]\n"
     ]
    }
   ],
   "source": [
    "aa = [10,20,30]\n",
    "print(aa)\n",
    "\n",
    "aa = [[1,2,3,4],[5,6,7,8],[9,10,11,12]]\n",
    "print(aa)"
   ]
  },
  {
   "cell_type": "code",
   "execution_count": 46,
   "metadata": {},
   "outputs": [
    {
     "name": "stdout",
     "output_type": "stream",
     "text": [
      "  1  2  3  4\n",
      "  5  6  7  8\n",
      "  9 10 11 12\n"
     ]
    }
   ],
   "source": [
    "list1 = []\n",
    "list2=[]\n",
    "value = 1\n",
    "\n",
    "for i in range(0,3):\n",
    "    for k in range(0,4):\n",
    "        list1.append(value) #1 2 3 4 라는 행 하나가 만들어짐\n",
    "        value+=1\n",
    "    list2.append(list1) # 만들어진 1행을 list2에 넣음\n",
    "    list1=[] #그리고 list1초기화하고 거기에 다시 값 넣기를 반복 -> 총 3개의 행을 만듦\n",
    "    \n",
    "for i in range(0,3):\n",
    "    for k in range(0,4):\n",
    "        print(\"%3d\"%list2[i][k],end='')\n",
    "    print('')"
   ]
  },
  {
   "cell_type": "code",
   "execution_count": null,
   "metadata": {},
   "outputs": [],
   "source": []
  }
 ],
 "metadata": {
  "kernelspec": {
   "display_name": "Python 3",
   "language": "python",
   "name": "python3"
  },
  "language_info": {
   "codemirror_mode": {
    "name": "ipython",
    "version": 3
   },
   "file_extension": ".py",
   "mimetype": "text/x-python",
   "name": "python",
   "nbconvert_exporter": "python",
   "pygments_lexer": "ipython3",
   "version": "3.7.6"
  }
 },
 "nbformat": 4,
 "nbformat_minor": 4
}
