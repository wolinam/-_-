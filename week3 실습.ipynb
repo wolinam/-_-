{
 "cells": [
  {
   "cell_type": "markdown",
   "metadata": {},
   "source": [
    "# 3주차 실습"
   ]
  },
  {
   "cell_type": "markdown",
   "metadata": {},
   "source": [
    "## if문"
   ]
  },
  {
   "cell_type": "markdown",
   "metadata": {},
   "source": [
    "### 나이"
   ]
  },
  {
   "cell_type": "code",
   "execution_count": 3,
   "metadata": {},
   "outputs": [
    {
     "name": "stdout",
     "output_type": "stream",
     "text": [
      "나이를 입력하세요 : 22\n",
      "성인\n"
     ]
    }
   ],
   "source": [
    "age = int(input(\"나이를 입력하세요 : \"))\n",
    "\n",
    "if age < 8 :\n",
    "    print(\"미취학아동\")\n",
    "elif 8 <= age <= 19 :\n",
    "    print(\"학생\")\n",
    "else :\n",
    "    print(\"성인\")"
   ]
  },
  {
   "cell_type": "markdown",
   "metadata": {},
   "source": [
    "### 점수"
   ]
  },
  {
   "cell_type": "code",
   "execution_count": 4,
   "metadata": {},
   "outputs": [
    {
     "name": "stdout",
     "output_type": "stream",
     "text": [
      "점수를 입력하세요 : 96\n",
      "A\n",
      "학점입니다^^\n"
     ]
    }
   ],
   "source": [
    "score = int(input(\"점수를 입력하세요 : \"))\n",
    "\n",
    "if(store>=90):\n",
    "    print(\"A\")\n",
    "elif(store>=80):\n",
    "    print(\"B\")\n",
    "elif(store>=70):\n",
    "    print(\"C\")\n",
    "else:\n",
    "    print(\"D\")\n",
    "print(\"학점입니다^^\")"
   ]
  },
  {
   "cell_type": "markdown",
   "metadata": {},
   "source": [
    "### 탑승 조건"
   ]
  },
  {
   "cell_type": "code",
   "execution_count": 13,
   "metadata": {},
   "outputs": [
    {
     "name": "stdout",
     "output_type": "stream",
     "text": [
      "나이를 입력하세요 : 7\n",
      "키를 입력하세요 [단위 cm]: 121\n",
      "나이 미달\n"
     ]
    }
   ],
   "source": [
    "a = int(input(\"나이를 입력하세요 : \"))\n",
    "h = int(input(\"키를 입력하세요 [단위 cm]: \"))\n",
    "\n",
    "if (a >= 8):\n",
    "    if(h >=120) :\n",
    "        print(\"탑승 가능\")\n",
    "    else:\n",
    "        print(\"키 미달\")\n",
    "        \n",
    "else :\n",
    "    if(h >=120) :\n",
    "        print(\"나이 미달\")"
   ]
  },
  {
   "cell_type": "markdown",
   "metadata": {},
   "source": [
    "### 계산기"
   ]
  },
  {
   "cell_type": "code",
   "execution_count": 19,
   "metadata": {},
   "outputs": [
    {
     "name": "stdout",
     "output_type": "stream",
     "text": [
      "연산자를 고르세요.\n",
      " 1. 덧셈  2. 뺄셈  3. 곱셈  4.나눗셈4\n",
      "첫 번째 수를 입력하세요8\n",
      "두 번째 수를 입력하세요2\n",
      "4\n"
     ]
    }
   ],
   "source": [
    "num1 = int(input(\"연산자를 고르세요.\\n 1. 덧셈  2. 뺄셈  3. 곱셈  4.나눗셈\"))\n",
    "num2 = int(input(\"첫 번째 수를 입력하세요\"))\n",
    "num3 = int(input(\"두 번째 수를 입력하세요\"))\n",
    "\n",
    "if(num1 == 1):\n",
    "    print(int(num2+num3))\n",
    "elif(num1 == 2):\n",
    "    print(int(num2-num3))\n",
    "elif(num1 == 3):\n",
    "    print(int(num2*num3))\n",
    "elif(num1 == 4):\n",
    "    print(int(num2/num3))\n",
    "else:\n",
    "    print(\"1번부터 4번에서만 고르세요\")"
   ]
  },
  {
   "cell_type": "markdown",
   "metadata": {},
   "source": [
    "### 1부터 100까지의 합"
   ]
  },
  {
   "cell_type": "code",
   "execution_count": 20,
   "metadata": {},
   "outputs": [
    {
     "name": "stdout",
     "output_type": "stream",
     "text": [
      "5050 \n"
     ]
    }
   ],
   "source": [
    "i, sum = 0,0\n",
    "\n",
    "for i in range(1,101,1):\n",
    "    sum += i\n",
    "    \n",
    "print(\"%d \" % sum)"
   ]
  },
  {
   "cell_type": "markdown",
   "metadata": {},
   "source": [
    "### 0부터 100까지 7의 배수의 합"
   ]
  },
  {
   "cell_type": "code",
   "execution_count": 2,
   "metadata": {},
   "outputs": [
    {
     "name": "stdout",
     "output_type": "stream",
     "text": [
      "735 \n"
     ]
    }
   ],
   "source": [
    "i, sum = 0,0\n",
    "\n",
    "for i in range(0,101,7):\n",
    "    sum += i\n",
    "    \n",
    "print(\"%d \" % sum)"
   ]
  },
  {
   "cell_type": "markdown",
   "metadata": {},
   "source": [
    "## 퀴즈_수열의 길이가 10인 피보나치 수열 출력하기\n",
    "\n",
    "#### 수학 ‘Fn = Fn－1 + Fn－2.(단, F0=0, F1=1)’로 정의되는 수열. 1, 1, 2, 3, 5, 8, 13,……을 이른다"
   ]
  },
  {
   "cell_type": "code",
   "execution_count": 39,
   "metadata": {},
   "outputs": [
    {
     "name": "stdout",
     "output_type": "stream",
     "text": [
      "0 1 1 2 3 5 8 13 21 34 "
     ]
    }
   ],
   "source": [
    "f0=0\n",
    "f1=1\n",
    "f=0\n",
    "mem1 = f0\n",
    "mem2 = f1\n",
    "\n",
    "print(\"%d %d\"%(f0,f1), end = \" \")\n",
    "for i in range(2,10,1):\n",
    "    f=mem1+mem2\n",
    "    mem1=mem2\n",
    "    mem2=f\n",
    "    print(\"%d\"%(f), end = \" \")"
   ]
  },
  {
   "cell_type": "code",
   "execution_count": null,
   "metadata": {},
   "outputs": [],
   "source": []
  }
 ],
 "metadata": {
  "kernelspec": {
   "display_name": "Python 3",
   "language": "python",
   "name": "python3"
  },
  "language_info": {
   "codemirror_mode": {
    "name": "ipython",
    "version": 3
   },
   "file_extension": ".py",
   "mimetype": "text/x-python",
   "name": "python",
   "nbconvert_exporter": "python",
   "pygments_lexer": "ipython3",
   "version": "3.7.6"
  }
 },
 "nbformat": 4,
 "nbformat_minor": 4
}
