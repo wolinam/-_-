{
 "cells": [
  {
   "cell_type": "markdown",
   "metadata": {},
   "source": [
    "# 교양 파이썬 프로그래밍_9주차"
   ]
  },
  {
   "cell_type": "markdown",
   "metadata": {},
   "source": [
    "- 리스트, 튜플, 딕셔너리의 심화 내용\n",
    "\n",
    "\n",
    "### 컴프리헨션    \n",
    "     \n",
    "- 값이 순차적인 리스트를 한 줄로 만드는 간단한 방법   \n",
    "    선언할 때부터 값을 넣어줌.    \n",
    "    *선언과 동시에 값을 넣을 수 있다!*   \n",
    "    <span style=\"color:red\"> 리스트 = [수식 for 항목 in range() if 조건식]"
   ]
  },
  {
   "cell_type": "code",
   "execution_count": 1,
   "metadata": {},
   "outputs": [
    {
     "data": {
      "text/plain": [
       "[1, 2, 3, 4, 5]"
      ]
     },
     "execution_count": 1,
     "metadata": {},
     "output_type": "execute_result"
    }
   ],
   "source": [
    "# 1부터 5까지 저장된 리스트\n",
    "\n",
    "numList = []\n",
    "for num in range(1,6):\n",
    "    numList.append(num)\n",
    "numList"
   ]
  },
  {
   "cell_type": "code",
   "execution_count": 2,
   "metadata": {},
   "outputs": [
    {
     "data": {
      "text/plain": [
       "[1, 2, 3, 4, 5]"
      ]
     },
     "execution_count": 2,
     "metadata": {},
     "output_type": "execute_result"
    }
   ],
   "source": [
    "# 컴프리헨션으로 작성\n",
    "\n",
    "numList = [num for num in range(1,6)]\n",
    "numList"
   ]
  },
  {
   "cell_type": "code",
   "execution_count": 3,
   "metadata": {},
   "outputs": [
    {
     "data": {
      "text/plain": [
       "[3, 6, 9, 12, 15, 18]"
      ]
     },
     "execution_count": 3,
     "metadata": {},
     "output_type": "execute_result"
    }
   ],
   "source": [
    "# 1~20 숫자 중에서 3의 배수로만 리스트를 구성\n",
    "\n",
    "numList = [num for num in range(1,21) if num%3==0]\n",
    "numList"
   ]
  },
  {
   "cell_type": "markdown",
   "metadata": {},
   "source": [
    "### zip()함수를 사용하여 동시에 여러 리스트 접근   \n",
    "- 작은 리스트를 기준으로 for문이 돌아감\n",
    "- 두 리스트를 튜플이나 딕셔너리로 짝지을 때 zip함수 사용"
   ]
  },
  {
   "cell_type": "code",
   "execution_count": 4,
   "metadata": {},
   "outputs": [
    {
     "name": "stdout",
     "output_type": "stream",
     "text": [
      "떡볶이 ----> 어묵\n",
      "짜장면 ----> 단무지\n",
      "라면 ----> 김치\n"
     ]
    }
   ],
   "source": [
    "foods = ['떡볶이', '짜장면','라면','피자','맥주','치킨','삼겹살']\n",
    "sides = ['어묵','단무지','김치']\n",
    "for food,side in zip(foods,sides):\n",
    "    print(food,'---->', side)"
   ]
  },
  {
   "cell_type": "code",
   "execution_count": 9,
   "metadata": {},
   "outputs": [
    {
     "data": {
      "text/plain": [
       "(('떡볶이', '어묵'), ('짜장면', '단무지'), ('라면', '김치'))"
      ]
     },
     "execution_count": 9,
     "metadata": {},
     "output_type": "execute_result"
    }
   ],
   "source": [
    "tup = tuple(zip(foods,sides))\n",
    "dic = dict(zip(foods,sides))\n",
    "\n",
    "tup"
   ]
  },
  {
   "cell_type": "code",
   "execution_count": 8,
   "metadata": {},
   "outputs": [
    {
     "data": {
      "text/plain": [
       "{'떡볶이': '어묵', '짜장면': '단무지', '라면': '김치'}"
      ]
     },
     "execution_count": 8,
     "metadata": {},
     "output_type": "execute_result"
    }
   ],
   "source": [
    "dic"
   ]
  },
  {
   "cell_type": "markdown",
   "metadata": {},
   "source": [
    "### 리스트의 복사 (복제가 아닌 복사!)   \n",
    "- 얕은 복사   \n",
    "- 두 변수가 동일한 메모리 공간을 공유함"
   ]
  },
  {
   "cell_type": "code",
   "execution_count": 10,
   "metadata": {},
   "outputs": [
    {
     "name": "stdout",
     "output_type": "stream",
     "text": [
      "['짜장면', '탕수육', '군만두']\n",
      "['짬뽕', '탕수육', '군만두', '깐풍기']\n"
     ]
    }
   ],
   "source": [
    "oldL = ['짜장면','탕수육','군만두']\n",
    "newL = oldL\n",
    "print(newL)\n",
    "\n",
    "oldL[0] = '짬뽕'\n",
    "oldL.append('깐풍기')\n",
    "print(newL)"
   ]
  },
  {
   "cell_type": "markdown",
   "metadata": {},
   "source": [
    "### 리스트의 복사 (복제)   \n",
    "- 깊은 복사   \n",
    "- 메모리의 공간을 복사해서 새로 만듦   \n",
    "- 복사본이 원본의 변경에 대해 영향을 받지 않음\n",
    "- <span style=\"color:red\">newL = oldL[:]"
   ]
  },
  {
   "cell_type": "code",
   "execution_count": 12,
   "metadata": {},
   "outputs": [
    {
     "name": "stdout",
     "output_type": "stream",
     "text": [
      "['짜장면', '탕수육', '군만두']\n",
      "['짜장면', '탕수육', '군만두']\n",
      "['짬뽕', '탕수육', '군만두', '깐풍기']\n"
     ]
    }
   ],
   "source": [
    "oldL = ['짜장면','탕수육','군만두']\n",
    "newL = oldL[:]\n",
    "print(newL)\n",
    "\n",
    "oldL[0] = '짬뽕'\n",
    "oldL.append('깐풍기')\n",
    "print(newL)\n",
    "print(oldL)"
   ]
  },
  {
   "cell_type": "markdown",
   "metadata": {},
   "source": [
    "### 리스트를 이용한 스택 & 큐 구현   \n",
    "- LIFO   /   top, push & pop   \n",
    "- FIFO   /   enque, deque, append, popleft, appendleft, pop\n",
    "- 이 수업에서 코드는 중요하게 안봐도 ok. 그러나 내용은 중요함\n",
    "- 스택과 큐에 대한 내용은 알아두기. 그러나 기말에는 출제하지 않음"
   ]
  },
  {
   "cell_type": "markdown",
   "metadata": {},
   "source": [
    "## 제어문과 데이터 구조\n",
    "\n",
    "### 데이터 정렬 : sorted()"
   ]
  },
  {
   "cell_type": "code",
   "execution_count": 16,
   "metadata": {},
   "outputs": [
    {
     "name": "stdout",
     "output_type": "stream",
     "text": [
      "[1, 2, 3, 4, 5, 7]\n",
      "[7, 5, 4, 3, 2, 1]\n"
     ]
    }
   ],
   "source": [
    "nums = [4,2,5,7,1,3]\n",
    "print(sorted(nums))\n",
    "print(sorted(nums,reverse = True))"
   ]
  },
  {
   "cell_type": "code",
   "execution_count": 17,
   "metadata": {},
   "outputs": [
    {
     "data": {
      "text/plain": [
       "['C', 'C++', 'Java', 'Python', 'Ruby']"
      ]
     },
     "execution_count": 17,
     "metadata": {},
     "output_type": "execute_result"
    }
   ],
   "source": [
    "# key값을 정렬. key들로 이루어진 리스트를 추출하기\n",
    "\n",
    "prog = {'Python':5, 'C':2, 'C++':3, 'Java':4, 'Ruby':1}\n",
    "sorted(prog.keys())"
   ]
  },
  {
   "cell_type": "code",
   "execution_count": 18,
   "metadata": {},
   "outputs": [
    {
     "data": {
      "text/plain": [
       "['Ruby', 'Python', 'Java', 'C++', 'C']"
      ]
     },
     "execution_count": 18,
     "metadata": {},
     "output_type": "execute_result"
    }
   ],
   "source": [
    "sorted(prog.keys(),reverse=True)"
   ]
  },
  {
   "cell_type": "code",
   "execution_count": 19,
   "metadata": {},
   "outputs": [
    {
     "data": {
      "text/plain": [
       "[1, 2, 3, 4, 5]"
      ]
     },
     "execution_count": 19,
     "metadata": {},
     "output_type": "execute_result"
    }
   ],
   "source": [
    "sorted(prog.values())"
   ]
  },
  {
   "cell_type": "markdown",
   "metadata": {},
   "source": [
    "### 열거 데이터 반환 : range()"
   ]
  },
  {
   "cell_type": "code",
   "execution_count": 20,
   "metadata": {},
   "outputs": [
    {
     "name": "stdout",
     "output_type": "stream",
     "text": [
      "0\n",
      "1\n",
      "2\n",
      "3\n",
      "4\n"
     ]
    }
   ],
   "source": [
    "nums = 0,1,2,3,4\n",
    "for num in nums:\n",
    "    print(num)"
   ]
  },
  {
   "cell_type": "code",
   "execution_count": 21,
   "metadata": {},
   "outputs": [
    {
     "name": "stdout",
     "output_type": "stream",
     "text": [
      "0\n",
      "1\n",
      "2\n",
      "3\n",
      "4\n"
     ]
    }
   ],
   "source": [
    "for num in range(5):\n",
    "    print(num)"
   ]
  },
  {
   "cell_type": "code",
   "execution_count": 22,
   "metadata": {},
   "outputs": [
    {
     "name": "stdout",
     "output_type": "stream",
     "text": [
      "0 python\n",
      "1 java\n",
      "2 c++\n"
     ]
    }
   ],
   "source": [
    "lan = 'python','java','c++'\n",
    "for index in range(len(lan)):\n",
    "    #리스트의 길이가 바뀌어도 상관이 없음. 매번 길이 수정 필요 없음. 편리함.\n",
    "    print(index, lan[index])"
   ]
  },
  {
   "cell_type": "code",
   "execution_count": 23,
   "metadata": {},
   "outputs": [
    {
     "data": {
      "text/plain": [
       "[0, 1, 4, 9, 16, 25, 36, 49, 64, 81]"
      ]
     },
     "execution_count": 23,
     "metadata": {},
     "output_type": "execute_result"
    }
   ],
   "source": [
    "sqrt=[]\n",
    "for i in range(10):\n",
    "    sqrt.append(i**2)\n",
    "sqrt"
   ]
  },
  {
   "cell_type": "code",
   "execution_count": 24,
   "metadata": {},
   "outputs": [
    {
     "data": {
      "text/plain": [
       "[0, 1, 4, 9, 16, 25, 36, 49, 64, 81]"
      ]
     },
     "execution_count": 24,
     "metadata": {},
     "output_type": "execute_result"
    }
   ],
   "source": [
    "new_sq = [i**2 for i in range(10)]\n",
    "new_sq"
   ]
  },
  {
   "cell_type": "markdown",
   "metadata": {},
   "source": [
    "### 중첩 & 제어문 한줄로 - 컴프리헨션"
   ]
  },
  {
   "cell_type": "code",
   "execution_count": 26,
   "metadata": {},
   "outputs": [
    {
     "name": "stdout",
     "output_type": "stream",
     "text": [
      "[('blue', 'red'), ('blue', 'green'), ('yellow', 'red'), ('yellow', 'green'), ('yellow', 'blue'), ('red', 'green'), ('red', 'blue')]\n",
      "[('blue', 'red'), ('blue', 'green'), ('yellow', 'red'), ('yellow', 'green'), ('yellow', 'blue'), ('red', 'green'), ('red', 'blue')]\n"
     ]
    }
   ],
   "source": [
    "A = ['blue','yellow','red']\n",
    "B = ['red','green','blue']\n",
    "pair = []\n",
    "for a in A:\n",
    "    for b in B:\n",
    "        if a!=b:\n",
    "            pair.append((a,b)) #값이 두 개 이상일 때는 항상 괄호를 사용해야함!\n",
    "print(pair)\n",
    "\n",
    "\n",
    "#컴프리헨션 이용하여 한줄로!\n",
    "new_pair = [(a,b) for a in A for b in B if a!=b]\n",
    "print(new_pair)"
   ]
  },
  {
   "cell_type": "markdown",
   "metadata": {},
   "source": [
    "### 위는 리스트, 밑에는 세트 & 딕셔너리 타입 - 괄호!\n",
    "- 세트 타입 : 중요하지는 않음\n",
    "- 딕셔너리****"
   ]
  },
  {
   "cell_type": "code",
   "execution_count": 27,
   "metadata": {},
   "outputs": [
    {
     "data": {
      "text/plain": [
       "{'d', 'r'}"
      ]
     },
     "execution_count": 27,
     "metadata": {},
     "output_type": "execute_result"
    }
   ],
   "source": [
    "a = { x for x in 'abracadabra' if x not in 'abc'}\n",
    "a"
   ]
  },
  {
   "cell_type": "code",
   "execution_count": 30,
   "metadata": {},
   "outputs": [
    {
     "data": {
      "text/plain": [
       "{2: 4, 4: 16, 6: 36}"
      ]
     },
     "execution_count": 30,
     "metadata": {},
     "output_type": "execute_result"
    }
   ],
   "source": [
    "sqr_dic = { x : x**2 for x in (2, 4, 6)}\n",
    "sqr_dic"
   ]
  },
  {
   "cell_type": "markdown",
   "metadata": {},
   "source": [
    "### enumerate()\n",
    "- 인덱스와 항목 함께 보여주기"
   ]
  },
  {
   "cell_type": "code",
   "execution_count": 32,
   "metadata": {},
   "outputs": [
    {
     "name": "stdout",
     "output_type": "stream",
     "text": [
      "0 kimchi\n",
      "1 bibimbab\n",
      "2 tteok-bokki\n"
     ]
    }
   ],
   "source": [
    "kr_food = ['kimchi','bibimbab','tteok-bokki']\n",
    "index = 0\n",
    "for food in kr_food:\n",
    "    print(index, food)\n",
    "    index += 1"
   ]
  },
  {
   "cell_type": "code",
   "execution_count": 33,
   "metadata": {},
   "outputs": [
    {
     "data": {
      "text/plain": [
       "enumerate"
      ]
     },
     "execution_count": 33,
     "metadata": {},
     "output_type": "execute_result"
    }
   ],
   "source": [
    "kr_food_enum = enumerate(kr_food)\n",
    "type(kr_food_enum)"
   ]
  },
  {
   "cell_type": "code",
   "execution_count": 34,
   "metadata": {},
   "outputs": [
    {
     "name": "stdout",
     "output_type": "stream",
     "text": [
      "0 kimchi\n",
      "1 bibimbab\n",
      "2 tteok-bokki\n"
     ]
    }
   ],
   "source": [
    "for i, food in kr_food_enum: #enum type에는 값에 index가 들어있음\n",
    "    print(i, food)"
   ]
  },
  {
   "cell_type": "markdown",
   "metadata": {},
   "source": [
    "## 문자열\n",
    "- 리스트의 값은 대괄호로 출력되고 문자열은 작은 따옴표로 출력됨\n",
    "- +기호, len"
   ]
  },
  {
   "cell_type": "code",
   "execution_count": 35,
   "metadata": {},
   "outputs": [
    {
     "data": {
      "text/plain": [
       "'파이썬최고'"
      ]
     },
     "execution_count": 35,
     "metadata": {},
     "output_type": "execute_result"
    }
   ],
   "source": [
    "st = '파이썬' + '최고'\n",
    "st"
   ]
  },
  {
   "cell_type": "code",
   "execution_count": 36,
   "metadata": {},
   "outputs": [
    {
     "data": {
      "text/plain": [
       "'파이썬파이썬파이썬'"
      ]
     },
     "execution_count": 36,
     "metadata": {},
     "output_type": "execute_result"
    }
   ],
   "source": [
    "st = '파이썬'*3\n",
    "st"
   ]
  },
  {
   "cell_type": "code",
   "execution_count": 37,
   "metadata": {},
   "outputs": [
    {
     "data": {
      "text/plain": [
       "9"
      ]
     },
     "execution_count": 37,
     "metadata": {},
     "output_type": "execute_result"
    }
   ],
   "source": [
    "len(st) #파이썬에서는 한글도 한글자를 하나라고 처리함! 한글은 영어보다 바이트가 큰데도.."
   ]
  },
  {
   "cell_type": "code",
   "execution_count": 40,
   "metadata": {},
   "outputs": [
    {
     "name": "stdout",
     "output_type": "stream",
     "text": [
      "파! 이! 썬! 짱! "
     ]
    }
   ],
   "source": [
    "st = '파이썬짱'\n",
    "for i in range(0, len(st)):\n",
    "    print(st[i] + '!' , end = ' ')"
   ]
  },
  {
   "cell_type": "markdown",
   "metadata": {},
   "source": [
    "### 문자열을 입력 받아 반대로 출력"
   ]
  },
  {
   "cell_type": "code",
   "execution_count": 45,
   "metadata": {},
   "outputs": [
    {
     "name": "stdout",
     "output_type": "stream",
     "text": [
      "문자열을 입력하세요 : 안녕하세요\n",
      "요세하녕안"
     ]
    }
   ],
   "source": [
    "instr, outstr = '',''\n",
    "count, i = 0, 0\n",
    "\n",
    "instr = input('문자열을 입력하세요 : ')\n",
    "\n",
    "#이건 그냥 내가 심심풀이,,\n",
    "for i in range(len(instr)-1,-1,-1):\n",
    "    print(instr[i] , end = '')"
   ]
  },
  {
   "cell_type": "code",
   "execution_count": 46,
   "metadata": {},
   "outputs": [
    {
     "name": "stdout",
     "output_type": "stream",
     "text": [
      "문자열을 입력하세요 : 안녕하세요\n",
      "요세하녕안\n"
     ]
    }
   ],
   "source": [
    "# 피피티에는 이거임\n",
    "\n",
    "instr = input('문자열을 입력하세요 : ')\n",
    "count = len(instr)\n",
    "for i in range(0, count):\n",
    "    outstr += instr[count-(i+1)]\n",
    "print(outstr)"
   ]
  },
  {
   "cell_type": "markdown",
   "metadata": {},
   "source": [
    "### upper(), lower(), swapcase(), title()"
   ]
  },
  {
   "cell_type": "code",
   "execution_count": 48,
   "metadata": {},
   "outputs": [
    {
     "data": {
      "text/plain": [
       "'PYTHON IS EASY'"
      ]
     },
     "execution_count": 48,
     "metadata": {},
     "output_type": "execute_result"
    }
   ],
   "source": [
    "ss = 'python is Easy'\n",
    "ss.upper()"
   ]
  },
  {
   "cell_type": "code",
   "execution_count": 49,
   "metadata": {},
   "outputs": [
    {
     "data": {
      "text/plain": [
       "'python is easy'"
      ]
     },
     "execution_count": 49,
     "metadata": {},
     "output_type": "execute_result"
    }
   ],
   "source": [
    "ss.lower()"
   ]
  },
  {
   "cell_type": "code",
   "execution_count": 50,
   "metadata": {},
   "outputs": [
    {
     "data": {
      "text/plain": [
       "'PYTHON IS eASY'"
      ]
     },
     "execution_count": 50,
     "metadata": {},
     "output_type": "execute_result"
    }
   ],
   "source": [
    "ss.swapcase()"
   ]
  },
  {
   "cell_type": "code",
   "execution_count": 51,
   "metadata": {},
   "outputs": [
    {
     "data": {
      "text/plain": [
       "'Python Is Easy'"
      ]
     },
     "execution_count": 51,
     "metadata": {},
     "output_type": "execute_result"
    }
   ],
   "source": [
    "ss.title()"
   ]
  },
  {
   "cell_type": "markdown",
   "metadata": {},
   "source": [
    "### 함수와 method!\n",
    "- 함수는 단독으로 사용\n",
    "- 괄호 안에 해당 변수를 넣음\n",
    "- len(ss)처럼\n",
    "\n",
    "\n",
    "- method는 점을 사용\n",
    "- 변수명.메소드()\n",
    "- ss.upper()처럼\n",
    "\n",
    "### 검색 method\n",
    "- find와 count만 알고있기 & find와 index의 차이 알기\n",
    "#### 오프셋 : 띄어쓰기는 세지 않음. 한 글자마다 인덱스\n",
    "- count : s.count('like') / 괄호안의 문자열이 발생하는 횟수 리턴\n",
    "- find : 괄호안 문자열의 오프셋 리턴. 없으면 -1 리턴\n",
    "- rfind : 오른쪽부터 문자열 검색. 그러나 인덱스 안바뀜. 인덱스의 시작은 왼쪽부터! / 단지 오른쪽 단어를 먼저 찾아낼 뿐임\n",
    "- index : 괄호안 문자열의 오프셋 리턴. 없으면 예외 발생\n",
    "- rindex : 오른쪽부터\n",
    "- startswith : TF반환 / 괄호안의 문자열로 시작하는가 아닌가\n",
    "- endswith : 해당 문자열로 끝나는가 아닌가 / 범위지정가능"
   ]
  },
  {
   "cell_type": "code",
   "execution_count": 85,
   "metadata": {},
   "outputs": [
    {
     "data": {
      "text/plain": [
       "2"
      ]
     },
     "execution_count": 85,
     "metadata": {},
     "output_type": "execute_result"
    }
   ],
   "source": [
    "s = 'I like python and my favorite language is c++, coding is difficult but I like it'\n",
    "t = 'coding is difficult, but I love it'\n",
    "s.count('like')"
   ]
  },
  {
   "cell_type": "code",
   "execution_count": 53,
   "metadata": {},
   "outputs": [
    {
     "data": {
      "text/plain": [
       "2"
      ]
     },
     "execution_count": 53,
     "metadata": {},
     "output_type": "execute_result"
    }
   ],
   "source": [
    "s.find('like')"
   ]
  },
  {
   "cell_type": "code",
   "execution_count": 97,
   "metadata": {},
   "outputs": [
    {
     "data": {
      "text/plain": [
       "-1"
      ]
     },
     "execution_count": 97,
     "metadata": {},
     "output_type": "execute_result"
    }
   ],
   "source": [
    "s.find('like',74)"
   ]
  },
  {
   "cell_type": "code",
   "execution_count": 96,
   "metadata": {},
   "outputs": [
    {
     "data": {
      "text/plain": [
       "73"
      ]
     },
     "execution_count": 96,
     "metadata": {},
     "output_type": "execute_result"
    }
   ],
   "source": [
    "s.find('like',3) #문자열 s에서 3번 위치부터 like를 검색함"
   ]
  },
  {
   "cell_type": "code",
   "execution_count": 94,
   "metadata": {},
   "outputs": [
    {
     "data": {
      "text/plain": [
       "73"
      ]
     },
     "execution_count": 94,
     "metadata": {},
     "output_type": "execute_result"
    }
   ],
   "source": [
    "s.rfind('like')"
   ]
  },
  {
   "cell_type": "code",
   "execution_count": 59,
   "metadata": {},
   "outputs": [
    {
     "ename": "ValueError",
     "evalue": "substring not found",
     "output_type": "error",
     "traceback": [
      "\u001b[1;31m---------------------------------------------------------------------------\u001b[0m",
      "\u001b[1;31mValueError\u001b[0m                                Traceback (most recent call last)",
      "\u001b[1;32m<ipython-input-59-cb5587a056eb>\u001b[0m in \u001b[0;36m<module>\u001b[1;34m\u001b[0m\n\u001b[1;32m----> 1\u001b[1;33m \u001b[0ms\u001b[0m\u001b[1;33m.\u001b[0m\u001b[0mindex\u001b[0m\u001b[1;33m(\u001b[0m\u001b[1;34m'like'\u001b[0m\u001b[1;33m,\u001b[0m\u001b[1;36m3\u001b[0m\u001b[1;33m)\u001b[0m\u001b[1;33m\u001b[0m\u001b[1;33m\u001b[0m\u001b[0m\n\u001b[0m",
      "\u001b[1;31mValueError\u001b[0m: substring not found"
     ]
    }
   ],
   "source": [
    "s.index('like',3)"
   ]
  },
  {
   "cell_type": "code",
   "execution_count": 60,
   "metadata": {},
   "outputs": [
    {
     "data": {
      "text/plain": [
       "2"
      ]
     },
     "execution_count": 60,
     "metadata": {},
     "output_type": "execute_result"
    }
   ],
   "source": [
    "s.index('like')"
   ]
  },
  {
   "cell_type": "code",
   "execution_count": 61,
   "metadata": {},
   "outputs": [
    {
     "data": {
      "text/plain": [
       "2"
      ]
     },
     "execution_count": 61,
     "metadata": {},
     "output_type": "execute_result"
    }
   ],
   "source": [
    "s.rindex('like')"
   ]
  },
  {
   "cell_type": "code",
   "execution_count": 66,
   "metadata": {},
   "outputs": [
    {
     "data": {
      "text/plain": [
       "True"
      ]
     },
     "execution_count": 66,
     "metadata": {},
     "output_type": "execute_result"
    }
   ],
   "source": [
    "s.startswith('I like')"
   ]
  },
  {
   "cell_type": "code",
   "execution_count": 67,
   "metadata": {},
   "outputs": [
    {
     "data": {
      "text/plain": [
       "False"
      ]
     },
     "execution_count": 67,
     "metadata": {},
     "output_type": "execute_result"
    }
   ],
   "source": [
    "s.startswith('I like', 3) #3번째 문자열이 해당 문자열로 시작하는가?"
   ]
  },
  {
   "cell_type": "code",
   "execution_count": 68,
   "metadata": {},
   "outputs": [
    {
     "data": {
      "text/plain": [
       "True"
      ]
     },
     "execution_count": 68,
     "metadata": {},
     "output_type": "execute_result"
    }
   ],
   "source": [
    "s.endswith('love it')"
   ]
  },
  {
   "cell_type": "code",
   "execution_count": 93,
   "metadata": {},
   "outputs": [
    {
     "data": {
      "text/plain": [
       "False"
      ]
     },
     "execution_count": 93,
     "metadata": {},
     "output_type": "execute_result"
    }
   ],
   "source": [
    "t.endswith('difficult',0,19) #콤마는 nono"
   ]
  },
  {
   "cell_type": "markdown",
   "metadata": {},
   "source": [
    "### 편집, 치환 method\n",
    "\n",
    "- s.strip() : 좌우 공백 삭제\n",
    "- s.rstrip() : 오른쪽 공백 삭제\n",
    "- s.lstrip() : 왼쪽 공백 삭제\n",
    "- s.strip('<>') : 문자열 s에서 괄호안에 있는 특정 문자 삭제\n",
    "- s.replace : 문자열 치환"
   ]
  },
  {
   "cell_type": "code",
   "execution_count": 98,
   "metadata": {},
   "outputs": [
    {
     "data": {
      "text/plain": [
       "'파  이  썬'"
      ]
     },
     "execution_count": 98,
     "metadata": {},
     "output_type": "execute_result"
    }
   ],
   "source": [
    "sss = '  파  이  썬  '\n",
    "sss.strip()"
   ]
  },
  {
   "cell_type": "code",
   "execution_count": 99,
   "metadata": {},
   "outputs": [
    {
     "data": {
      "text/plain": [
       "'  파  이  썬'"
      ]
     },
     "execution_count": 99,
     "metadata": {},
     "output_type": "execute_result"
    }
   ],
   "source": [
    "sss.rstrip()"
   ]
  },
  {
   "cell_type": "code",
   "execution_count": 100,
   "metadata": {},
   "outputs": [
    {
     "data": {
      "text/plain": [
       "'파  이  썬  '"
      ]
     },
     "execution_count": 100,
     "metadata": {},
     "output_type": "execute_result"
    }
   ],
   "source": [
    "sss.lstrip()"
   ]
  },
  {
   "cell_type": "code",
   "execution_count": 101,
   "metadata": {},
   "outputs": [
    {
     "data": {
      "text/plain": [
       "'파--이--썬'"
      ]
     },
     "execution_count": 101,
     "metadata": {},
     "output_type": "execute_result"
    }
   ],
   "source": [
    "sss = '--파--이--썬--'\n",
    "sss.strip('-')"
   ]
  },
  {
   "cell_type": "code",
   "execution_count": 102,
   "metadata": {},
   "outputs": [
    {
     "data": {
      "text/plain": [
       "'python 공부중~~'"
      ]
     },
     "execution_count": 102,
     "metadata": {},
     "output_type": "execute_result"
    }
   ],
   "source": [
    "sss = '파이썬 공부중~~'\n",
    "sss.replace('파이썬','python')"
   ]
  },
  {
   "cell_type": "code",
   "execution_count": null,
   "metadata": {},
   "outputs": [],
   "source": []
  }
 ],
 "metadata": {
  "kernelspec": {
   "display_name": "Python 3",
   "language": "python",
   "name": "python3"
  },
  "language_info": {
   "codemirror_mode": {
    "name": "ipython",
    "version": 3
   },
   "file_extension": ".py",
   "mimetype": "text/x-python",
   "name": "python",
   "nbconvert_exporter": "python",
   "pygments_lexer": "ipython3",
   "version": "3.7.6"
  }
 },
 "nbformat": 4,
 "nbformat_minor": 4
}
