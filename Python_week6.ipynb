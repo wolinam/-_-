{
 "cells": [
  {
   "cell_type": "markdown",
   "metadata": {},
   "source": [
    "# 교양 파이썬 프로그래밍_6주차"
   ]
  },
  {
   "cell_type": "markdown",
   "metadata": {},
   "source": [
    "- 5주차 내용 복습\n",
    "\n",
    "#실습1\n",
    "1. [홍길동, 허난설현,허균]인 과에 이황이 편입을 했다. 이황을 리스트에 추가하라.\n",
    "2. 허균을 허균 뒤에 추가하라\n",
    "3. 허균이 몇 명인지 명령어를 써서 구해보아라\n",
    "4. 홍길동을 삭제하라\n",
    "5. 현재 리스트에서 두 번째 학생일 자퇴를 하였다. 두 번째 학생을 삭제하라.\n",
    "6. 현재 출석부를 내림차순으로 정렬하라."
   ]
  },
  {
   "cell_type": "code",
   "execution_count": 4,
   "metadata": {},
   "outputs": [
    {
     "name": "stdout",
     "output_type": "stream",
     "text": [
      "['홍길동', '허난설현', '허균', '이황']\n"
     ]
    }
   ],
   "source": [
    "students = ['홍길동', '허난설현','허균']\n",
    "students.append('이황')\n",
    "print(students)"
   ]
  },
  {
   "cell_type": "code",
   "execution_count": 5,
   "metadata": {},
   "outputs": [
    {
     "name": "stdout",
     "output_type": "stream",
     "text": [
      "['홍길동', '허난설현', '허균', '허균', '이황']\n"
     ]
    }
   ],
   "source": [
    "students.insert(3,'허균')\n",
    "print(students)"
   ]
  },
  {
   "cell_type": "code",
   "execution_count": 7,
   "metadata": {},
   "outputs": [
    {
     "data": {
      "text/plain": [
       "2"
      ]
     },
     "execution_count": 7,
     "metadata": {},
     "output_type": "execute_result"
    }
   ],
   "source": [
    "students.count('허균')"
   ]
  },
  {
   "cell_type": "code",
   "execution_count": 8,
   "metadata": {},
   "outputs": [
    {
     "name": "stdout",
     "output_type": "stream",
     "text": [
      "['허난설현', '허균', '허균', '이황']\n"
     ]
    }
   ],
   "source": [
    "students.remove('홍길동')\n",
    "print(students)"
   ]
  },
  {
   "cell_type": "code",
   "execution_count": 10,
   "metadata": {},
   "outputs": [
    {
     "name": "stdout",
     "output_type": "stream",
     "text": [
      "['허난설현', '허균', '이황']\n"
     ]
    }
   ],
   "source": [
    "del students[1]\n",
    "print(students)"
   ]
  },
  {
   "cell_type": "code",
   "execution_count": 11,
   "metadata": {},
   "outputs": [
    {
     "name": "stdout",
     "output_type": "stream",
     "text": [
      "['이황', '허균', '허난설현']\n"
     ]
    }
   ],
   "source": [
    "students.sort()\n",
    "print(students)"
   ]
  },
  {
   "cell_type": "markdown",
   "metadata": {},
   "source": [
    "#실습2\n",
    "- 학생 리스트에서 새 학생이 들어오면, 재정렬하여 이름순으로 번호와 출력하기"
   ]
  },
  {
   "cell_type": "code",
   "execution_count": 17,
   "metadata": {},
   "outputs": [
    {
     "name": "stdout",
     "output_type": "stream",
     "text": [
      "현재학생은 ['이황', '이이', '원효']\n",
      "전학 온 학생은 누구입니까?의상\n",
      "['이황', '이이', '원효', '의상']\n",
      "1 이황 \n",
      "\n",
      "2 이이 \n",
      "\n",
      "3 원효 \n",
      "\n",
      "4 의상 \n",
      "\n"
     ]
    }
   ],
   "source": [
    "stu = ['이황','이이','원효']\n",
    "print('현재학생은',stu)\n",
    "come = str(input(\"전학 온 학생은 누구입니까?\"))\n",
    "stu.append(come)\n",
    "print(stu)\n",
    "\n",
    "i = 0\n",
    "for i in range(i,len(stu),1):\n",
    "    print((i+1),stu[i],'\\n')\n",
    "    \n",
    "    \n",
    "## stu는 상수고 i는 그냥 integer임. 같은 i로 동일하게 사용하면 안됨.\n",
    "## for i in stu:\n",
    "## b=b+1\n",
    "## print(b,i)"
   ]
  },
  {
   "cell_type": "markdown",
   "metadata": {},
   "source": [
    "***"
   ]
  },
  {
   "cell_type": "markdown",
   "metadata": {},
   "source": [
    "# 다양한 데이터 구조\n",
    "\n",
    "** 튜플 (리스트와 유사)\n",
    "- 값을 변경할 수 없음\n",
    "- 아예 값을 넣어서 선언하는 문자열 변수 등\n",
    "ex. text = \"파이썬 문자열\"\n",
    "- syntax : 소괄호 사용 혹은 괄호 사용하지 않고 선언\n",
    "- 단순하고 간결 : 성능 측면에서 장점\n",
    "- 프로그램 내에서 절대로 변경하면 안 되는 데이터에 사용\n",
    "- 반면 리스트는 동일한 자료 타입으로 이루어진 항목들을 리스트 내에서 순차적으로 추출할 때 사용\n",
    "\n",
    "***\n",
    "** 세트\n",
    "- 중복 데이터를 허용하지 않음\n",
    "***\n",
    "** 딕셔너리\n",
    "- 특정 key로 값을 불러올 수 있음\n",
    "- key & value"
   ]
  },
  {
   "cell_type": "markdown",
   "metadata": {},
   "source": [
    "## 튜플\n",
    "- 사용 : 튜플 자르기 & 새로 만들기\n",
    "- append, 원소만 바꾸기, 원소만 del 등등은 안됨.\n",
    "- 단, del로 튜플 전체를 삭제하는건 가능"
   ]
  },
  {
   "cell_type": "markdown",
   "metadata": {},
   "source": [
    "### 튜플의 선언 및 자르기 & 사용"
   ]
  },
  {
   "cell_type": "code",
   "execution_count": 1,
   "metadata": {},
   "outputs": [
    {
     "data": {
      "text/plain": [
       "('red', 4, '다이아몬드', True)"
      ]
     },
     "execution_count": 1,
     "metadata": {},
     "output_type": "execute_result"
    }
   ],
   "source": [
    "card = 'red',4,'다이아몬드',True\n",
    "card\n",
    "##card[-1] = False라고 쓰면 에러\n",
    "# 튜플 범위 [시작값 : 끝값 +1]"
   ]
  },
  {
   "cell_type": "code",
   "execution_count": 2,
   "metadata": {},
   "outputs": [
    {
     "data": {
      "text/plain": [
       "'다이아몬드'"
      ]
     },
     "execution_count": 2,
     "metadata": {},
     "output_type": "execute_result"
    }
   ],
   "source": [
    "card[2]"
   ]
  },
  {
   "cell_type": "code",
   "execution_count": 3,
   "metadata": {},
   "outputs": [
    {
     "data": {
      "text/plain": [
       "('red', 4)"
      ]
     },
     "execution_count": 3,
     "metadata": {},
     "output_type": "execute_result"
    }
   ],
   "source": [
    "card[:2]"
   ]
  },
  {
   "cell_type": "code",
   "execution_count": 4,
   "metadata": {},
   "outputs": [
    {
     "data": {
      "text/plain": [
       "('다이아몬드', True)"
      ]
     },
     "execution_count": 4,
     "metadata": {},
     "output_type": "execute_result"
    }
   ],
   "source": [
    "card[2:]"
   ]
  },
  {
   "cell_type": "code",
   "execution_count": 5,
   "metadata": {},
   "outputs": [
    {
     "data": {
      "text/plain": [
       "('red', 4, '다이아몬드', True)"
      ]
     },
     "execution_count": 5,
     "metadata": {},
     "output_type": "execute_result"
    }
   ],
   "source": [
    "card[:]"
   ]
  },
  {
   "cell_type": "markdown",
   "metadata": {},
   "source": [
    "***"
   ]
  },
  {
   "cell_type": "code",
   "execution_count": 27,
   "metadata": {},
   "outputs": [
    {
     "data": {
      "text/plain": [
       "60"
      ]
     },
     "execution_count": 27,
     "metadata": {},
     "output_type": "execute_result"
    }
   ],
   "source": [
    "tt1 = 10,20,30,40\n",
    "#del(tt1)\n",
    "tt1[0]+tt1[1]+tt1[2]"
   ]
  },
  {
   "cell_type": "code",
   "execution_count": 25,
   "metadata": {},
   "outputs": [
    {
     "data": {
      "text/plain": [
       "(10, 20, 30, 40, 'A', 'B')"
      ]
     },
     "execution_count": 25,
     "metadata": {},
     "output_type": "execute_result"
    }
   ],
   "source": [
    "tt2 = ('A','B')\n",
    "tt1+tt2"
   ]
  },
  {
   "cell_type": "code",
   "execution_count": 26,
   "metadata": {},
   "outputs": [
    {
     "data": {
      "text/plain": [
       "('A', 'B', 'A', 'B', 'A', 'B')"
      ]
     },
     "execution_count": 26,
     "metadata": {},
     "output_type": "execute_result"
    }
   ],
   "source": [
    "tt2*3"
   ]
  },
  {
   "cell_type": "markdown",
   "metadata": {},
   "source": [
    "***\n",
    "- 비어있는 튜플 만들기"
   ]
  },
  {
   "cell_type": "code",
   "execution_count": 6,
   "metadata": {},
   "outputs": [
    {
     "data": {
      "text/plain": [
       "0"
      ]
     },
     "execution_count": 6,
     "metadata": {},
     "output_type": "execute_result"
    }
   ],
   "source": [
    "empty_tuple1=0\n",
    "empty_tuple1"
   ]
  },
  {
   "cell_type": "code",
   "execution_count": 8,
   "metadata": {},
   "outputs": [
    {
     "data": {
      "text/plain": [
       "()"
      ]
     },
     "execution_count": 8,
     "metadata": {},
     "output_type": "execute_result"
    }
   ],
   "source": [
    "empty_tuple2=tuple()\n",
    "empty_tuple2"
   ]
  },
  {
   "cell_type": "markdown",
   "metadata": {},
   "source": [
    "- 항목이 하나 있는 경우"
   ]
  },
  {
   "cell_type": "code",
   "execution_count": 11,
   "metadata": {},
   "outputs": [
    {
     "name": "stdout",
     "output_type": "stream",
     "text": [
      "<class 'str'>\n",
      "<class 'str'>\n"
     ]
    }
   ],
   "source": [
    "one=('하나')\n",
    "print(type(one))\n",
    "\n",
    "one_item = '하나'\n",
    "print(type(one_item))"
   ]
  },
  {
   "cell_type": "markdown",
   "metadata": {},
   "source": [
    "### 튜플 패킹과 언패킹\n",
    "\n",
    ": 튜플을 생성하는 것 = 패킹\n",
    "\n",
    ": 튜플을 변수에 할당하는 것 = 언패킹"
   ]
  },
  {
   "cell_type": "code",
   "execution_count": 13,
   "metadata": {},
   "outputs": [
    {
     "data": {
      "text/plain": [
       "'red'"
      ]
     },
     "execution_count": 13,
     "metadata": {},
     "output_type": "execute_result"
    }
   ],
   "source": [
    "card = 'red',4,'다이아몬드',True #패킹\n",
    "\n",
    "#언패킹\n",
    "a,b,c,d = card\n",
    "a"
   ]
  },
  {
   "cell_type": "markdown",
   "metadata": {},
   "source": [
    "***\n",
    "### 튜플과 리스트 왔다갔다하기\n",
    "\n",
    "#### 리스트로 형변환을 하면 됨.\n",
    "- 리스트 -> 튜플도 마찬가지. 튜플로 형변환하면 됨.\n",
    "- 튜플을 사용하다가 튜플 안의 값을 갑자기 바꿔야하는 일이 생길 때 사용"
   ]
  },
  {
   "cell_type": "code",
   "execution_count": 15,
   "metadata": {},
   "outputs": [
    {
     "data": {
      "text/plain": [
       "list"
      ]
     },
     "execution_count": 15,
     "metadata": {},
     "output_type": "execute_result"
    }
   ],
   "source": [
    "card_list = list(card)\n",
    "type(card_list)"
   ]
  },
  {
   "cell_type": "code",
   "execution_count": 16,
   "metadata": {},
   "outputs": [
    {
     "data": {
      "text/plain": [
       "['red', 4, '다이아몬드', True]"
      ]
     },
     "execution_count": 16,
     "metadata": {},
     "output_type": "execute_result"
    }
   ],
   "source": [
    "card_list"
   ]
  },
  {
   "cell_type": "code",
   "execution_count": 18,
   "metadata": {},
   "outputs": [
    {
     "data": {
      "text/plain": [
       "('red', 4, '다이아몬드', True)"
      ]
     },
     "execution_count": 18,
     "metadata": {},
     "output_type": "execute_result"
    }
   ],
   "source": [
    "card_tuple = tuple(card_list)\n",
    "card_tuple"
   ]
  },
  {
   "cell_type": "markdown",
   "metadata": {},
   "source": [
    "## 세트\n",
    "\n",
    "- 중복 허용하지 않음\n",
    "- 중복 들어오면 무시\n",
    "- 순서가 없음\n",
    "- 얘는 중괄호{ }\n",
    "- 튜플은 (), 리스트는 [], 세트는 { }"
   ]
  },
  {
   "cell_type": "code",
   "execution_count": 28,
   "metadata": {},
   "outputs": [
    {
     "data": {
      "text/plain": [
       "{'C', 'C++', 'python'}"
      ]
     },
     "execution_count": 28,
     "metadata": {},
     "output_type": "execute_result"
    }
   ],
   "source": [
    "language = {'C++', 'python', 'C','C','C++'}\n",
    "language\n",
    "## 중복 삭제"
   ]
  },
  {
   "cell_type": "code",
   "execution_count": 29,
   "metadata": {},
   "outputs": [
    {
     "data": {
      "text/plain": [
       "True"
      ]
     },
     "execution_count": 29,
     "metadata": {},
     "output_type": "execute_result"
    }
   ],
   "source": [
    "'python' in language #python이라는 것이 language 안에 있는지 확인할 때"
   ]
  },
  {
   "cell_type": "code",
   "execution_count": 30,
   "metadata": {},
   "outputs": [
    {
     "data": {
      "text/plain": [
       "False"
      ]
     },
     "execution_count": 30,
     "metadata": {},
     "output_type": "execute_result"
    }
   ],
   "source": [
    "'Matlab' in language"
   ]
  },
  {
   "cell_type": "markdown",
   "metadata": {},
   "source": [
    "- 빈 세트 생성\n",
    ": 왜 비어있는 것을 만드나?\n",
    "    코드가 길어질 때 변수 확인을 위해. 변수 값이 어떻게 될지 모르니까 미리 빈 값으로 선언."
   ]
  },
  {
   "cell_type": "code",
   "execution_count": 31,
   "metadata": {},
   "outputs": [
    {
     "data": {
      "text/plain": [
       "dict"
      ]
     },
     "execution_count": 31,
     "metadata": {},
     "output_type": "execute_result"
    }
   ],
   "source": [
    "emset = {}\n",
    "type(emset) #딕셔너리도 중괄호를 사용해서 파이썬은 이걸 세트가 아니라 딕션으로 인식함"
   ]
  },
  {
   "cell_type": "code",
   "execution_count": 32,
   "metadata": {},
   "outputs": [
    {
     "data": {
      "text/plain": [
       "set"
      ]
     },
     "execution_count": 32,
     "metadata": {},
     "output_type": "execute_result"
    }
   ],
   "source": [
    "realset = set()\n",
    "type(realset)"
   ]
  },
  {
   "cell_type": "markdown",
   "metadata": {},
   "source": [
    "### 선언 및 사용"
   ]
  },
  {
   "cell_type": "code",
   "execution_count": 34,
   "metadata": {},
   "outputs": [
    {
     "data": {
      "text/plain": [
       "{'a', 'b', 'c', 'd', 'r'}"
      ]
     },
     "execution_count": 34,
     "metadata": {},
     "output_type": "execute_result"
    }
   ],
   "source": [
    "a = set('abracadabra')\n",
    "b = set('alarm')\n",
    "a"
   ]
  },
  {
   "cell_type": "code",
   "execution_count": 35,
   "metadata": {},
   "outputs": [
    {
     "data": {
      "text/plain": [
       "{'b', 'c', 'd'}"
      ]
     },
     "execution_count": 35,
     "metadata": {},
     "output_type": "execute_result"
    }
   ],
   "source": [
    "a-b"
   ]
  },
  {
   "cell_type": "code",
   "execution_count": 36,
   "metadata": {},
   "outputs": [
    {
     "data": {
      "text/plain": [
       "{'a', 'b', 'c', 'd', 'l', 'm', 'r'}"
      ]
     },
     "execution_count": 36,
     "metadata": {},
     "output_type": "execute_result"
    }
   ],
   "source": [
    "a|b"
   ]
  },
  {
   "cell_type": "code",
   "execution_count": 37,
   "metadata": {},
   "outputs": [
    {
     "data": {
      "text/plain": [
       "{'b', 'c', 'd', 'l', 'm'}"
      ]
     },
     "execution_count": 37,
     "metadata": {},
     "output_type": "execute_result"
    }
   ],
   "source": [
    "a^b"
   ]
  },
  {
   "cell_type": "code",
   "execution_count": 38,
   "metadata": {},
   "outputs": [
    {
     "data": {
      "text/plain": [
       "{'a', 'r'}"
      ]
     },
     "execution_count": 38,
     "metadata": {},
     "output_type": "execute_result"
    }
   ],
   "source": [
    "a&b"
   ]
  },
  {
   "cell_type": "markdown",
   "metadata": {},
   "source": [
    "## 딕셔너리\n",
    "\n",
    "- key & value\n",
    "- 들어가는 값은 사용자 지정. 규정 없음.\n",
    "- key가 색인값을 대신함\n",
    "- 쌍 두 개가 하나로 묶임\n",
    "- 전체 항목이 정렬되지 않음. 즉 순서 없음. 생성도 순서 없음.\n",
    "- 변경 가능\n",
    "- 다른 프로그래밍에서는 해시(Hash):자바 , 연관 배열(Associative Array) 등이라고 함.\n",
    "- 특정 항목 삭제 : del\n",
    "- 전체 항목 삭제 : clear()\n",
    "- 데이터베이스나 엑셀 쓸 때 딕셔너리 많이 사용"
   ]
  },
  {
   "cell_type": "code",
   "execution_count": 39,
   "metadata": {},
   "outputs": [
    {
     "data": {
      "text/plain": [
       "{'학번': 2000, '이름': '홍길동', '학과': '전정공'}"
      ]
     },
     "execution_count": 39,
     "metadata": {},
     "output_type": "execute_result"
    }
   ],
   "source": [
    "# 동일한 key를 갖으면 마지막에 있는 key의 값이 적용\n",
    "stud = {'학번':1000, '이름':'홍길동','학과':'전정공','학번':2000}\n",
    "stud"
   ]
  },
  {
   "cell_type": "code",
   "execution_count": 40,
   "metadata": {},
   "outputs": [
    {
     "data": {
      "text/plain": [
       "'전정공'"
      ]
     },
     "execution_count": 40,
     "metadata": {},
     "output_type": "execute_result"
    }
   ],
   "source": [
    "## key가 색인값을 대신함!\n",
    "stud['학과']"
   ]
  },
  {
   "cell_type": "code",
   "execution_count": 41,
   "metadata": {},
   "outputs": [
    {
     "data": {
      "text/plain": [
       "{'학번': 2018, '이름': '홍길동', '학과': '전정공'}"
      ]
     },
     "execution_count": 41,
     "metadata": {},
     "output_type": "execute_result"
    }
   ],
   "source": [
    "stud['학번']=2018\n",
    "stud"
   ]
  },
  {
   "cell_type": "code",
   "execution_count": 42,
   "metadata": {},
   "outputs": [
    {
     "data": {
      "text/plain": [
       "{'학번': 2018, '이름': '홍길동', '학과': '전정공', '학년': 3}"
      ]
     },
     "execution_count": 42,
     "metadata": {},
     "output_type": "execute_result"
    }
   ],
   "source": [
    "##항목 추가\n",
    "stud['학년'] = 3\n",
    "stud"
   ]
  },
  {
   "cell_type": "markdown",
   "metadata": {},
   "source": [
    "***"
   ]
  },
  {
   "cell_type": "code",
   "execution_count": 43,
   "metadata": {},
   "outputs": [
    {
     "data": {
      "text/plain": [
       "4"
      ]
     },
     "execution_count": 43,
     "metadata": {},
     "output_type": "execute_result"
    }
   ],
   "source": [
    "len(stud) #항목 갯수 확인"
   ]
  },
  {
   "cell_type": "code",
   "execution_count": 48,
   "metadata": {},
   "outputs": [
    {
     "data": {
      "text/plain": [
       "dict_keys(['학번', '이름', '학과', '학년'])"
      ]
     },
     "execution_count": 48,
     "metadata": {},
     "output_type": "execute_result"
    }
   ],
   "source": [
    "# 키 값을 확인하고 싶을 때\n",
    "stud.keys()"
   ]
  },
  {
   "cell_type": "code",
   "execution_count": 47,
   "metadata": {},
   "outputs": [
    {
     "data": {
      "text/plain": [
       "['학번', '이름', '학과', '학년']"
      ]
     },
     "execution_count": 47,
     "metadata": {},
     "output_type": "execute_result"
    }
   ],
   "source": [
    "list(stud.keys())"
   ]
  },
  {
   "cell_type": "code",
   "execution_count": 49,
   "metadata": {},
   "outputs": [
    {
     "data": {
      "text/plain": [
       "dict_values([2018, '홍길동', '전정공', 3])"
      ]
     },
     "execution_count": 49,
     "metadata": {},
     "output_type": "execute_result"
    }
   ],
   "source": [
    "# value 확인\n",
    "stud.values()"
   ]
  },
  {
   "cell_type": "markdown",
   "metadata": {},
   "source": [
    "***"
   ]
  },
  {
   "cell_type": "code",
   "execution_count": 50,
   "metadata": {},
   "outputs": [
    {
     "data": {
      "text/plain": [
       "False"
      ]
     },
     "execution_count": 50,
     "metadata": {},
     "output_type": "execute_result"
    }
   ],
   "source": [
    "2018 in stud"
   ]
  },
  {
   "cell_type": "code",
   "execution_count": 51,
   "metadata": {},
   "outputs": [
    {
     "data": {
      "text/plain": [
       "True"
      ]
     },
     "execution_count": 51,
     "metadata": {},
     "output_type": "execute_result"
    }
   ],
   "source": [
    "'학번' in stud"
   ]
  },
  {
   "cell_type": "code",
   "execution_count": 52,
   "metadata": {},
   "outputs": [
    {
     "data": {
      "text/plain": [
       "True"
      ]
     },
     "execution_count": 52,
     "metadata": {},
     "output_type": "execute_result"
    }
   ],
   "source": [
    "2018 not in stud"
   ]
  },
  {
   "cell_type": "markdown",
   "metadata": {},
   "source": [
    "***"
   ]
  },
  {
   "cell_type": "code",
   "execution_count": 54,
   "metadata": {},
   "outputs": [
    {
     "data": {
      "text/plain": [
       "{'C++': 7, 'python': 3, 'matlab': 1}"
      ]
     },
     "execution_count": 54,
     "metadata": {},
     "output_type": "execute_result"
    }
   ],
   "source": [
    "prog = {'C++':7, 'python':3, 'java':2,'matlab':1}\n",
    "del prog['java']\n",
    "prog"
   ]
  },
  {
   "cell_type": "code",
   "execution_count": 56,
   "metadata": {},
   "outputs": [
    {
     "data": {
      "text/plain": [
       "{}"
      ]
     },
     "execution_count": 56,
     "metadata": {},
     "output_type": "execute_result"
    }
   ],
   "source": [
    "prog.clear()\n",
    "prog"
   ]
  },
  {
   "cell_type": "code",
   "execution_count": 57,
   "metadata": {},
   "outputs": [
    {
     "ename": "TypeError",
     "evalue": "'dict' object is not callable",
     "output_type": "error",
     "traceback": [
      "\u001b[1;31m---------------------------------------------------------------------------\u001b[0m",
      "\u001b[1;31mTypeError\u001b[0m                                 Traceback (most recent call last)",
      "\u001b[1;32m<ipython-input-57-d56f19620b97>\u001b[0m in \u001b[0;36m<module>\u001b[1;34m\u001b[0m\n\u001b[0;32m      2\u001b[0m \u001b[1;31m## 그러나 get은 없는 키를 호출하면 아무것도 반환하지 않음\u001b[0m\u001b[1;33m\u001b[0m\u001b[1;33m\u001b[0m\u001b[1;33m\u001b[0m\u001b[0m\n\u001b[0;32m      3\u001b[0m \u001b[1;33m\u001b[0m\u001b[0m\n\u001b[1;32m----> 4\u001b[1;33m \u001b[0mstud\u001b[0m\u001b[1;33m(\u001b[0m\u001b[1;34m'학교'\u001b[0m\u001b[1;33m)\u001b[0m\u001b[1;33m\u001b[0m\u001b[1;33m\u001b[0m\u001b[0m\n\u001b[0m",
      "\u001b[1;31mTypeError\u001b[0m: 'dict' object is not callable"
     ]
    }
   ],
   "source": [
    "# get : key로 호출하는건 없는것을 호출하면 오류 발생.\n",
    "## 그러나 get은 없는 키를 호출하면 아무것도 반환하지 않음. 즉, 오류가 나지 않음.\n",
    "## 오류는 심각한 문제\n",
    "\n",
    "stud('학교')"
   ]
  },
  {
   "cell_type": "code",
   "execution_count": 58,
   "metadata": {},
   "outputs": [],
   "source": [
    "stud.get('학교')"
   ]
  },
  {
   "cell_type": "code",
   "execution_count": 59,
   "metadata": {},
   "outputs": [
    {
     "data": {
      "text/plain": [
       "3"
      ]
     },
     "execution_count": 59,
     "metadata": {},
     "output_type": "execute_result"
    }
   ],
   "source": [
    "stud.get('학년')"
   ]
  },
  {
   "cell_type": "code",
   "execution_count": 60,
   "metadata": {},
   "outputs": [
    {
     "data": {
      "text/plain": [
       "dict_items([('학번', 2018), ('이름', '홍길동'), ('학과', '전정공'), ('학년', 3)])"
      ]
     },
     "execution_count": 60,
     "metadata": {},
     "output_type": "execute_result"
    }
   ],
   "source": [
    "## items()는 튜플 형태로\n",
    "stud.items()"
   ]
  },
  {
   "cell_type": "code",
   "execution_count": 62,
   "metadata": {},
   "outputs": [
    {
     "name": "stdout",
     "output_type": "stream",
     "text": [
      "학번-----> 2018\n",
      "이름-----> 홍길동\n",
      "학과-----> 전정공\n",
      "학년-----> 3\n"
     ]
    }
   ],
   "source": [
    "for i in stud.keys():\n",
    "    print(\"%s-----> %s\"%(i,stud[i]))"
   ]
  },
  {
   "cell_type": "code",
   "execution_count": 64,
   "metadata": {},
   "outputs": [
    {
     "name": "stdout",
     "output_type": "stream",
     "text": [
      "[('edward', '에드워드'), ('gothen', '고든'), ('henry', '헨리'), ('thomas', '토마스')]\n"
     ]
    }
   ],
   "source": [
    "# 이 부분은 시험 X - 나중에\n",
    "import operator\n",
    "trainD, trainL = {},[]\n",
    "trainD = {'thomas':'토마스','gothen':'고든','henry':'헨리','edward':'에드워드'}\n",
    "trainL = sorted(trainD.items(),key=operator.itemgetter(0))\n",
    "print(trainL)"
   ]
  },
  {
   "cell_type": "code",
   "execution_count": null,
   "metadata": {},
   "outputs": [],
   "source": []
  }
 ],
 "metadata": {
  "kernelspec": {
   "display_name": "Python 3",
   "language": "python",
   "name": "python3"
  },
  "language_info": {
   "codemirror_mode": {
    "name": "ipython",
    "version": 3
   },
   "file_extension": ".py",
   "mimetype": "text/x-python",
   "name": "python",
   "nbconvert_exporter": "python",
   "pygments_lexer": "ipython3",
   "version": "3.7.6"
  }
 },
 "nbformat": 4,
 "nbformat_minor": 4
}
