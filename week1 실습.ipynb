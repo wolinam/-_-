{
 "cells": [
  {
   "cell_type": "markdown",
   "metadata": {},
   "source": [
    "# 1주차 실습\n",
    "\n",
    "##### 1-1. 나이를 입력하여 출력하는 소스코드"
   ]
  },
  {
   "cell_type": "code",
   "execution_count": 10,
   "metadata": {},
   "outputs": [
    {
     "name": "stdout",
     "output_type": "stream",
     "text": [
      "나이를 입력하세요 : 22\n",
      "당신의 나이는 22입니다.\n"
     ]
    }
   ],
   "source": [
    "age = int( input(\"나이를 입력하세요 : \")) \n",
    "print(\"당신의 나이는 %d입니다.\"%age)"
   ]
  },
  {
   "cell_type": "markdown",
   "metadata": {},
   "source": [
    "##### 1-2. 코드 빈칸 완성하기"
   ]
  },
  {
   "cell_type": "code",
   "execution_count": 15,
   "metadata": {},
   "outputs": [
    {
     "name": "stdout",
     "output_type": "stream",
     "text": [
      "안녕하세요\n",
      "저는 숭실대학교 전자정보공학부 3 학년 입니다.\n"
     ]
    }
   ],
   "source": [
    "hello = '안녕하세요'\n",
    "print(hello)\n",
    "university = '숭실대학교'\n",
    "grade = '3'\n",
    "department = '전자정보공학부'\n",
    "print('저는', university, department, grade, '학년 입니다.')"
   ]
  },
  {
   "cell_type": "markdown",
   "metadata": {},
   "source": [
    "##### 2. input()"
   ]
  },
  {
   "cell_type": "code",
   "execution_count": 17,
   "metadata": {},
   "outputs": [
    {
     "name": "stdout",
     "output_type": "stream",
     "text": [
      "이름을 입력하세요.김숭실\n",
      "김숭실  님 환영합니다\n",
      "성별을 입력하세요.여자\n",
      "학번을 입력하세요.1234567\n",
      "김숭실 님의 성별은 여자\n",
      "김숭실 님의 학번은 1234567 입니다.\n"
     ]
    }
   ],
   "source": [
    "name = str(input('이름을 입력하세요.'))\n",
    "print(name,' 님 환영합니다')\n",
    "gender, number = input('성별을 입력하세요.'), input('학번을 입력하세요.')\n",
    "print(name, '님의 성별은' ,gender)\n",
    "print(name, '님의 학번은', number, '입니다.')"
   ]
  },
  {
   "cell_type": "markdown",
   "metadata": {},
   "source": [
    "##### 3.input() 과 print()"
   ]
  },
  {
   "cell_type": "code",
   "execution_count": 19,
   "metadata": {},
   "outputs": [
    {
     "name": "stdout",
     "output_type": "stream",
     "text": [
      "반갑습니다. 계좌 이체를 위한 정보를 입력하세요.\n",
      "1) \t 출금 계좌 번호 : 123456789\n",
      "2) \t 입금 은행 : 우리 은행\n",
      "1) \t 입금 계좌 번호 : 987654321\n",
      "1) \t 수취인 : 남아리\n",
      "1) \t 이체 금액 : 12345\n",
      "\n",
      "\n",
      "입력하신 정보는 아래와 같습니다.\n",
      "======================================\n",
      " - 출금 계좌 번호 :  123456789\n",
      " - 입금 은행 :  우리 은행\n",
      " - 입금 계좌 번호 :  987654321\n",
      " - 수취인 :  남아리\n",
      " - 이체 금액 :  12345\n",
      "======================================\n"
     ]
    }
   ],
   "source": [
    "print(\"반갑습니다. 계좌 이체를 위한 정보를 입력하세요.\")\n",
    "withdraw = int(input('1) \\t 출금 계좌 번호 : '))\n",
    "bank = str(input('2) \\t 입금 은행 : '))\n",
    "deposit = int(input('1) \\t 입금 계좌 번호 : '))\n",
    "receiver = str(input('1) \\t 수취인 : '))\n",
    "price = int(input('1) \\t 이체 금액 : '))\n",
    "\n",
    "print('\\n')\n",
    "print('입력하신 정보는 아래와 같습니다.')\n",
    "print('======================================')\n",
    "print(' - 출금 계좌 번호 : ',withdraw)\n",
    "print(' - 입금 은행 : ',bank)\n",
    "print(' - 입금 계좌 번호 : ',deposit)\n",
    "print(' - 수취인 : ',receiver)\n",
    "print(' - 이체 금액 : ',price)\n",
    "print('======================================')"
   ]
  },
  {
   "cell_type": "code",
   "execution_count": null,
   "metadata": {},
   "outputs": [],
   "source": []
  }
 ],
 "metadata": {
  "kernelspec": {
   "display_name": "Python 3",
   "language": "python",
   "name": "python3"
  },
  "language_info": {
   "codemirror_mode": {
    "name": "ipython",
    "version": 3
   },
   "file_extension": ".py",
   "mimetype": "text/x-python",
   "name": "python",
   "nbconvert_exporter": "python",
   "pygments_lexer": "ipython3",
   "version": "3.7.6"
  }
 },
 "nbformat": 4,
 "nbformat_minor": 4
}
