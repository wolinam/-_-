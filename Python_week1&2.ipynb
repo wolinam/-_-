{
 "cells": [
  {
   "cell_type": "markdown",
   "metadata": {},
   "source": [
    "# 교양 파이썬 프로그래밍_1주차&2주차 연습"
   ]
  },
  {
   "cell_type": "markdown",
   "metadata": {},
   "source": [
    "- 입력은 input() 출력은 print()\n",
    "- 세미콜론 없어도 오류X\n",
    "- \" \" , ' ' 둘 다 문자 및 문자열\n",
    "- 줄바꿈은 동일 \"줄바꾸기\\n\""
   ]
  },
  {
   "cell_type": "markdown",
   "metadata": {},
   "source": [
    "**C**  \n",
    "int age = 0;  \n",
    "scanf(\"몇 살 입니까?\",&age);  \n",
    "printf(\"나는 %d살 입니다.\", age);  \n",
    "\n",
    "- 반면 python에서는 콤마 대신 % 사용!!\n",
    "- 그리고 변수는 변수 = input으로 받음.\n",
    "- 변수 선언 할 때 자료형 쓰면 안됨"
   ]
  },
  {
   "cell_type": "code",
   "execution_count": 18,
   "metadata": {},
   "outputs": [
    {
     "name": "stdout",
     "output_type": "stream",
     "text": [
      "이름이 뭐죠? : 남아리\n",
      "내 이름은 남아리 입니다\n",
      "안녕! 남아리 \n",
      "\n",
      "나는 22살 입니다.\n",
      "제 키는 170.20 cm 입니다.\n"
     ]
    }
   ],
   "source": [
    "name = input('이름이 뭐죠? : ')\n",
    "height = 170.2\n",
    "print(\"내 이름은 %s 입니다\"%name)\n",
    "print('안녕!',name,'\\n')\n",
    "\n",
    "print(\"나는 %d살 입니다.\"%(20+2))\n",
    "print(\"제 키는 %0.2f %s 입니다.\"%(height,'cm'))"
   ]
  },
  {
   "cell_type": "markdown",
   "metadata": {},
   "source": [
    "### type 강제 변환 & 형식문자\n",
    "- 형식 지정 문자열 %20s하면 전체 20칸이고 공백이 앞에 %-10d하면 전체 10칸이고 공백 뒤에"
   ]
  },
  {
   "cell_type": "code",
   "execution_count": 36,
   "metadata": {},
   "outputs": [
    {
     "name": "stdout",
     "output_type": "stream",
     "text": [
      "<class 'float'> \n",
      "\n",
      "                 170\n",
      "170       \n",
      "0000000170\n"
     ]
    }
   ],
   "source": [
    "print(type(height),'\\n')\n",
    "int(height)\n",
    "print('%20d'%height)\n",
    "print('%-10d'%height)\n",
    "print('%010d'%height)"
   ]
  },
  {
   "cell_type": "markdown",
   "metadata": {},
   "source": [
    "### print(\"출력할 내용 전체\" % (값이나 변수))"
   ]
  },
  {
   "cell_type": "code",
   "execution_count": 82,
   "metadata": {},
   "outputs": [
    {
     "name": "stdout",
     "output_type": "stream",
     "text": [
      "100\n",
      "100\n",
      "100\n"
     ]
    }
   ],
   "source": [
    "print(\"100\") #이건 문자 일영영 100\n",
    "print(\"%d\"%100) #이건 숫자 백 100\n",
    "print(100) #이것도 그냥 숫자"
   ]
  },
  {
   "cell_type": "code",
   "execution_count": 29,
   "metadata": {},
   "outputs": [
    {
     "name": "stdout",
     "output_type": "stream",
     "text": [
      "100+100\n",
      "200\n",
      "100 3000\n",
      "100 / 200 = 0\n"
     ]
    }
   ],
   "source": [
    "print(\"100+100\")\n",
    "print(\"%d\"%(100+100))\n",
    "print(\"%d %d\"%(100,3000))\n",
    "\n",
    "print(\"%d / %d = %d\"%(100,200,0.5))\n",
    "# 형식지정문자가 %d이기 때문에 0.5 -> 0 으로 출력\n",
    "# 원하는 출력이 나오도록 출력되는 형식지정문자를 맞춰야함\n",
    "# 출력할 숫자와 형식지정문자 갯수를 맞춰줘야함. 숫자는 두 개인데 형식문자 3개이면 안됨"
   ]
  },
  {
   "cell_type": "code",
   "execution_count": 43,
   "metadata": {},
   "outputs": [
    {
     "name": "stdout",
     "output_type": "stream",
     "text": [
      "123.450000\n",
      "00123.5\n",
      "123.450\n",
      "123.450  \n"
     ]
    }
   ],
   "source": [
    "print(\"%f\"%123.45) #기본 10자리 출력\n",
    "print(\"%07.1f\"%123.45) #전체 7자리 출력하고 소숫점은 첫째자리까지 반올림해서 출력\n",
    "print(\"%7.3f\"%123.45)\n",
    "print(\"%-9.3f\"%123.45)"
   ]
  },
  {
   "cell_type": "code",
   "execution_count": 46,
   "metadata": {},
   "outputs": [
    {
     "name": "stdout",
     "output_type": "stream",
     "text": [
      "python\n",
      "    python\n"
     ]
    }
   ],
   "source": [
    "print(\"%s\"%\"python\")\n",
    "print(\"%10s\"%\"python\") #python이라는 문자 포함 전체 열자리"
   ]
  },
  {
   "cell_type": "markdown",
   "metadata": {},
   "source": [
    "### format"
   ]
  },
  {
   "cell_type": "code",
   "execution_count": 65,
   "metadata": {},
   "outputs": [
    {
     "name": "stdout",
     "output_type": "stream",
     "text": [
      "123   123 00123\n",
      "100   200 00300\n",
      "300 123 200\n",
      "123 300 200\n"
     ]
    }
   ],
   "source": [
    "#format\n",
    "print(\"%d %5d %05d\"%(123,123,123))\n",
    "print(\"{0:d} {1:5d} {2:05d}\".format(100,200,300))\n",
    "\n",
    "#format을 사용하여 출력 순서 지정\n",
    "print(\"{2:d} {1:d} {0:d}\".format(200,123,300))\n",
    "print(\"{1:d} {2:d} {0:d}\".format(200,123,300))\n",
    "\n",
    "# 왼쪽에서부터 0번쩨\n",
    "# 200이 0번, 123이 1번, 300이 2번\n",
    "# 출력순서는 1 2 0 순서이므로\n",
    "# 1번인 123, 2번인 300, 0번인 200 순서로 출력됨."
   ]
  },
  {
   "cell_type": "markdown",
   "metadata": {},
   "source": [
    "### 이스케이프 문자\n",
    "\n",
    "- \\n \\t \\b(뒤로 한칸) \\\\ \\' \\*"
   ]
  },
  {
   "cell_type": "code",
   "execution_count": 77,
   "metadata": {
    "scrolled": false
   },
   "outputs": [
    {
     "name": "stdout",
     "output_type": "stream",
     "text": [
      "줄바꾸기\n",
      "연습\n",
      "'따옴표 연습'\n",
      "탭키\t\t\t연습\n",
      "백스페이스 ㅇㅇㅇ\b\b\b\b 연습\n"
     ]
    }
   ],
   "source": [
    "print(\"줄바꾸기\\n연습\")\n",
    "print(\"\\'따옴표 연습\\'\")\n",
    "print(\"탭키\\t\\t\\t연습\")\n",
    "print(\"백스페이스 ㅇㅇㅇ\\b\\b\\b\\b 연습\")"
   ]
  },
  {
   "cell_type": "markdown",
   "metadata": {},
   "source": [
    "### 변수 선언"
   ]
  },
  {
   "cell_type": "code",
   "execution_count": 80,
   "metadata": {},
   "outputs": [
    {
     "name": "stdout",
     "output_type": "stream",
     "text": [
      "<class 'str'>\n",
      "<class 'int'>\n"
     ]
    }
   ],
   "source": [
    "boolValue = True\n",
    "total = 0\n",
    "floatVar = 0.0\n",
    "strVar = \"\"\n",
    "\n",
    "print(type(strVar))\n",
    "print(type(total))"
   ]
  },
  {
   "cell_type": "markdown",
   "metadata": {},
   "source": [
    "### 변수의 사용"
   ]
  },
  {
   "cell_type": "code",
   "execution_count": 85,
   "metadata": {},
   "outputs": [
    {
     "name": "stdout",
     "output_type": "stream",
     "text": [
      "200\n",
      "200 200\n",
      "300\n"
     ]
    }
   ],
   "source": [
    "value = 100\n",
    "value = 100+100\n",
    "print(value)\n",
    "\n",
    "var1 = var2 = value\n",
    "print(var1, var2)\n",
    "\n",
    "var3 = var1+100\n",
    "print(var3)"
   ]
  },
  {
   "cell_type": "markdown",
   "metadata": {},
   "source": [
    "### 바이트"
   ]
  },
  {
   "cell_type": "code",
   "execution_count": 101,
   "metadata": {},
   "outputs": [
    {
     "name": "stdout",
     "output_type": "stream",
     "text": [
      "0b1011\n",
      "0b1001\n",
      "0b10001 \n",
      "\n",
      "0o13\n",
      "0o3\n",
      "0o21 \n",
      "\n",
      "0xb\n",
      "0x3\n"
     ]
    },
    {
     "data": {
      "text/plain": [
       "'0x9'"
      ]
     },
     "execution_count": 101,
     "metadata": {},
     "output_type": "execute_result"
    }
   ],
   "source": [
    "#------2진수-------\n",
    "bin(11); #파이썬에서 세미콜론은 출력안하고 생략하겠다는 뜻\n",
    "print(bin(11)) # 10진수 11을 이진수로 출력\n",
    "print(bin(0o11)) #8진수 11. 즉 10진수로 9를 이진수로 출력\n",
    "print(bin(0x11),'\\n') # 16진수 11 = 10진수 17을 이진수로 출력\n",
    "\n",
    "\n",
    "#-------8진수-----\n",
    "print(oct(11)) # 10진수 11을 8진수로 출력\n",
    "print(oct(0b11)) #2진수 11. 즉 10진수로 3를 8진수로 출력\n",
    "print(oct(0x11),'\\n') # 16진수 11 = 10진수 17을 8진수로 출력\n",
    "\n",
    "\n",
    "#-------16진수-----\n",
    "print(hex(11)) # 10진수 11을 16진수로 출력\n",
    "print(hex(0b11)) #2진수 11. 즉 10진수로 3를 16진수로 출력\n",
    "hex(0o11) # 8진수 11 = 10진수 9을 16진수로 출력"
   ]
  },
  {
   "cell_type": "markdown",
   "metadata": {},
   "source": [
    "## 산술연산자 & 문자와 숫자의 상호변환(강제형변환)"
   ]
  },
  {
   "cell_type": "code",
   "execution_count": 125,
   "metadata": {},
   "outputs": [
    {
     "name": "stdout",
     "output_type": "stream",
     "text": [
      "3.14 314000.0\n",
      "81\n",
      "200\n",
      "1001\n"
     ]
    }
   ],
   "source": [
    "pi = 3.14\n",
    "b = 3.14e5    # 3.14 x 10의 5승\n",
    "print(pi, b)\n",
    "\n",
    "print(9**2)     #거듭제곱\n",
    "\n",
    "s1, s2 = '100',100\n",
    "##nono - print(s1+s2)\n",
    "print( int(s1) + s2)\n",
    "\n",
    "print(str(s2)  + '1')"
   ]
  },
  {
   "cell_type": "markdown",
   "metadata": {},
   "source": [
    "#### 대입연산자\n",
    "- += -= /= *= %= //= **= \n",
    "\n",
    "#### 관계연산자\n",
    "- == != > < >= <=\n",
    "\n",
    "#### 논리연산자\n",
    "- and or not xor\n",
    "\n",
    "#### 비트연산자\n",
    "- & : 비트끼리의 and 연산\n",
    "- | : 비트 or연산\n",
    "- ^ : 비트 xor연산\n",
    "- ~ : 비트 부정\n",
    "- << : shift left \n",
    "- '>>' : shift right"
   ]
  },
  {
   "cell_type": "code",
   "execution_count": 109,
   "metadata": {},
   "outputs": [
    {
     "name": "stdout",
     "output_type": "stream",
     "text": [
      "3.5\n",
      "3\n",
      "False\n",
      "True\n"
     ]
    }
   ],
   "source": [
    "print(7 / 2)\n",
    "print(7 // 2)  # 7을 2로 나눈 몫\n",
    "\n",
    "n1, n2 = 100, 200\n",
    "print(n1 == n2)\n",
    "print(n1 != n2)"
   ]
  },
  {
   "cell_type": "code",
   "execution_count": 123,
   "metadata": {},
   "outputs": [
    {
     "name": "stdout",
     "output_type": "stream",
     "text": [
      "9\n",
      "13\n",
      "4\n",
      "20\n",
      "0b10100\n",
      "2\n",
      "0b10\n"
     ]
    }
   ],
   "source": [
    "bit = 0b1101\n",
    "bit1 = 0b1001\n",
    "print (bit&bit1) #1001 = 9\n",
    "print(bit | bit1) #1101\n",
    "print(bit^bit1) #0100 = 4\n",
    "\n",
    "a = 10 #1010\n",
    "print(a<<1) #10100\n",
    "print(bin(a<<1))\n",
    "print(a>>2) #10\n",
    "print(bin(a>>2))"
   ]
  },
  {
   "cell_type": "code",
   "execution_count": null,
   "metadata": {},
   "outputs": [],
   "source": []
  }
 ],
 "metadata": {
  "kernelspec": {
   "display_name": "Python 3",
   "language": "python",
   "name": "python3"
  },
  "language_info": {
   "codemirror_mode": {
    "name": "ipython",
    "version": 3
   },
   "file_extension": ".py",
   "mimetype": "text/x-python",
   "name": "python",
   "nbconvert_exporter": "python",
   "pygments_lexer": "ipython3",
   "version": "3.7.6"
  }
 },
 "nbformat": 4,
 "nbformat_minor": 4
}
