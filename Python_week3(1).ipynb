{
 "cells": [
  {
   "cell_type": "markdown",
   "metadata": {},
   "source": [
    "# 교양 파이썬 프로그래밍_3주차_if문"
   ]
  },
  {
   "cell_type": "markdown",
   "metadata": {},
   "source": [
    "## if문\n",
    "\n",
    "- 파이썬은 들여쓰기가 매우 중요! \n",
    "- 괄호로 if문의 body를 구분하는 것이 아님. 들여쓰기!!\n",
    "- if & 조건식 & body\n",
    "- 파이썬은 if문에 콜론"
   ]
  },
  {
   "cell_type": "markdown",
   "metadata": {},
   "source": [
    "### 기본 if문\n",
    "\n",
    "- bool 자료 할당 & 숫자 확인\n",
    "- 들여쓰기 : 실행 내용이 두 문장 이상인 경우 예시 (숫자 대소)"
   ]
  },
  {
   "cell_type": "code",
   "execution_count": 3,
   "metadata": {},
   "outputs": [
    {
     "name": "stdout",
     "output_type": "stream",
     "text": [
      "거짓\n"
     ]
    }
   ],
   "source": [
    "data = False\n",
    "if(data==False):\n",
    "    print(\"거짓\")"
   ]
  },
  {
   "cell_type": "code",
   "execution_count": 2,
   "metadata": {},
   "outputs": [
    {
     "name": "stdout",
     "output_type": "stream",
     "text": [
      "숫자형입니다.\n"
     ]
    }
   ],
   "source": [
    "a = 95\n",
    "if(type(a)==int):\n",
    "    print(\"숫자형입니다.\")"
   ]
  },
  {
   "cell_type": "code",
   "execution_count": 4,
   "metadata": {},
   "outputs": [
    {
     "name": "stdout",
     "output_type": "stream",
     "text": [
      "거짓\n",
      "숫자\n"
     ]
    }
   ],
   "source": [
    "#교수님 예시 코드\n",
    "bool_data = False\n",
    "a = 7\n",
    "\n",
    "if bool_data == False:\n",
    "    print(\"거짓\")\n",
    "\n",
    "if str(type(a)) == \"<class 'int'>\":\n",
    "    print(\"숫자\")"
   ]
  },
  {
   "cell_type": "code",
   "execution_count": 6,
   "metadata": {},
   "outputs": [
    {
     "name": "stdout",
     "output_type": "stream",
     "text": [
      "프로그램 끝\n"
     ]
    }
   ],
   "source": [
    "number = 200\n",
    "\n",
    "if(number<100):\n",
    "    print(\"100보다 작군요.\")\n",
    "    print(\"거짓이므로 이 문장은 안보이겠죠?\")\n",
    "print(\"프로그램 끝\")"
   ]
  },
  {
   "cell_type": "markdown",
   "metadata": {},
   "source": [
    "### if-else문 (조건 분기문)\n",
    "\n",
    "- else도 콜론\n",
    "\n",
    "##### 교재 예시\n",
    "- 옷 쇼핑\n",
    "- 숫자 대소\n",
    "- 짝수 홀수 계산\n",
    "- 학과"
   ]
  },
  {
   "cell_type": "code",
   "execution_count": 7,
   "metadata": {},
   "outputs": [
    {
     "name": "stdout",
     "output_type": "stream",
     "text": [
      "마음에 드는 옷을 찾았나요? (예/아니오) : 예\n",
      " :) 축하합니다 \n"
     ]
    }
   ],
   "source": [
    "flag = input(\"마음에 드는 옷을 찾았나요? (예/아니오) : \")\n",
    "\n",
    "if(flag == \"예\"):\n",
    "    print(' :) 축하합니다 ')\n",
    "    \n",
    "else: #사용자가 아니오 말고 다른 이상한 답을 입력해도 이 구문이 실행됨. -> elif\n",
    "    print(' :( 아쉽군요 ')"
   ]
  },
  {
   "cell_type": "code",
   "execution_count": 10,
   "metadata": {},
   "outputs": [
    {
     "name": "stdout",
     "output_type": "stream",
     "text": [
      "100보다 크군요. \n",
      "거짓이면 이 문장도 보이겠죠?\n",
      "프로그램 끝\n"
     ]
    }
   ],
   "source": [
    "number = 200\n",
    "\n",
    "if(number<100):\n",
    "    print(\"100보다 작군요.\")\n",
    "    print(\"참이면 이 문장도 보이겠죠?\")\n",
    "else:\n",
    "    print('100보다 크군요. ')\n",
    "    print(\"거짓이면 이 문장도 보이겠죠?\")\n",
    "print(\"프로그램 끝\")"
   ]
  },
  {
   "cell_type": "code",
   "execution_count": 31,
   "metadata": {},
   "outputs": [
    {
     "name": "stdout",
     "output_type": "stream",
     "text": [
      "정수를 입력하세요 : 5\n",
      "홀수를 입력했군요.\n"
     ]
    }
   ],
   "source": [
    "num = int(input(\"정수를 입력하세요 : \"))\n",
    "\n",
    "if num%2==0 :\n",
    "    print(\"짝수를 입력했군요.\")\n",
    "else :\n",
    "    print(\"홀수를 입력했군요.\")"
   ]
  },
  {
   "cell_type": "code",
   "execution_count": 25,
   "metadata": {},
   "outputs": [
    {
     "name": "stdout",
     "output_type": "stream",
     "text": [
      "무슨 학과에요?전정공\n",
      "형남으로 가세요\n"
     ]
    }
   ],
   "source": [
    "major = str(input(\"무슨 학과에요?\"))\n",
    "\n",
    "#if (major == \"전정공\" || major== \"전자정보공학부\"):\n",
    "# SyntaxError: invalid syntax\n",
    "\n",
    "if (major == \"전정공\"):\n",
    "    print(\"형남으로 가세요\")\n",
    "if major == \"컴공\":\n",
    "    print(\"정보관으로 가세요\")"
   ]
  },
  {
   "cell_type": "markdown",
   "metadata": {},
   "source": [
    "### 중첩 if\n",
    "\n",
    "##### 교재 예시\n",
    "- 옷 쇼핑\n",
    "- 학점"
   ]
  },
  {
   "cell_type": "code",
   "execution_count": 22,
   "metadata": {},
   "outputs": [
    {
     "name": "stdout",
     "output_type": "stream",
     "text": [
      "마음에 드는 옷을 찾았나요? (예/아니오) : 예\n",
      " :) 축하합니다 \n",
      "가격이 얼마인가요? : 80000\n",
      " :) 구매합니다 \n"
     ]
    }
   ],
   "source": [
    "flag = input(\"마음에 드는 옷을 찾았나요? (예/아니오) : \")\n",
    "\n",
    "if(flag == \"예\"):\n",
    "    print(' :) 축하합니다 ')\n",
    "    \n",
    "    price = int(input(\"가격이 얼마인가요? : \"))\n",
    "    \n",
    "    if(price < 100000):\n",
    "        print(\" :) 구매합니다 \")\n",
    "    else:\n",
    "        print(' :( 포기합니다')\n",
    "    \n",
    "elif flag == '아니오':\n",
    "    print(' :( 아쉽군요 ')\n",
    "else:\n",
    "    print(\"'예' 또는 '아니오'로만 입력하세요.\")"
   ]
  },
  {
   "cell_type": "code",
   "execution_count": 26,
   "metadata": {
    "scrolled": true
   },
   "outputs": [
    {
     "name": "stdout",
     "output_type": "stream",
     "text": [
      "점수를 입력하세요 : 96\n",
      "A\n",
      "학점입니다^^\n"
     ]
    }
   ],
   "source": [
    "store = int(input(\"점수를 입력하세요 : \"))\n",
    "\n",
    "if(store>=90):\n",
    "    print(\"A\")\n",
    "elif(store>=80):\n",
    "    print(\"B\")\n",
    "elif(store>=70):\n",
    "    print(\"C\")\n",
    "elif(store>=60):\n",
    "    print(\"D\")\n",
    "else:\n",
    "    print(\"F\")\n",
    "print(\"학점입니다^^\")"
   ]
  },
  {
   "cell_type": "code",
   "execution_count": null,
   "metadata": {},
   "outputs": [],
   "source": []
  }
 ],
 "metadata": {
  "kernelspec": {
   "display_name": "Python 3",
   "language": "python",
   "name": "python3"
  },
  "language_info": {
   "codemirror_mode": {
    "name": "ipython",
    "version": 3
   },
   "file_extension": ".py",
   "mimetype": "text/x-python",
   "name": "python",
   "nbconvert_exporter": "python",
   "pygments_lexer": "ipython3",
   "version": "3.7.6"
  }
 },
 "nbformat": 4,
 "nbformat_minor": 4
}
