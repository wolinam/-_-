{
 "cells": [
  {
   "cell_type": "markdown",
   "metadata": {},
   "source": [
    "# 교양 파이썬 프로그래밍_10주차"
   ]
  },
  {
   "cell_type": "markdown",
   "metadata": {},
   "source": [
    "- 9주차 : 컴프리헨션, zip, sorted, range, 문자열, 함수와 method\n",
    "\n",
    "\n",
    "- 9주차 이어서 : 문자열 method\n"
   ]
  },
  {
   "cell_type": "markdown",
   "metadata": {},
   "source": [
    "## 문자열과 method\n",
    "- strip 공백삭제, split, isdigit, isalpha, isalnum, replace\n",
    "\n",
    "\n",
    "#### 문자열 중간의 공백까지 삭제해주는 코드"
   ]
  },
  {
   "cell_type": "code",
   "execution_count": 2,
   "metadata": {},
   "outputs": [
    {
     "name": "stdout",
     "output_type": "stream",
     "text": [
      "원래 문자열 ->  한글 python 프로그래밍   \n",
      "공백 삭제 문자열 ->한글python프로그래밍\n"
     ]
    }
   ],
   "source": [
    "inStr = '  한글 python 프로그래밍   '\n",
    "outStr = ''\n",
    "\n",
    "for i in range(0,len(inStr)):\n",
    "    if inStr[i] != ' ':\n",
    "        outStr += inStr[i]\n",
    "        \n",
    "print('원래 문자열 ->'+inStr)\n",
    "print('공백 삭제 문자열 ->'+outStr)"
   ]
  },
  {
   "cell_type": "markdown",
   "metadata": {},
   "source": [
    "#### 문자열을 입력 받아 그 중 o를 $로 변경"
   ]
  },
  {
   "cell_type": "code",
   "execution_count": 5,
   "metadata": {},
   "outputs": [
    {
     "name": "stdout",
     "output_type": "stream",
     "text": [
      "입력 문자열 -> IT cookbook for python\n",
      "IT c$$kb$$k f$r pyth$n"
     ]
    }
   ],
   "source": [
    "ss = input('입력 문자열 -> ')\n",
    "\n",
    "for i in range(0,len(ss)):\n",
    "    if ss[i]=='o':\n",
    "        print('$',end='')\n",
    "    else:\n",
    "        print(ss[i],end='')"
   ]
  },
  {
   "cell_type": "code",
   "execution_count": 6,
   "metadata": {},
   "outputs": [
    {
     "name": "stdout",
     "output_type": "stream",
     "text": [
      "입력 문자열 -> IT cookbook for python\n",
      "IT c$$kb$$k f$r pyth$n\n"
     ]
    }
   ],
   "source": [
    "ss = input('입력 문자열 -> ')\n",
    "print(ss.replace('o','$'))"
   ]
  },
  {
   "cell_type": "markdown",
   "metadata": {},
   "source": [
    "### 문자열 분리, 결합 : split, splitlines, join\n",
    "\n",
    "- s.split() : 공백으로 분리\n",
    "- s.splitlines() : 라인 단위로 분리\n",
    "- ':'.join(s) : ':' 문자로 결합 & 지금까지 썼던 것 처럼 문자열+문자열도 가능\n",
    "- s.split(':', 2) : 두 번만 분리\n",
    "- s.rsplit(':', 1) : 오른쪽부터 한 번만 분리"
   ]
  },
  {
   "cell_type": "code",
   "execution_count": 7,
   "metadata": {},
   "outputs": [
    {
     "data": {
      "text/plain": [
       "['Python을', '열심히', '공부', '중']"
      ]
     },
     "execution_count": 7,
     "metadata": {},
     "output_type": "execute_result"
    }
   ],
   "source": [
    "ss = 'Python을 열심히 공부 중'\n",
    "ss.split()"
   ]
  },
  {
   "cell_type": "code",
   "execution_count": 8,
   "metadata": {},
   "outputs": [
    {
     "data": {
      "text/plain": [
       "['하나 ', ' 둘 ', ' 셋']"
      ]
     },
     "execution_count": 8,
     "metadata": {},
     "output_type": "execute_result"
    }
   ],
   "source": [
    "ss = '하나 : 둘 : 셋'\n",
    "ss.split(':')"
   ]
  },
  {
   "cell_type": "code",
   "execution_count": 9,
   "metadata": {},
   "outputs": [
    {
     "data": {
      "text/plain": [
       "['하나', '둘', '셋']"
      ]
     },
     "execution_count": 9,
     "metadata": {},
     "output_type": "execute_result"
    }
   ],
   "source": [
    "ss = '하나\\n둘\\n셋'\n",
    "ss.splitlines()"
   ]
  },
  {
   "cell_type": "code",
   "execution_count": 10,
   "metadata": {},
   "outputs": [
    {
     "data": {
      "text/plain": [
       "'파!이!썬'"
      ]
     },
     "execution_count": 10,
     "metadata": {},
     "output_type": "execute_result"
    }
   ],
   "source": [
    "ss = '!'\n",
    "ss.join('파이썬')"
   ]
  },
  {
   "cell_type": "markdown",
   "metadata": {},
   "source": [
    "## 퀴즈2\n",
    "\n",
    "머리 글자어 (acronym)는 KISA(Korea Internet Security Agency) 처럼 각 단어의 첫 글자를 모아서 만든 문자열이다. 사용자가 문장을 입력하면 해당되는 머리 글자어를 출력하는 프로그램 작성"
   ]
  },
  {
   "cell_type": "code",
   "execution_count": 13,
   "metadata": {},
   "outputs": [
    {
     "name": "stdout",
     "output_type": "stream",
     "text": [
      "문자열을 입력하세요 : korea internet security agency\n",
      "KISA\n"
     ]
    }
   ],
   "source": [
    "inStr = input('문자열을 입력하세요 : ')\n",
    "inStr = list(inStr.split(' '))\n",
    "#print(inStr)\n",
    "outStr = ''\n",
    "\n",
    "for i in range(0,len(inStr)):\n",
    "    outStr += inStr[i][0]\n",
    "print(outStr.upper())"
   ]
  },
  {
   "cell_type": "markdown",
   "metadata": {},
   "source": [
    "## 퀴즈3\n",
    "\n",
    "주민등록번호로 남녀 판별"
   ]
  },
  {
   "cell_type": "code",
   "execution_count": 17,
   "metadata": {},
   "outputs": [
    {
     "name": "stdout",
     "output_type": "stream",
     "text": [
      "주민등록번호를 입력하세요 : 991023-1234567\n",
      "여성입니다\n"
     ]
    }
   ],
   "source": [
    "Id = input('주민등록번호를 입력하세요 : ')\n",
    "num = Id.split('-')\n",
    "num = num[1][0]\n",
    "\n",
    "if num == '2' or '4':\n",
    "    print('여성입니다')\n",
    "elif num == '1'or'3':\n",
    "    print('남성입니다')"
   ]
  },
  {
   "cell_type": "markdown",
   "metadata": {},
   "source": [
    "#### 함수명에 대입 : map 함수\n",
    "\n",
    "- map(함수명, 리스트명)\n",
    "- 리스트 값 하나하나를 함수명에 대입"
   ]
  },
  {
   "cell_type": "code",
   "execution_count": 20,
   "metadata": {},
   "outputs": [
    {
     "name": "stdout",
     "output_type": "stream",
     "text": [
      "[2019, 12, 31]\n",
      "<class 'str'>\n",
      "<class 'int'>\n"
     ]
    }
   ],
   "source": [
    "before = ['2019','12','31']\n",
    "after = list(map(int,before))\n",
    "print(after)\n",
    "\n",
    "print(type(before[0]))\n",
    "print(type(after[0]))"
   ]
  },
  {
   "cell_type": "markdown",
   "metadata": {},
   "source": [
    "#### 문자열 정렬, 채우기 : center, ljust, rjust, zfill\n",
    "\n",
    "- center() : 문자열 가운데 정렬 (인자로 넓이를 지정, 채울 문자 선택 가능)\n",
    "- ljust() : 왼쪽 정렬\n",
    "- rjust() : 오른쪽 정렬\n",
    "- zfill() : 오른쪽 정렬, 왼쪽 빈 공간은 0으로 채움"
   ]
  },
  {
   "cell_type": "code",
   "execution_count": 22,
   "metadata": {},
   "outputs": [
    {
     "data": {
      "text/plain": [
       "'   파이썬    '"
      ]
     },
     "execution_count": 22,
     "metadata": {},
     "output_type": "execute_result"
    }
   ],
   "source": [
    "ss='파이썬'\n",
    "ss.center(10) #앞뒤를 공백으로 채움"
   ]
  },
  {
   "cell_type": "code",
   "execution_count": 23,
   "metadata": {},
   "outputs": [
    {
     "data": {
      "text/plain": [
       "'---파이썬----'"
      ]
     },
     "execution_count": 23,
     "metadata": {},
     "output_type": "execute_result"
    }
   ],
   "source": [
    "ss.center(10,'-') #앞뒤를 '-'로 채움"
   ]
  },
  {
   "cell_type": "code",
   "execution_count": 24,
   "metadata": {},
   "outputs": [
    {
     "data": {
      "text/plain": [
       "'파이썬       '"
      ]
     },
     "execution_count": 24,
     "metadata": {},
     "output_type": "execute_result"
    }
   ],
   "source": [
    "ss.ljust(10)"
   ]
  },
  {
   "cell_type": "code",
   "execution_count": 26,
   "metadata": {},
   "outputs": [
    {
     "data": {
      "text/plain": [
       "'-------파이썬'"
      ]
     },
     "execution_count": 26,
     "metadata": {},
     "output_type": "execute_result"
    }
   ],
   "source": [
    "ss.rjust(10,'-')"
   ]
  },
  {
   "cell_type": "code",
   "execution_count": 27,
   "metadata": {},
   "outputs": [
    {
     "data": {
      "text/plain": [
       "'0000000파이썬'"
      ]
     },
     "execution_count": 27,
     "metadata": {},
     "output_type": "execute_result"
    }
   ],
   "source": [
    "ss.zfill(10)"
   ]
  },
  {
   "cell_type": "markdown",
   "metadata": {},
   "source": [
    "#### 문자열 구성 파악 : isdigit, isalpha, isalnum, islower, isupper, isspace\n",
    "\n",
    "- 반환값은 True, False\n",
    "- isdigit() : 문자열이 숫자인지 아닌지를 True False로 리턴\n",
    "- isalpha() : 문자열이 문자(한글, 영어)인지 아닌지\n",
    "- isalnum() : 언어 또는 숫자로 이루어져 있는지 아닌지\n",
    "- islower() : 전체가 소문자인지 아닌지\n",
    "- isupper() : 전체가 대문자인지 아닌지\n",
    "- isspace() : 공백 문자로만 구성되었는지 아닌지"
   ]
  },
  {
   "cell_type": "code",
   "execution_count": 41,
   "metadata": {},
   "outputs": [
    {
     "data": {
      "text/plain": [
       "True"
      ]
     },
     "execution_count": 41,
     "metadata": {},
     "output_type": "execute_result"
    }
   ],
   "source": [
    "'1234'.isdigit()\n",
    "\n",
    "# 형변환시 많이 사용\n",
    "# 입력 받은 문자열이 전부 숫자인지 확인한 후, str형에서 int형으로 바꿀 때"
   ]
  },
  {
   "cell_type": "code",
   "execution_count": 29,
   "metadata": {},
   "outputs": [
    {
     "data": {
      "text/plain": [
       "True"
      ]
     },
     "execution_count": 29,
     "metadata": {},
     "output_type": "execute_result"
    }
   ],
   "source": [
    "'abcd'.isalpha()"
   ]
  },
  {
   "cell_type": "code",
   "execution_count": 35,
   "metadata": {},
   "outputs": [
    {
     "data": {
      "text/plain": [
       "False"
      ]
     },
     "execution_count": 35,
     "metadata": {},
     "output_type": "execute_result"
    }
   ],
   "source": [
    "'_45'.isalnum()"
   ]
  },
  {
   "cell_type": "code",
   "execution_count": 42,
   "metadata": {},
   "outputs": [
    {
     "data": {
      "text/plain": [
       "True"
      ]
     },
     "execution_count": 42,
     "metadata": {},
     "output_type": "execute_result"
    }
   ],
   "source": [
    "'abc'.isalnum()"
   ]
  },
  {
   "cell_type": "code",
   "execution_count": 36,
   "metadata": {},
   "outputs": [
    {
     "data": {
      "text/plain": [
       "True"
      ]
     },
     "execution_count": 36,
     "metadata": {},
     "output_type": "execute_result"
    }
   ],
   "source": [
    "'abc123'.isalnum()"
   ]
  },
  {
   "cell_type": "code",
   "execution_count": 37,
   "metadata": {},
   "outputs": [
    {
     "data": {
      "text/plain": [
       "False"
      ]
     },
     "execution_count": 37,
     "metadata": {},
     "output_type": "execute_result"
    }
   ],
   "source": [
    "'abc'.isupper()"
   ]
  },
  {
   "cell_type": "code",
   "execution_count": 38,
   "metadata": {},
   "outputs": [
    {
     "data": {
      "text/plain": [
       "False"
      ]
     },
     "execution_count": 38,
     "metadata": {},
     "output_type": "execute_result"
    }
   ],
   "source": [
    "'ABC'.islower()"
   ]
  },
  {
   "cell_type": "code",
   "execution_count": 39,
   "metadata": {},
   "outputs": [
    {
     "data": {
      "text/plain": [
       "True"
      ]
     },
     "execution_count": 39,
     "metadata": {},
     "output_type": "execute_result"
    }
   ],
   "source": [
    "'ABC'.isupper()"
   ]
  },
  {
   "cell_type": "code",
   "execution_count": 40,
   "metadata": {},
   "outputs": [
    {
     "data": {
      "text/plain": [
       "True"
      ]
     },
     "execution_count": 40,
     "metadata": {},
     "output_type": "execute_result"
    }
   ],
   "source": [
    "'    '.isspace()"
   ]
  },
  {
   "cell_type": "markdown",
   "metadata": {},
   "source": [
    "## 퀴즈 4\n",
    "문자열 구성 파악"
   ]
  },
  {
   "cell_type": "code",
   "execution_count": 45,
   "metadata": {},
   "outputs": [
    {
     "name": "stdout",
     "output_type": "stream",
     "text": [
      "문자열 입력 : abc123\n",
      "글자+숫자입니다\n"
     ]
    }
   ],
   "source": [
    "inStr = input('문자열 입력 : ')\n",
    "if(inStr.isdigit()):\n",
    "    print('숫자입니다')\n",
    "elif(inStr.isalpha()):\n",
    "    print('글자입니다')\n",
    "elif(inStr.isalnum()):\n",
    "    print('글자+숫자입니다')\n",
    "else:\n",
    "    print('모르겠습니다')"
   ]
  },
  {
   "cell_type": "markdown",
   "metadata": {},
   "source": [
    "## 퀴즈 5\n",
    "회문"
   ]
  },
  {
   "cell_type": "code",
   "execution_count": 49,
   "metadata": {},
   "outputs": [
    {
     "name": "stdout",
     "output_type": "stream",
     "text": [
      "문자열을 입력하세요 : java\n",
      "회문이 아닙니다.\n"
     ]
    }
   ],
   "source": [
    "inStr = input('문자열을 입력하세요 : ')\n",
    "outStr = ''\n",
    "for i in range(len(inStr)-1,-1,-1):\n",
    "    outStr += inStr[i]\n",
    "if outStr == inStr:\n",
    "    print('회문입니다.')\n",
    "else:\n",
    "    print('회문이 아닙니다.')"
   ]
  },
  {
   "cell_type": "code",
   "execution_count": 50,
   "metadata": {},
   "outputs": [
    {
     "name": "stdout",
     "output_type": "stream",
     "text": [
      "문자열을 입력하세요.mom\n",
      "회문입니다.\n"
     ]
    }
   ],
   "source": [
    "#교수님 코드\n",
    "\n",
    "s = input('문자열을 입력하세요.')\n",
    "s = s.replace(\" \",\"\")\n",
    "\n",
    "start = 0\n",
    "end = len(s)-1\n",
    "\n",
    "while start < len(s) :\n",
    "    if start > end :\n",
    "        result = True\n",
    "        \n",
    "    a = s[start]\n",
    "    b = s[end]\n",
    "    \n",
    "    if a != b:\n",
    "        result = False\n",
    "        break\n",
    "\n",
    "    start += 1\n",
    "    end -= 1\n",
    "\n",
    "    \n",
    "if result == False :\n",
    "    print(\"회문이 아닙니다.\")\n",
    "else :\n",
    "    print(\"회문입니다.\")\n"
   ]
  },
  {
   "cell_type": "markdown",
   "metadata": {},
   "source": [
    "## 함수와 모듈\n",
    "\n",
    "\n",
    "- 지금까지 배운 함수 : print, input, type, len, del, list, tuple, set, dict, sorted, range, enumerate\n",
    "- '무엇'을 넣으면, '어떤 것'을 돌려주는 BOX\n",
    "- 특정 값 X를 인자로 넣었을 때 반드시 Y라는 결과 값을 반환하는 일종의 계산식\n",
    "- 인수와 반환 값이 없을 수 도 있으며, 인수는 1개가 아닌 여러 개가 될 수도 있음\n",
    "- 형식 : 함수명()\n",
    "\n",
    "\n",
    "1. <span style=\"color:red\">함수의 필요성\n",
    "   1. '함수'를 제공하여 중복될 만한 소스코드를 최소화하고, 소스코드의 재사용성을 높이기 위해 사용\n",
    "\n",
    "\n",
    "2. method와 차이점\n",
    "   1. 함수는 외부에 별도로 존재\n",
    "   2. method는 클래스 안에 존재"
   ]
  },
  {
   "cell_type": "code",
   "execution_count": 1,
   "metadata": {},
   "outputs": [],
   "source": [
    "# 사용자 정의 함수\n",
    "# 예약어(def) 함수명 소괄호(안에 인자 값) 콜론으로 블록문 시작\n",
    "\n",
    "def hello():\n",
    "    name = input('이름을 입력하세요!')\n",
    "    print('안녕!',name)"
   ]
  },
  {
   "cell_type": "code",
   "execution_count": 2,
   "metadata": {},
   "outputs": [
    {
     "name": "stdout",
     "output_type": "stream",
     "text": [
      "이름을 입력하세요!남아리\n",
      "안녕! 남아리\n"
     ]
    }
   ],
   "source": [
    "hello()"
   ]
  },
  {
   "cell_type": "code",
   "execution_count": 6,
   "metadata": {},
   "outputs": [
    {
     "name": "stdout",
     "output_type": "stream",
     "text": [
      "이름을 입력하세요!남아리\n"
     ]
    }
   ],
   "source": [
    "def hello(name): # 인자 값 또는 매개변수 또는 파라미터 name\n",
    "    print('안녕!',name)\n",
    "myname = input('이름을 입력하세요!')"
   ]
  },
  {
   "cell_type": "code",
   "execution_count": 7,
   "metadata": {},
   "outputs": [
    {
     "name": "stdout",
     "output_type": "stream",
     "text": [
      "안녕! 남아리\n"
     ]
    }
   ],
   "source": [
    "hello(myname)\n",
    "#인자 값의 자료형과 개수는 같아야함"
   ]
  },
  {
   "cell_type": "code",
   "execution_count": 8,
   "metadata": {},
   "outputs": [],
   "source": [
    "def sum(a,b):\n",
    "    print(a+b)"
   ]
  },
  {
   "cell_type": "code",
   "execution_count": 9,
   "metadata": {},
   "outputs": [
    {
     "name": "stdout",
     "output_type": "stream",
     "text": [
      "12\n"
     ]
    }
   ],
   "source": [
    "sum(5,7)"
   ]
  },
  {
   "cell_type": "code",
   "execution_count": 10,
   "metadata": {},
   "outputs": [],
   "source": [
    "# 반환 값 추가하기\n",
    "\n",
    "def change_name(name):\n",
    "    return name+'님'"
   ]
  },
  {
   "cell_type": "code",
   "execution_count": 11,
   "metadata": {},
   "outputs": [
    {
     "data": {
      "text/plain": [
       "'아리님'"
      ]
     },
     "execution_count": 11,
     "metadata": {},
     "output_type": "execute_result"
    }
   ],
   "source": [
    "change_name('아리')"
   ]
  },
  {
   "cell_type": "code",
   "execution_count": 14,
   "metadata": {},
   "outputs": [
    {
     "name": "stdout",
     "output_type": "stream",
     "text": [
      "A손님 어떤 커피 드릴까요? (1:보통, 2:설탕, 3:블랙)2\n",
      "#1. (자동으로) 뜨거운 물을 준비한다.\n",
      "#2. (자동으로) 종이컵을 준비한다.\n",
      "#3. (자동으로) 설탕커피를 탄다.\n",
      "#4. (자동으로) 물을 붓는다.\n",
      "#5. (자동으로) 스푼으로 젓는다.\n",
      "A손님 커피 나왔습니다.\n",
      "\n",
      "B손님 어떤 커피 드릴까요? (1:보통, 2:설탕, 3:블랙)1\n",
      "#1. (자동으로) 뜨거운 물을 준비한다.\n",
      "#2. (자동으로) 종이컵을 준비한다.\n",
      "#3. (자동으로) 보통커피를 탄다.\n",
      "#4. (자동으로) 물을 붓는다.\n",
      "#5. (자동으로) 스푼으로 젓는다.\n",
      "B손님 커피 나왔습니다.\n",
      "\n"
     ]
    }
   ],
   "source": [
    "# 커피 자판기 함수 _ 손님마다 새로 하는게 아니라 함수를 만들어서 손님이 올 때마다 루틴\n",
    "coffee = 0\n",
    "\n",
    "## 함수 정의\n",
    "def coffee_machine(button):\n",
    "    print('#1. (자동으로) 뜨거운 물을 준비한다.')\n",
    "    print('#2. (자동으로) 종이컵을 준비한다.')\n",
    "    if(button == 1):\n",
    "            print('#3. (자동으로) 보통커피를 탄다.')\n",
    "    elif(button == 2):\n",
    "            print('#3. (자동으로) 설탕커피를 탄다.')\n",
    "    elif(button == 2):\n",
    "            print('#3. (자동으로) 블랙커피를 탄다.')\n",
    "    else:\n",
    "            print('#3. (자동으로) 아무거나 탄다.')\n",
    "    print('#4. (자동으로) 물을 붓는다.')\n",
    "    print('#5. (자동으로) 스푼으로 젓는다.')\n",
    "\n",
    "## 메인 코드\n",
    "coffee = int(input('A손님 어떤 커피 드릴까요? (1:보통, 2:설탕, 3:블랙)'))\n",
    "coffee_machine(coffee)\n",
    "print('A손님 커피 나왔습니다.\\n')\n",
    "\n",
    "coffee = int(input('B손님 어떤 커피 드릴까요? (1:보통, 2:설탕, 3:블랙)'))\n",
    "coffee_machine(coffee)\n",
    "print('B손님 커피 나왔습니다.\\n')"
   ]
  },
  {
   "cell_type": "code",
   "execution_count": 15,
   "metadata": {},
   "outputs": [
    {
     "name": "stdout",
     "output_type": "stream",
     "text": [
      "100과 200의 puls() 함수 결과는 300\n"
     ]
    }
   ],
   "source": [
    "# 함수 선언\n",
    "def plus(a,b):\n",
    "    result = 0\n",
    "    result = a+b\n",
    "    return result\n",
    "\n",
    "# 전역 변수\n",
    "hap = 0\n",
    "\n",
    "# 메인 코드\n",
    "hap = plus(100,200)\n",
    "print('100과 200의 puls() 함수 결과는 %d' %hap)"
   ]
  },
  {
   "cell_type": "code",
   "execution_count": 5,
   "metadata": {},
   "outputs": [
    {
     "name": "stdout",
     "output_type": "stream",
     "text": [
      "계산을 입력하세요. (+, -, *, /) : +\n",
      "계산할 수를 입력하세요5 12\n"
     ]
    },
    {
     "data": {
      "text/plain": [
       "17"
      ]
     },
     "execution_count": 5,
     "metadata": {},
     "output_type": "execute_result"
    }
   ],
   "source": [
    "# 계산기 함수\n",
    "def clac(a,b,op):\n",
    "    if (op == '+'):\n",
    "        return a+b\n",
    "    elif (op == '-'):\n",
    "        return a-b\n",
    "    elif (op == '*'):\n",
    "        return a*b\n",
    "    elif (op == '/'):\n",
    "        return a/b\n",
    "\n",
    "op1 = input('계산을 입력하세요. (+, -, *, /) : ')\n",
    "a1,b1 = input('계산할 수를 입력하세요').split()\n",
    "a1 = int(a1)\n",
    "b1 = int(b1)\n",
    "clac(a1,b1,op1)"
   ]
  },
  {
   "cell_type": "markdown",
   "metadata": {},
   "source": [
    "## 퀴즈2"
   ]
  },
  {
   "cell_type": "code",
   "execution_count": 4,
   "metadata": {},
   "outputs": [
    {
     "name": "stdout",
     "output_type": "stream",
     "text": [
      "정수를 입력하세요 : 5\n",
      "5 * 1 = 5\n",
      "5 * 2 = 10\n",
      "5 * 3 = 15\n",
      "5 * 4 = 20\n",
      "5 * 5 = 25\n",
      "5 * 6 = 30\n",
      "5 * 7 = 35\n",
      "5 * 8 = 40\n",
      "5 * 9 = 45\n"
     ]
    }
   ],
   "source": [
    "# 구구단 함수\n",
    "def mult(dan):\n",
    "    for i in range (1, 10, 1):\n",
    "        print( '%d * %d = %d' %(dan, i,dan*i))\n",
    "\n",
    "dan1 = int(input('정수를 입력하세요 : '))\n",
    "mult(dan1)"
   ]
  },
  {
   "cell_type": "code",
   "execution_count": 20,
   "metadata": {},
   "outputs": [
    {
     "name": "stdout",
     "output_type": "stream",
     "text": [
      "정수를 입력하세요 : 5\n",
      "5 * 1 =  5\n",
      "5 * 2 = 10\n",
      "5 * 3 = 15\n",
      "5 * 4 = 20\n",
      "5 * 5 = 25\n",
      "5 * 6 = 30\n",
      "5 * 7 = 35\n",
      "5 * 8 = 40\n",
      "5 * 9 = 45\n"
     ]
    }
   ],
   "source": [
    "## 교수님 코드\n",
    "\n",
    "def gugudan(a):\n",
    "    for i in range(1,10) :\n",
    "        print(\"%d * %d = %2d\" % (a, i, a*i))\n",
    "\n",
    "\n",
    "\n",
    "a = int(input(\"정수를 입력하세요 : \"))\n",
    "\n",
    "gugudan(a)\n"
   ]
  },
  {
   "cell_type": "markdown",
   "metadata": {},
   "source": [
    "### 파이썬에서의 지역 변수와 전역 변수 _ 다른 언어에서는 다름\n",
    "\n",
    "- 지역 변수 : 한정된 지역에서만 사용\n",
    "- 전역 변수 : 프로그램 전체에서 사용\n",
    "- global"
   ]
  },
  {
   "cell_type": "code",
   "execution_count": 9,
   "metadata": {},
   "outputs": [],
   "source": [
    "def fuc1() :\n",
    "    a = 10 # 지역 변수\n",
    "    print('fuc1()에서 a값 : %d' %a)\n",
    "    \n",
    "def fuc2() :\n",
    "    print('fuc2()에서 a값 : %d' %a)\n",
    "a = 20 # 전역 변수 _ 사실 C에서는 이것도 지역 변수\n",
    "# 만약 위의 행이 없다면 에러"
   ]
  },
  {
   "cell_type": "code",
   "execution_count": 10,
   "metadata": {},
   "outputs": [
    {
     "name": "stdout",
     "output_type": "stream",
     "text": [
      "fuc1()에서 a값 : 10\n"
     ]
    }
   ],
   "source": [
    "fuc1()"
   ]
  },
  {
   "cell_type": "code",
   "execution_count": 11,
   "metadata": {},
   "outputs": [
    {
     "name": "stdout",
     "output_type": "stream",
     "text": [
      "fuc2()에서 a값 : 20\n"
     ]
    }
   ],
   "source": [
    "fuc2()"
   ]
  },
  {
   "cell_type": "code",
   "execution_count": 12,
   "metadata": {},
   "outputs": [],
   "source": [
    "# 글로벌 예약어\n",
    "# 다른 함수에서도 global의 값을 먼저 사용함\n",
    "def fuc1() :\n",
    "    global a #이 함수에서 a는 전역 변수\n",
    "    a = 10\n",
    "    print('fuc1()에서 a값 : %d' %a)\n",
    "    \n",
    "def fuc2() :\n",
    "    print('fuc2()에서 a값 : %d' %a)\n",
    "    \n",
    "a = 20 #전역 변수"
   ]
  },
  {
   "cell_type": "code",
   "execution_count": 13,
   "metadata": {},
   "outputs": [
    {
     "name": "stdout",
     "output_type": "stream",
     "text": [
      "fuc1()에서 a값 : 10\n"
     ]
    }
   ],
   "source": [
    "fuc1()"
   ]
  },
  {
   "cell_type": "code",
   "execution_count": 14,
   "metadata": {},
   "outputs": [
    {
     "name": "stdout",
     "output_type": "stream",
     "text": [
      "fuc2()에서 a값 : 10\n"
     ]
    }
   ],
   "source": [
    "fuc2()"
   ]
  },
  {
   "cell_type": "markdown",
   "metadata": {},
   "source": [
    "## 퀴즈1"
   ]
  },
  {
   "cell_type": "code",
   "execution_count": 19,
   "metadata": {},
   "outputs": [
    {
     "name": "stdout",
     "output_type": "stream",
     "text": [
      "생일을 축하합니다!\n",
      "사랑하는 김숭실 님의 생일을 축하합니다!\n"
     ]
    }
   ],
   "source": [
    "def happyBirthday(name):\n",
    "    print(\"생일을 축하합니다!\")\n",
    "    print(\"사랑하는\",name, \"님의 생일을 축하합니다!\")\n",
    "\n",
    "happyBirthday(\"김숭실\")"
   ]
  },
  {
   "cell_type": "markdown",
   "metadata": {},
   "source": [
    "## 퀴즈3 _ 각 자리 합 계산"
   ]
  },
  {
   "cell_type": "code",
   "execution_count": 18,
   "metadata": {},
   "outputs": [
    {
     "name": "stdout",
     "output_type": "stream",
     "text": [
      "정수를 입력하세요! 12345\n"
     ]
    },
    {
     "data": {
      "text/plain": [
       "15"
      ]
     },
     "execution_count": 18,
     "metadata": {},
     "output_type": "execute_result"
    }
   ],
   "source": [
    "def sums(a):\n",
    "    num = len(a)\n",
    "    result = 0\n",
    "    for i in range(0,num,1):\n",
    "        result += int(a[i])\n",
    "    return result\n",
    "\n",
    "a1 = input('정수를 입력하세요! ')\n",
    "sums(a1)"
   ]
  },
  {
   "cell_type": "code",
   "execution_count": null,
   "metadata": {},
   "outputs": [],
   "source": [
    "## 교수님 코드\n",
    "\n",
    "def hap(a):\n",
    "    sum = 0\n",
    "    while a > 0 :\n",
    "        digit = a % 10\n",
    "        sum = sum + digit\n",
    "        a = a // 10\n",
    "\n",
    "    return sum\n",
    "\n",
    "\n",
    "a = int(input(\"정수를 입력하세요\"))\n",
    "\n",
    "print(hap(a))\n"
   ]
  }
 ],
 "metadata": {
  "kernelspec": {
   "display_name": "Python 3",
   "language": "python",
   "name": "python3"
  },
  "language_info": {
   "codemirror_mode": {
    "name": "ipython",
    "version": 3
   },
   "file_extension": ".py",
   "mimetype": "text/x-python",
   "name": "python",
   "nbconvert_exporter": "python",
   "pygments_lexer": "ipython3",
   "version": "3.7.6"
  }
 },
 "nbformat": 4,
 "nbformat_minor": 4
}
