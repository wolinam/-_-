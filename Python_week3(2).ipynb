{
 "cells": [
  {
   "cell_type": "markdown",
   "metadata": {},
   "source": [
    "# 교양 파이썬 프로그래밍_3주차_반복문(1)"
   ]
  },
  {
   "cell_type": "markdown",
   "metadata": {},
   "source": [
    "### 반복문 while\n",
    "\n",
    "- 원하는 조건을 만족할 때까지 반복 실행하는 것 = while문\n",
    "- 들여쓰기"
   ]
  },
  {
   "cell_type": "code",
   "execution_count": 1,
   "metadata": {},
   "outputs": [
    {
     "name": "stdout",
     "output_type": "stream",
     "text": [
      "마음에 드는 옷을 찾았나요? (예/아니오) : 아니오\n",
      " :( 아쉽군요 \n",
      "다른 매장에서 계속 골라보세요!\n",
      "마음에 드는 옷을 찾았나요? (예/아니오) : 예\n",
      " :) 축하합니다 \n"
     ]
    }
   ],
   "source": [
    "repeat = True\n",
    "\n",
    "#repeat이 true인 동안 반복\n",
    "while repeat:\n",
    "    flag = input(\"마음에 드는 옷을 찾았나요? (예/아니오) : \")\n",
    "\n",
    "    if(flag == \"예\"):\n",
    "        print(' :) 축하합니다 ')\n",
    "        repeat = False\n",
    "    else:\n",
    "        print(' :( 아쉽군요 ')\n",
    "        print(\"다른 매장에서 계속 골라보세요!\")"
   ]
  },
  {
   "cell_type": "markdown",
   "metadata": {},
   "source": [
    "### 반복문 for\n",
    "\n",
    "- 범위만큼 반복\n",
    "- for 변수 in range(시작값, 끝값+1, 증가값)\n",
    "- for 변수 in [자료]"
   ]
  },
  {
   "cell_type": "code",
   "execution_count": 3,
   "metadata": {},
   "outputs": [
    {
     "name": "stdout",
     "output_type": "stream",
     "text": [
      "0 : 안녕하세요 for문 공부중입니다!\n",
      "1 : 안녕하세요 for문 공부중입니다!\n",
      "2 : 안녕하세요 for문 공부중입니다!\n"
     ]
    }
   ],
   "source": [
    "for i in range(0,3,1):\n",
    "    print(\"%d : 안녕하세요 for문 공부중입니다!\" % i )"
   ]
  },
  {
   "cell_type": "code",
   "execution_count": 4,
   "metadata": {},
   "outputs": [
    {
     "name": "stdout",
     "output_type": "stream",
     "text": [
      "0 : 안녕하세요 for문 공부중입니다!\n",
      "1 : 안녕하세요 for문 공부중입니다!\n",
      "2 : 안녕하세요 for문 공부중입니다!\n"
     ]
    }
   ],
   "source": [
    "for i in [0,1,2]:\n",
    "    print(\"%d : 안녕하세요 for문 공부중입니다!\" % i )"
   ]
  },
  {
   "cell_type": "code",
   "execution_count": 5,
   "metadata": {},
   "outputs": [
    {
     "name": "stdout",
     "output_type": "stream",
     "text": [
      "2 : 안녕하세요 for문 공부중입니다!\n",
      "1 : 안녕하세요 for문 공부중입니다!\n",
      "0 : 안녕하세요 for문 공부중입니다!\n",
      "-1 : 안녕하세요 for문 공부중입니다!\n"
     ]
    }
   ],
   "source": [
    "for i in range(2,-2,-1):\n",
    "    print(\"%d : 안녕하세요 for문 공부중입니다!\" % i )"
   ]
  },
  {
   "cell_type": "code",
   "execution_count": 10,
   "metadata": {},
   "outputs": [
    {
     "name": "stdout",
     "output_type": "stream",
     "text": [
      "0  1  2  \n",
      "\n",
      "0 \n",
      "1 \n",
      "2 \n"
     ]
    }
   ],
   "source": [
    "for i in range(0,3,1):\n",
    "    print(\"%d \" % i , end = \" \")\n",
    "    \n",
    "print(\"\\n\")\n",
    "\n",
    "for i in range(0,3,1):\n",
    "    print(\"%d \" % i )"
   ]
  },
  {
   "cell_type": "markdown",
   "metadata": {},
   "source": [
    "### 1부터 100까지 합"
   ]
  },
  {
   "cell_type": "code",
   "execution_count": 11,
   "metadata": {},
   "outputs": [
    {
     "name": "stdout",
     "output_type": "stream",
     "text": [
      "5050 \n"
     ]
    }
   ],
   "source": [
    "i, sum = 0,0\n",
    "\n",
    "for i in range(1,101,1):\n",
    "    sum += i\n",
    "    \n",
    "print(\"%d \" % sum)"
   ]
  },
  {
   "cell_type": "markdown",
   "metadata": {},
   "source": [
    "### 500부터 1000까지 홀수의 합"
   ]
  },
  {
   "cell_type": "code",
   "execution_count": 12,
   "metadata": {},
   "outputs": [
    {
     "name": "stdout",
     "output_type": "stream",
     "text": [
      "187500 \n"
     ]
    }
   ],
   "source": [
    "i, sum = 0,0\n",
    "\n",
    "for i in range(501,1001,2):\n",
    "    sum += i\n",
    "    \n",
    "print(\"%d \" % sum)"
   ]
  },
  {
   "cell_type": "markdown",
   "metadata": {},
   "source": [
    "### 사용자가 입력한 값으로 반복문 수행"
   ]
  },
  {
   "cell_type": "code",
   "execution_count": null,
   "metadata": {},
   "outputs": [],
   "source": [
    "i, sum = 0,0\n",
    "num1,num2,num3 = 0,0,0\n",
    "\n",
    "num1 = int(input(\"시작값 설정 : \"))\n",
    "num2 = int(input(\"끝값 설정 : \"))\n",
    "num3 = int(input(\"증가값 설정 : \"))\n",
    "\n",
    "for i in range(num1, num2+1, num3):\n",
    "    sum += i\n",
    "    \n",
    "print(\"%d \" % sum)"
   ]
  },
  {
   "cell_type": "markdown",
   "metadata": {},
   "source": [
    "### 구구단 출력"
   ]
  },
  {
   "cell_type": "code",
   "execution_count": null,
   "metadata": {},
   "outputs": [],
   "source": [
    "i = 0\n",
    "dan = 0\n",
    "\n",
    "dan = int(input(\"출력하고 싶은 단 입력\"))\n",
    "\n",
    "for i in range(1, 10, 1):\n",
    "    print(\"%d x %d = %d\" %(dan, i, dan*i))"
   ]
  },
  {
   "cell_type": "code",
   "execution_count": null,
   "metadata": {},
   "outputs": [],
   "source": []
  }
 ],
 "metadata": {
  "kernelspec": {
   "display_name": "Python 3",
   "language": "python",
   "name": "python3"
  },
  "language_info": {
   "codemirror_mode": {
    "name": "ipython",
    "version": 3
   },
   "file_extension": ".py",
   "mimetype": "text/x-python",
   "name": "python",
   "nbconvert_exporter": "python",
   "pygments_lexer": "ipython3",
   "version": "3.7.6"
  }
 },
 "nbformat": 4,
 "nbformat_minor": 4
}
