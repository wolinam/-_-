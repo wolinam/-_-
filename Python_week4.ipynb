{
 "cells": [
  {
   "cell_type": "markdown",
   "metadata": {},
   "source": [
    "# 교양 파이썬 프로그래밍_4주차_반복문"
   ]
  },
  {
   "cell_type": "markdown",
   "metadata": {},
   "source": [
    "- for는 반복 횟수\n",
    "- while은 조건식이 참일 때\n",
    "\n",
    "## for문 \n",
    "### 사용자가 입력한 값까지 합계 구하기"
   ]
  },
  {
   "cell_type": "code",
   "execution_count": 1,
   "metadata": {},
   "outputs": [
    {
     "name": "stdout",
     "output_type": "stream",
     "text": [
      "값 설정 : 100\n",
      "5050 \n"
     ]
    }
   ],
   "source": [
    "i, sum = 0,0\n",
    "num1=0\n",
    "num1 = int(input(\"값 설정 : \"))\n",
    "\n",
    "for i in range(1, num1+1, 1):\n",
    "    sum += i\n",
    "    \n",
    "print(\"%d \" % sum)"
   ]
  },
  {
   "cell_type": "markdown",
   "metadata": {},
   "source": [
    "### 구구단 출력"
   ]
  },
  {
   "cell_type": "code",
   "execution_count": 2,
   "metadata": {},
   "outputs": [
    {
     "name": "stdout",
     "output_type": "stream",
     "text": [
      "출력하고 싶은 단 입력7\n",
      "7 x 1 = 7\n",
      "7 x 2 = 14\n",
      "7 x 3 = 21\n",
      "7 x 4 = 28\n",
      "7 x 5 = 35\n",
      "7 x 6 = 42\n",
      "7 x 7 = 49\n",
      "7 x 8 = 56\n",
      "7 x 9 = 63\n"
     ]
    }
   ],
   "source": [
    "i = 0\n",
    "dan = 0\n",
    "\n",
    "dan = int(input(\"출력하고 싶은 단 입력\"))\n",
    "\n",
    "for i in range(1, 10, 1):\n",
    "    print(\"%d x %d = %d\" %(dan, i, dan*i))"
   ]
  },
  {
   "cell_type": "markdown",
   "metadata": {},
   "source": [
    "## 중첩 for문"
   ]
  },
  {
   "cell_type": "code",
   "execution_count": 5,
   "metadata": {},
   "outputs": [
    {
     "name": "stdout",
     "output_type": "stream",
     "text": [
      "외부 for문의 i 값은 0이고 내부 for문 j 값은 0 이다. ( 0, 0 )\n",
      "외부 for문의 i 값은 0이고 내부 for문 j 값은 1 이다. ( 0, 1 )\n",
      "외부 for문의 i 값은 1이고 내부 for문 j 값은 0 이다. ( 1, 0 )\n",
      "외부 for문의 i 값은 1이고 내부 for문 j 값은 1 이다. ( 1, 1 )\n",
      "외부 for문의 i 값은 2이고 내부 for문 j 값은 0 이다. ( 2, 0 )\n",
      "외부 for문의 i 값은 2이고 내부 for문 j 값은 1 이다. ( 2, 1 )\n"
     ]
    }
   ],
   "source": [
    "for i in range(0,3,1):\n",
    "    for j in range(0,2,1):\n",
    "        print(\"외부 for문의 i 값은 %d이고 내부 for문 j 값은 %d 이다. ( %d, %d )\" %(i,j,i,j))"
   ]
  },
  {
   "cell_type": "markdown",
   "metadata": {},
   "source": [
    "### 구구단 전체 출력"
   ]
  },
  {
   "cell_type": "code",
   "execution_count": 8,
   "metadata": {},
   "outputs": [
    {
     "name": "stdout",
     "output_type": "stream",
     "text": [
      "2 x 1 = 2\n",
      "2 x 2 = 4\n",
      "2 x 3 = 6\n",
      "2 x 4 = 8\n",
      "2 x 5 = 10\n",
      "2 x 6 = 12\n",
      "2 x 7 = 14\n",
      "2 x 8 = 16\n",
      "2 x 9 = 18\n",
      "\n",
      "3 x 1 = 3\n",
      "3 x 2 = 6\n",
      "3 x 3 = 9\n",
      "3 x 4 = 12\n",
      "3 x 5 = 15\n",
      "3 x 6 = 18\n",
      "3 x 7 = 21\n",
      "3 x 8 = 24\n",
      "3 x 9 = 27\n",
      "\n",
      "4 x 1 = 4\n",
      "4 x 2 = 8\n",
      "4 x 3 = 12\n",
      "4 x 4 = 16\n",
      "4 x 5 = 20\n",
      "4 x 6 = 24\n",
      "4 x 7 = 28\n",
      "4 x 8 = 32\n",
      "4 x 9 = 36\n",
      "\n",
      "5 x 1 = 5\n",
      "5 x 2 = 10\n",
      "5 x 3 = 15\n",
      "5 x 4 = 20\n",
      "5 x 5 = 25\n",
      "5 x 6 = 30\n",
      "5 x 7 = 35\n",
      "5 x 8 = 40\n",
      "5 x 9 = 45\n",
      "\n",
      "6 x 1 = 6\n",
      "6 x 2 = 12\n",
      "6 x 3 = 18\n",
      "6 x 4 = 24\n",
      "6 x 5 = 30\n",
      "6 x 6 = 36\n",
      "6 x 7 = 42\n",
      "6 x 8 = 48\n",
      "6 x 9 = 54\n",
      "\n",
      "7 x 1 = 7\n",
      "7 x 2 = 14\n",
      "7 x 3 = 21\n",
      "7 x 4 = 28\n",
      "7 x 5 = 35\n",
      "7 x 6 = 42\n",
      "7 x 7 = 49\n",
      "7 x 8 = 56\n",
      "7 x 9 = 63\n",
      "\n",
      "8 x 1 = 8\n",
      "8 x 2 = 16\n",
      "8 x 3 = 24\n",
      "8 x 4 = 32\n",
      "8 x 5 = 40\n",
      "8 x 6 = 48\n",
      "8 x 7 = 56\n",
      "8 x 8 = 64\n",
      "8 x 9 = 72\n",
      "\n",
      "9 x 1 = 9\n",
      "9 x 2 = 18\n",
      "9 x 3 = 27\n",
      "9 x 4 = 36\n",
      "9 x 5 = 45\n",
      "9 x 6 = 54\n",
      "9 x 7 = 63\n",
      "9 x 8 = 72\n",
      "9 x 9 = 81\n",
      "\n"
     ]
    }
   ],
   "source": [
    "i = 0\n",
    "dan = 0\n",
    "for dan in range(2,10,1):\n",
    "    for i in range(1, 10, 1):\n",
    "        print(\"%d x %d = %d\" %(dan, i, dan*i))\n",
    "    print(\"\")"
   ]
  },
  {
   "cell_type": "markdown",
   "metadata": {},
   "source": [
    "### 구구단 가로로 출력"
   ]
  },
  {
   "cell_type": "code",
   "execution_count": 31,
   "metadata": {},
   "outputs": [
    {
     "name": "stdout",
     "output_type": "stream",
     "text": [
      "          2단          3단          4단          5단          6단          7단          8단          9단\n",
      "  2 x 1 =  2  3 x 1 =  3  4 x 1 =  4  5 x 1 =  5  6 x 1 =  6  7 x 1 =  7  8 x 1 =  8  9 x 1 =  9\n",
      "  2 x 2 =  4  3 x 2 =  6  4 x 2 =  8  5 x 2 = 10  6 x 2 = 12  7 x 2 = 14  8 x 2 = 16  9 x 2 = 18\n",
      "  2 x 3 =  6  3 x 3 =  9  4 x 3 = 12  5 x 3 = 15  6 x 3 = 18  7 x 3 = 21  8 x 3 = 24  9 x 3 = 27\n",
      "  2 x 4 =  8  3 x 4 = 12  4 x 4 = 16  5 x 4 = 20  6 x 4 = 24  7 x 4 = 28  8 x 4 = 32  9 x 4 = 36\n",
      "  2 x 5 = 10  3 x 5 = 15  4 x 5 = 20  5 x 5 = 25  6 x 5 = 30  7 x 5 = 35  8 x 5 = 40  9 x 5 = 45\n",
      "  2 x 6 = 12  3 x 6 = 18  4 x 6 = 24  5 x 6 = 30  6 x 6 = 36  7 x 6 = 42  8 x 6 = 48  9 x 6 = 54\n",
      "  2 x 7 = 14  3 x 7 = 21  4 x 7 = 28  5 x 7 = 35  6 x 7 = 42  7 x 7 = 49  8 x 7 = 56  9 x 7 = 63\n",
      "  2 x 8 = 16  3 x 8 = 24  4 x 8 = 32  5 x 8 = 40  6 x 8 = 48  7 x 8 = 56  8 x 8 = 64  9 x 8 = 72\n",
      "  2 x 9 = 18  3 x 9 = 27  4 x 9 = 36  5 x 9 = 45  6 x 9 = 54  7 x 9 = 63  8 x 9 = 72  9 x 9 = 81\n"
     ]
    }
   ],
   "source": [
    "i = 0\n",
    "dan = 0\n",
    "line = \"\"\n",
    "\n",
    "# 단 적힌 가로줄 첫 번째줄 출력\n",
    "for dan in range(2,10,1):\n",
    "    line = line+ (\"%11d단\"% dan )\n",
    "print(line)\n",
    "\n",
    "\n",
    "# 가로에서는 내부 변수와 외부 변수 바뀜. 여기서는 i가 외부, dan이 내부\n",
    "for i in range(1,10,1):\n",
    "    line = \"\" #변수에 맨 위에서 출력한 타이틀이 저장되어 있으므로 초기화\n",
    "    \n",
    "    #1에 대한 곱을 2단부터 3단까지 출력\n",
    "    #그 뒤 2에 대한 곱, 3, 4, ..., 9까지 반복\n",
    "    \n",
    "    for dan in range(2,10,1):\n",
    "        line = line + str(\"%3d x %d = %2d\"%(dan, i, dan*i))\n",
    "    print(line)"
   ]
  },
  {
   "cell_type": "markdown",
   "metadata": {},
   "source": [
    "## while문"
   ]
  },
  {
   "cell_type": "code",
   "execution_count": 35,
   "metadata": {},
   "outputs": [
    {
     "name": "stdout",
     "output_type": "stream",
     "text": [
      "반복횟수 1 그리고 i 값은 0\n",
      "반복횟수 2 그리고 i 값은 1\n",
      "반복횟수 3 그리고 i 값은 2\n"
     ]
    }
   ],
   "source": [
    "i = 0\n",
    "while (i < 3):\n",
    "    print(\"반복횟수 %d 그리고 i 값은 %d\"%(i+1,i))\n",
    "    i+=1"
   ]
  },
  {
   "cell_type": "markdown",
   "metadata": {},
   "source": [
    "### 1에서 10까지의 합"
   ]
  },
  {
   "cell_type": "code",
   "execution_count": null,
   "metadata": {},
   "outputs": [],
   "source": [
    "i ,sum = 0,0\n",
    "\n",
    "i=1\n",
    "while(i<11):\n",
    "    sum+=i\n",
    "    i+=1\n",
    "print(sum)\n",
    "\n",
    "#5050"
   ]
  },
  {
   "cell_type": "markdown",
   "metadata": {},
   "source": [
    "### 무한 반복\n",
    "- 끝내려면 ctrl + c"
   ]
  },
  {
   "cell_type": "code",
   "execution_count": null,
   "metadata": {},
   "outputs": [],
   "source": [
    "sum = 0\n",
    "num1,num2=0,0\n",
    "\n",
    "while(True):\n",
    "    num1 = int(input(\"더할 첫 번째 수 \"))\n",
    "    num2 = int(input(\"더할 두 번째 수 \"))\n",
    "    print (\"%d + %d = %d\\n\"%(num1,num2,num1+num2))"
   ]
  },
  {
   "cell_type": "code",
   "execution_count": null,
   "metadata": {},
   "outputs": [],
   "source": [
    "sum = 0\n",
    "num1,num2=0,0\n",
    "char = \"\"\n",
    "\n",
    "while(True):\n",
    "    num1 = int(input(\"첫 번째 수 \"))\n",
    "    num2 = int(input(\"두 번째 수 \"))\n",
    "    char = input(\"계산할 연산자 (+,-,*,/ 중에서 입력): \")\n",
    "    \n",
    "    if(char == \"+\"):\n",
    "        print (\"%d + %d = %d\\n\"%(num1,num2,num1+num2))\n",
    "    elif(char == \"-\"):\n",
    "        print (\"%d - %d = %d\\n\"%(num1,num2,num1-num2))\n",
    "    elif(char == \"*\"):\n",
    "        print (\"%d * %d = %d\\n\"%(num1,num2,num1*num2))\n",
    "    elif(char == \"/\"):\n",
    "        print (\"%d / %d = %5.2f\\n\"%(num1,num2,num1/num2))\n",
    "    else:\n",
    "        print(\"+,-,*,/ 중에서 입력하세요\")"
   ]
  },
  {
   "cell_type": "markdown",
   "metadata": {},
   "source": [
    "## break과 continue\n",
    "\n",
    "- break 만나면 다시 위로 올라가지 않고 반복문 밖으로 무조건 탈출. 매우 유용\n",
    "- break은 for문 보다는 주로 while에서 사용\n",
    "- continue는 continue가 실행된 이후의 반복문 내용은 건너뛰고 다시 위로 올라가서 반복문 다시 수행.\n",
    "- continue보다 break!\n"
   ]
  },
  {
   "cell_type": "code",
   "execution_count": null,
   "metadata": {},
   "outputs": [],
   "source": [
    "sum = 0\n",
    "num1,num2=0,0\n",
    "\n",
    "while(True):\n",
    "    num1 = int(input(\"더할 첫 번째 수 \"))\n",
    "    if num1==0:\n",
    "        break\n",
    "        \n",
    "    num2 = int(input(\"더할 두 번째 수 \"))\n",
    "    print (\"%d + %d = %d\\n\"%(num1,num2,num1+num2))\n",
    "    \n",
    "print(\"0을 입력해 반복문을 탈출했습니다.\")"
   ]
  },
  {
   "cell_type": "markdown",
   "metadata": {},
   "source": [
    "### 누적 합계가 1000이상이 되는 시작 시점 알기"
   ]
  },
  {
   "cell_type": "code",
   "execution_count": null,
   "metadata": {},
   "outputs": [],
   "source": [
    "sum ,i=0,0\n",
    "\n",
    "for i in range(1,100,1):\n",
    "    sum += i\n",
    "    \n",
    "    if (sum>=1000):\n",
    "        break\n",
    "print(\"1부터 더했을 때, 1000이상이 되는 시점은 숫자 %d 입니다.\"% i)\n",
    "\n",
    "#45"
   ]
  },
  {
   "cell_type": "markdown",
   "metadata": {},
   "source": [
    "### 1~100의 합, 대신 3의 배수 제외하고 더하기"
   ]
  },
  {
   "cell_type": "code",
   "execution_count": null,
   "metadata": {},
   "outputs": [],
   "source": [
    "sum ,i=0,0\n",
    "\n",
    "for i in range(1,101,1):\n",
    "    \n",
    "    if ( i %3 == 0):\n",
    "        continue\n",
    "    sum += i\n",
    "        \n",
    "print(\"1~100의 합계 (3의 배수 제외) : %d\"% sum)\n"
   ]
  },
  {
   "cell_type": "code",
   "execution_count": null,
   "metadata": {},
   "outputs": [],
   "source": []
  }
 ],
 "metadata": {
  "kernelspec": {
   "display_name": "Python 3",
   "language": "python",
   "name": "python3"
  },
  "language_info": {
   "codemirror_mode": {
    "name": "ipython",
    "version": 3
   },
   "file_extension": ".py",
   "mimetype": "text/x-python",
   "name": "python",
   "nbconvert_exporter": "python",
   "pygments_lexer": "ipython3",
   "version": "3.7.6"
  }
 },
 "nbformat": 4,
 "nbformat_minor": 4
}
