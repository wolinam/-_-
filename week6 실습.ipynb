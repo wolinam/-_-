{
 "cells": [
  {
   "cell_type": "markdown",
   "metadata": {},
   "source": [
    "## 실습1. 딕셔너리 자료형을 사용하여 영어단어를 입력하면 한글로 출력하는 영한 사전을 코드로 작성하세요._퀴즈1"
   ]
  },
  {
   "cell_type": "code",
   "execution_count": 25,
   "metadata": {},
   "outputs": [
    {
     "name": "stdout",
     "output_type": "stream",
     "text": [
      "단어를 입력하세요 : five\n",
      "없습니다.\n"
     ]
    }
   ],
   "source": [
    "dic = {'one':'하나','two':'둘','three':'셋','four':'넷'}\n",
    "word = str(input(\"단어를 입력하세요 : \"))\n",
    "\n",
    "for i in dic.keys():\n",
    "    if(word == i):\n",
    "        print(dic[i])\n",
    "    else:\n",
    "        print('없습니다.')\n",
    "        break"
   ]
  },
  {
   "cell_type": "code",
   "execution_count": 23,
   "metadata": {},
   "outputs": [
    {
     "name": "stdout",
     "output_type": "stream",
     "text": [
      "단어를 입력하세요.five\n",
      "없는 단어 입니다.\n"
     ]
    }
   ],
   "source": [
    "#교수님 코드\n",
    "dict = {\"one\" : \"하나\", \"two\" : \"둘\", \"three\" : \"셋\", \"four\" : \"넷\"}\n",
    "word = input(\"단어를 입력하세요.\")\n",
    "print(dict.get(word,\"없는 단어 입니다.\"))"
   ]
  },
  {
   "cell_type": "markdown",
   "metadata": {},
   "source": [
    "## 실습2 음식 궁합"
   ]
  },
  {
   "cell_type": "code",
   "execution_count": 19,
   "metadata": {},
   "outputs": [
    {
     "name": "stdout",
     "output_type": "stream",
     "text": [
      "['떡볶이', '짜장면', '라면', '피자', '맥주', '치킨', '삼겹살']중 좋아하는 음식은?떡볶이\n",
      "<떡볶이> 궁합 음식은 <오뎅> 입니다.\n",
      "['떡볶이', '짜장면', '라면', '피자', '맥주', '치킨', '삼겹살']중 좋아하는 음식은?끝\n"
     ]
    }
   ],
   "source": [
    "food = {'떡볶이':'오뎅','짜장면':'단무지','라면':'김치','피자':'피클','맥주':'땅콩','치킨':'치킨무','삼겹살':'상추'}\n",
    "\n",
    "while (True):\n",
    "    myfood = input(str(list(food.keys()))+\"중 좋아하는 음식은?\")\n",
    "    \n",
    "    if myfood in food:\n",
    "        print(\"<%s> 궁합 음식은 <%s> 입니다.\"%(myfood, food.get(myfood)))\n",
    "    elif myfood == '끝':\n",
    "        break\n",
    "    else:\n",
    "        print(\"그런 음식이 없습니다. 확인해 보세요.\")"
   ]
  },
  {
   "cell_type": "markdown",
   "metadata": {},
   "source": [
    "## 퀴즈3_다음 코드를 수정하여 동물의 어미와 새끼의 이름을 딕셔너리로 묶는 프로그램을 작성해 보세요."
   ]
  },
  {
   "cell_type": "code",
   "execution_count": null,
   "metadata": {},
   "outputs": [],
   "source": [
    "## 변수 선언 부분 ##\n",
    "foods = {\"떡볶이\":\"오뎅\", \n",
    "            \"짜장면\":\"단무지\",\n",
    "            \"라면\":\"김치\",\n",
    "            \"피자\":\"피클\",\n",
    "            \"맥주\":\"땅콩\",\n",
    "            \"치킨\":\"치킨무\",\n",
    "            \"삼겹살\":\"상추\" };\n",
    "\n",
    "## 메인 코드 부분 ##\n",
    "while (True) :\n",
    "    myfood = input(str(list(foods.keys())) + \" 중 좋아하는 음식은?\")\n",
    "    if myfood in foods :\n",
    "        print(\"<%s> 궁합 음식은 <%s>입니다.\" % (myfood, foods.get(myfood)))\n",
    "    elif myfood == \"끝\" :\n",
    "        break\n",
    "    else :\n",
    "        print(\"그런 음식이 없습니다. 확인해 보세요.\")"
   ]
  },
  {
   "cell_type": "markdown",
   "metadata": {},
   "source": [
    "## 실습3 동물이름"
   ]
  },
  {
   "cell_type": "code",
   "execution_count": 27,
   "metadata": {},
   "outputs": [
    {
     "name": "stdout",
     "output_type": "stream",
     "text": [
      "['닭', '개', '곰', '고등어', '명태', '말', '호랑이']중 새끼 이름을 알고 싶은 동물은? 곰\n",
      "<곰>의 새끼는 <능소니> 입니다.\n",
      "['닭', '개', '곰', '고등어', '명태', '말', '호랑이']중 새끼 이름을 알고 싶은 동물은? 호랑이\n",
      "<호랑이>의 새끼는 <개호주> 입니다.\n",
      "['닭', '개', '곰', '고등어', '명태', '말', '호랑이']중 새끼 이름을 알고 싶은 동물은? 말\n",
      "<말>의 새끼는 <망아지> 입니다.\n",
      "['닭', '개', '곰', '고등어', '명태', '말', '호랑이']중 새끼 이름을 알고 싶은 동물은? 고등어\n",
      "<고등어>의 새끼는 <고도리> 입니다.\n",
      "['닭', '개', '곰', '고등어', '명태', '말', '호랑이']중 새끼 이름을 알고 싶은 동물은? 명태\n",
      "<명태>의 새끼는 <노가리> 입니다.\n",
      "['닭', '개', '곰', '고등어', '명태', '말', '호랑이']중 새끼 이름을 알고 싶은 동물은? 개\n",
      "<개>의 새끼는 <강아지> 입니다.\n",
      "['닭', '개', '곰', '고등어', '명태', '말', '호랑이']중 새끼 이름을 알고 싶은 동물은? 닭\n",
      "<닭>의 새끼는 <병아리> 입니다.\n",
      "['닭', '개', '곰', '고등어', '명태', '말', '호랑이']중 새끼 이름을 알고 싶은 동물은? 끝\n"
     ]
    }
   ],
   "source": [
    "animal = {'닭':'병아리','개':'강아지','곰':'능소니','고등어':'고도리','명태':'노가리','말':'망아지','호랑이':'개호주'}\n",
    "\n",
    "while(True):\n",
    "    baby = input(str(list(animal.keys()))+'중 새끼 이름을 알고 싶은 동물은? ')\n",
    "    if baby in animal:\n",
    "        print('<%s>의 새끼는 <%s> 입니다.'%(baby,animal.get(baby)))\n",
    "    elif baby == '끝':\n",
    "        break\n",
    "    else:\n",
    "        print('항목에 없습니다. 확인해 보세요.')"
   ]
  },
  {
   "cell_type": "markdown",
   "metadata": {},
   "source": [
    "## 실습4 전화번호부 만들기_퀴즈2"
   ]
  },
  {
   "cell_type": "code",
   "execution_count": null,
   "metadata": {},
   "outputs": [],
   "source": [
    "phone = {}\n",
    "while(True):\n",
    "    a = input('1) 전화번호 저장, 2) 전화번호 검색 ')\n",
    "    if(a=='1'):\n",
    "        name = str(input('저장할 사용자의 이름을 입력하세요. '))\n",
    "        num = str(input('전화번호를 입력하세요. '))\n",
    "        phone[name]=num\n",
    "    elif(a=='2'):\n",
    "        name = str(input('검색할 사용자의 이름을 입력하세요. '))\n",
    "        if name in phone:\n",
    "            print(phone[name])\n",
    "        else:\n",
    "            print('존재하지 않는 사용자 입니다.')\n",
    "    elif(a=='끝'):\n",
    "        break\n",
    "    else:\n",
    "        print('1과 2중에 선택해주세요.')\n",
    "        continue\n"
   ]
  },
  {
   "cell_type": "code",
   "execution_count": null,
   "metadata": {},
   "outputs": [],
   "source": [
    "##교수님 코드\n",
    "contacts = {}\n",
    "\n",
    "while True :\n",
    "    mode = input(\"1) 전화번호 저장, 2) 전화번호 검색 \")\n",
    "    if mode == \"1\" :\n",
    "        name = input(\"저장할 사용자의 이름을 입력하세요. \")\n",
    "        tel = input(\"전화번호를 입력하세요. \")\n",
    "        contacts[name] = tel\n",
    "    else :\n",
    "        name = input(\"검색할 사용자의 이름을 입력하세요. \")\n",
    "        print(contacts.get(name, \"존재하지 않는 사용자 입니다.\"))\n"
   ]
  },
  {
   "cell_type": "code",
   "execution_count": null,
   "metadata": {},
   "outputs": [],
   "source": []
  }
 ],
 "metadata": {
  "kernelspec": {
   "display_name": "Python 3",
   "language": "python",
   "name": "python3"
  },
  "language_info": {
   "codemirror_mode": {
    "name": "ipython",
    "version": 3
   },
   "file_extension": ".py",
   "mimetype": "text/x-python",
   "name": "python",
   "nbconvert_exporter": "python",
   "pygments_lexer": "ipython3",
   "version": "3.7.6"
  }
 },
 "nbformat": 4,
 "nbformat_minor": 4
}
